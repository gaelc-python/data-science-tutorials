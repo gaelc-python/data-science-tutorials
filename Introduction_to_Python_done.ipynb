{
  "cells": [
    {
      "cell_type": "markdown",
      "metadata": {
        "id": "view-in-github",
        "colab_type": "text"
      },
      "source": [
        "<a href=\"https://colab.research.google.com/github/gaelc-python/data-science-tutorials/blob/master/Introduction_to_Python_done.ipynb\" target=\"_parent\"><img src=\"https://colab.research.google.com/assets/colab-badge.svg\" alt=\"Open In Colab\"/></a>"
      ]
    },
    {
      "cell_type": "markdown",
      "metadata": {
        "id": "sckeHT1EUFeA"
      },
      "source": [
        "# Introduction to Python"
      ]
    },
    {
      "cell_type": "markdown",
      "metadata": {
        "id": "6cBMGmoCUFeE"
      },
      "source": [
        "[Originally written](https://www.math.univ-toulouse.fr/~xgendre/ens/m2se/introduction_to_python.pdf) by [Xavier Gendre](https://www.math.univ-toulouse.fr/~xgendre/), adapted to the Jupyter Notebook format by [Max Halford](https://maxhalford.github.io/)."
      ]
    },
    {
      "cell_type": "markdown",
      "metadata": {
        "id": "byypdUjSUFeE"
      },
      "source": [
        "## Contents"
      ]
    },
    {
      "cell_type": "markdown",
      "metadata": {
        "id": "gdwFzygaUFeF"
      },
      "source": [
        "## License"
      ]
    },
    {
      "cell_type": "markdown",
      "metadata": {
        "id": "8eTQo1f1UFeF"
      },
      "source": [
        "This work is licensed under a Creative Commons Attribution - NonCommercial -ShareAlike 4.0 International License. To obtain a copy of this license, please visit [https://creativecommons.org/licenses/by-nc-sa/4.0/](https://creativecommons.org/licenses/by-nc-sa/4.0/)."
      ]
    },
    {
      "cell_type": "markdown",
      "metadata": {
        "id": "vJvy_wH6UFeF"
      },
      "source": [
        "## Preliminaries"
      ]
    },
    {
      "cell_type": "markdown",
      "metadata": {
        "id": "f8BZ976sUFeG"
      },
      "source": [
        "### What is Python?"
      ]
    },
    {
      "cell_type": "markdown",
      "metadata": {
        "id": "TK2kTTfTUFeG"
      },
      "source": [
        "[Python](https://www.python.org/) is a widely used programming language initially implemented in 1989 by Guido van\n",
        "Rossum who is still playing an important role in the Python community. Its reference imple-mentation, called CPython, is managed by the [Python Software Fundation](https://www.python.org/psf-landing/) and distributed according to the [Python Software Foundation License](https://docs.python.org/3/license.html). This licence is compatible with the GNU General Public License and approved by the Open Source Initiative, thus CPython is free and open-source software.\n",
        "\n",
        "To run Python code, a specific software called interpreter is needed. Such softwares are available for many operating systems, allowing Python code to run on a wide variety of systems. Commonly, installing Python amounts to get and install such an interpreter from the [Download page](https://www.python.org/downloads/) of the project.\n",
        "\n",
        "The Python philosophy is summarized in a sequence of aphorisms known as [PEP 20](https://www.python.org/dev/peps/pep-0020/). It gives a great importance to code readability and to the capacity to express concepts in few lines of code. The ability to produce good code in the sense of this philosophy comes with reading and writing code, a lot of code! Anyone who wants to produce Python code has to read the [PEP 8](https://www.python.org/dev/peps/pep-0008/#code-lay-out) and to deeply thinks about the advices given in this document. Python supports multiple programming paradigms, including object-oriented, imperative and functional programming or procedural styles. It features a dynamic type system and automatic memory management and has a large and comprehensive standard library."
      ]
    },
    {
      "cell_type": "markdown",
      "metadata": {
        "id": "HurDFVKjUFeH"
      },
      "source": [
        "### About Python versions"
      ]
    },
    {
      "cell_type": "markdown",
      "metadata": {
        "id": "d3xYzcViUFeI"
      },
      "source": [
        "Nowadays, two distinct versions of Python coexist, the version 2 and version 3. These versions are not compatible. This is an important point to keep in mind, especially when help or code examples are searched on the Web. A list of the main incompatibilities (and problems to solve when porting code from Python 2.x to Python 3.x) can be found in an article of Guido van Rossum called [What’s New In Python 3.0](https://docs.python.org/3/whatsnew/3.0.html).\n",
        "\n",
        "The last release of version 2 is Python 2.7 and it was announced in November 2014 that\n",
        "this is the last one, no 2.8 will be released in the future. This version is supported until 2020 but the users are deeply encouraged to move to version 3 as soon as possible.\n",
        "\n",
        "The current stable release is Python 3.7 and the development version is 3.8. Some attention should be paid to that when documentation pages are browsed. In the sequel of this document, Python 3.7 is silently assumed in all the examples."
      ]
    },
    {
      "cell_type": "markdown",
      "metadata": {
        "id": "s3LnzNMDUFeI"
      },
      "source": [
        "### Where to find help?"
      ]
    },
    {
      "cell_type": "markdown",
      "metadata": {
        "id": "6Fa25iKEUFeJ"
      },
      "source": [
        "An undeniable force of Python language is its large community. A lot of tutorials, forum threads, articles, ... can easily be found on the Web. Again, it is important to ensure version compatiblity when pieces of code are found in such a way.\n",
        "\n",
        "[Official documentation](https://docs.python.org/3/) is an endless source of information about the language and its ecosystem. By default, the documentation is the one for the development version of Python (currently, version 3.7.4). In the top left corner of the page, a selector allows to choose what is the required version. Picking 3.7 leads to documentation for the latest stable release, namely version 3.7.4.\n",
        "\n",
        "As usual with programming languages, a lot of questions are answered in [Stack Overflow](https://stackoverflow.com/). A good advice when some problem is encountered is to first browse these pages before posting elsewhere.\n",
        "\n",
        "A very useful feature of using Jupyter Notebooks is that can prefix a function with a `?` to access their documentation. For example:"
      ]
    },
    {
      "cell_type": "code",
      "execution_count": null,
      "metadata": {
        "id": "G0z2WiMBUFeJ"
      },
      "outputs": [],
      "source": [
        "?max"
      ]
    },
    {
      "cell_type": "markdown",
      "metadata": {
        "id": "uokSPShsUFeL"
      },
      "source": [
        "In some cases using `??` will also display the source code of the function."
      ]
    },
    {
      "cell_type": "markdown",
      "metadata": {
        "id": "MKg1R99QUFeL"
      },
      "source": [
        "## A programming language"
      ]
    },
    {
      "cell_type": "markdown",
      "metadata": {
        "id": "wo1CS4oqUFeL"
      },
      "source": [
        "### Variables"
      ]
    },
    {
      "cell_type": "markdown",
      "metadata": {
        "id": "qKfBhG9iUFeM"
      },
      "source": [
        "A *variable* is a symbolic name associated with a value. In Python, the name of a variable has\n",
        "to follow several rules:\n",
        "\n",
        "- it must start with a letter or an underscore,\n",
        "- remainder characters may consist of letters, numbers and underscores.\n",
        "\n",
        "Valid variable name examples are `my_var`, `_var`, `_MyVar01`, `x42_`, ... Moreover, like everything else in Python, variable names are **case sensitive**, i.e. `myVar`, `MyVar` and `mYvaR` are three distinct variable names.\n",
        "\n",
        "To assign a value to a variable, we use the operator `=` with the variable name on the left and the value to assign on the right. If the variable does not yet exist, it is created. Otherwise, its value is simply modified."
      ]
    },
    {
      "cell_type": "code",
      "execution_count": null,
      "metadata": {
        "id": "Po7Mv8tCUFeM",
        "outputId": "7323339f-29f5-4c26-f2e9-34fe41b26ce7",
        "colab": {
          "base_uri": "https://localhost:8080/"
        }
      },
      "outputs": [
        {
          "output_type": "stream",
          "name": "stdout",
          "text": [
            "17\n",
            "8\n"
          ]
        }
      ],
      "source": [
        "a = 17\n",
        "print(a)\n",
        "a = 8\n",
        "print(a)"
      ]
    },
    {
      "cell_type": "markdown",
      "metadata": {
        "id": "Guv07bhTUFeM"
      },
      "source": [
        "If you try to use a variable that is not defined, you will get an error:"
      ]
    },
    {
      "cell_type": "code",
      "execution_count": null,
      "metadata": {
        "id": "FLxkF2uuUFeN",
        "outputId": "3b6ae1df-5b23-4d1a-8e72-5ce9d65ed533",
        "colab": {
          "base_uri": "https://localhost:8080/",
          "height": 166
        }
      },
      "outputs": [
        {
          "output_type": "error",
          "ename": "NameError",
          "evalue": "ignored",
          "traceback": [
            "\u001b[0;31m---------------------------------------------------------------------------\u001b[0m",
            "\u001b[0;31mNameError\u001b[0m                                 Traceback (most recent call last)",
            "\u001b[0;32m<ipython-input-40-b3b3b04032c5>\u001b[0m in \u001b[0;36m<module>\u001b[0;34m\u001b[0m\n\u001b[0;32m----> 1\u001b[0;31m \u001b[0mprint\u001b[0m\u001b[0;34m(\u001b[0m\u001b[0mundefined_variable\u001b[0m\u001b[0;34m)\u001b[0m\u001b[0;34m\u001b[0m\u001b[0;34m\u001b[0m\u001b[0m\n\u001b[0m",
            "\u001b[0;31mNameError\u001b[0m: name 'undefined_variable' is not defined"
          ]
        }
      ],
      "source": [
        " print(undefined_variable)"
      ]
    },
    {
      "cell_type": "markdown",
      "metadata": {
        "id": "UJ3rV0XFUFeN"
      },
      "source": [
        "The mechanism to handle errors in Python will be covered later in this document.\n",
        "\n",
        "The content of a variable has a *type*, i.e. a category that determines the possible values.\n",
        "Usual types are boolean, integer, real number, string, . . . To know the type of a variable, we\n",
        "use the function `type`:"
      ]
    },
    {
      "cell_type": "code",
      "execution_count": null,
      "metadata": {
        "id": "lB3qIQZeUFeN"
      },
      "outputs": [],
      "source": [
        "x = True; type(x)"
      ]
    },
    {
      "cell_type": "code",
      "execution_count": null,
      "metadata": {
        "id": "dRDkQWO5UFeN"
      },
      "outputs": [],
      "source": [
        "x = 42; type(x)"
      ]
    },
    {
      "cell_type": "code",
      "execution_count": null,
      "metadata": {
        "id": "xq19u__cUFeO"
      },
      "outputs": [],
      "source": [
        "x = 42.0; type(x)"
      ]
    },
    {
      "cell_type": "code",
      "execution_count": null,
      "metadata": {
        "id": "3309ZnzXUFeO"
      },
      "outputs": [],
      "source": [
        "x = 'Hello World!'; type(x)"
      ]
    },
    {
      "cell_type": "markdown",
      "metadata": {
        "id": "8QxtV1jzUFeO"
      },
      "source": [
        "The properties of common types will be introduced in the next section. This is important to bear in mind that Python has typed objects but untyped variable names. It means that the content of the variable has a type, not the variable itself. This is why we could assign contents from various types to x in the previous example without any trouble. In Python, the assignment of a value to a variable amounts to make the variable names pointing to a specific location in the memory which contains the value itself. This location in the memory is called an address and assigning a value with a different type to a variable simply consists in making this address pointing elsewhere in the memory. To get the address, we use the function `id`:"
      ]
    },
    {
      "cell_type": "code",
      "execution_count": null,
      "metadata": {
        "id": "goFp4cUIUFeO"
      },
      "outputs": [],
      "source": [
        "x = True; id(x)"
      ]
    },
    {
      "cell_type": "code",
      "execution_count": null,
      "metadata": {
        "id": "f8VZScR6UFeP"
      },
      "outputs": [],
      "source": [
        "x = 1234; id(x)"
      ]
    },
    {
      "cell_type": "markdown",
      "metadata": {
        "id": "-wPMo284UFeP"
      },
      "source": [
        "If the same value is assigned to two distinct variable names, both of them can point to the\n",
        "same address, avoiding data replication. To test this mechanism, we can use operators `is`\n",
        "and `is not` to for object identity:"
      ]
    },
    {
      "cell_type": "code",
      "execution_count": null,
      "metadata": {
        "id": "qrP7rcO4UFeP"
      },
      "outputs": [],
      "source": [
        "x = 42; id(x)"
      ]
    },
    {
      "cell_type": "code",
      "execution_count": null,
      "metadata": {
        "id": "rS95srSOUFeP"
      },
      "outputs": [],
      "source": [
        "y = 42; id(y)"
      ]
    },
    {
      "cell_type": "code",
      "execution_count": null,
      "metadata": {
        "id": "puEGPLekUFeQ",
        "outputId": "2e1d3c05-090b-4ae0-c6c6-38b8b4297daf",
        "colab": {
          "base_uri": "https://localhost:8080/"
        }
      },
      "outputs": [
        {
          "output_type": "execute_result",
          "data": {
            "text/plain": [
              "11123936"
            ]
          },
          "metadata": {},
          "execution_count": 41
        }
      ],
      "source": [
        "z = 43; id(z)"
      ]
    },
    {
      "cell_type": "code",
      "execution_count": null,
      "metadata": {
        "id": "1wfBqs0sUFeQ",
        "outputId": "5252bb1d-df19-4382-ec70-f6db40286d2e",
        "colab": {
          "base_uri": "https://localhost:8080/"
        }
      },
      "outputs": [
        {
          "output_type": "execute_result",
          "data": {
            "text/plain": [
              "False"
            ]
          },
          "metadata": {},
          "execution_count": 42
        }
      ],
      "source": [
        "x is y"
      ]
    },
    {
      "cell_type": "code",
      "execution_count": null,
      "metadata": {
        "id": "aTZGF3t0UFeQ",
        "outputId": "75bff719-d683-445c-9e96-aee8d34a2993",
        "colab": {
          "base_uri": "https://localhost:8080/"
        }
      },
      "outputs": [
        {
          "output_type": "execute_result",
          "data": {
            "text/plain": [
              "True"
            ]
          },
          "metadata": {},
          "execution_count": 43
        }
      ],
      "source": [
        "x is not z"
      ]
    },
    {
      "cell_type": "markdown",
      "metadata": {
        "id": "Yo1bQNszUFeQ"
      },
      "source": [
        "When a variable name is no longer needed, it is possible to break the link with a memory\n",
        "location and to delete it with the operator `del`:"
      ]
    },
    {
      "cell_type": "code",
      "execution_count": null,
      "metadata": {
        "id": "wHbjZwBYUFeQ",
        "outputId": "94f9811a-f63e-4a19-8c32-28587cb62160",
        "colab": {
          "base_uri": "https://localhost:8080/"
        }
      },
      "outputs": [
        {
          "output_type": "stream",
          "name": "stdout",
          "text": [
            "I exist!\n"
          ]
        }
      ],
      "source": [
        "x = 'I exist!'\n",
        "print(x)"
      ]
    },
    {
      "cell_type": "code",
      "execution_count": null,
      "metadata": {
        "id": "VfQPz9sDUFeR",
        "outputId": "25fcfc19-1be6-4402-a7ad-da9f47b21936",
        "colab": {
          "base_uri": "https://localhost:8080/",
          "height": 183
        }
      },
      "outputs": [
        {
          "output_type": "error",
          "ename": "NameError",
          "evalue": "ignored",
          "traceback": [
            "\u001b[0;31m---------------------------------------------------------------------------\u001b[0m",
            "\u001b[0;31mNameError\u001b[0m                                 Traceback (most recent call last)",
            "\u001b[0;32m<ipython-input-45-8c23cd95a3fd>\u001b[0m in \u001b[0;36m<module>\u001b[0;34m\u001b[0m\n\u001b[1;32m      1\u001b[0m \u001b[0;32mdel\u001b[0m \u001b[0mx\u001b[0m\u001b[0;34m\u001b[0m\u001b[0;34m\u001b[0m\u001b[0m\n\u001b[0;32m----> 2\u001b[0;31m \u001b[0mprint\u001b[0m\u001b[0;34m(\u001b[0m\u001b[0mx\u001b[0m\u001b[0;34m)\u001b[0m\u001b[0;34m\u001b[0m\u001b[0;34m\u001b[0m\u001b[0m\n\u001b[0m",
            "\u001b[0;31mNameError\u001b[0m: name 'x' is not defined"
          ]
        }
      ],
      "source": [
        "del x\n",
        "print(x)"
      ]
    },
    {
      "cell_type": "markdown",
      "metadata": {
        "id": "sHezjBxzUFeR"
      },
      "source": [
        "### Standard types"
      ]
    },
    {
      "cell_type": "markdown",
      "metadata": {
        "id": "XchY3ExbUFeR"
      },
      "source": [
        "#### Boolean"
      ]
    },
    {
      "cell_type": "markdown",
      "metadata": {
        "id": "81VY04JJUFeR"
      },
      "source": [
        "The type `bool` can only take two values: `True` and `False`. Operators `not`, `and` and `or` allow to combine them to produce other boolean values."
      ]
    },
    {
      "cell_type": "code",
      "execution_count": null,
      "metadata": {
        "id": "y9B0lQQBUFeR"
      },
      "outputs": [],
      "source": [
        "x = True\n",
        "type(x)"
      ]
    },
    {
      "cell_type": "code",
      "execution_count": null,
      "metadata": {
        "id": "2DuOBMfzUFeS"
      },
      "outputs": [],
      "source": [
        "print(x)"
      ]
    },
    {
      "cell_type": "code",
      "execution_count": null,
      "metadata": {
        "id": "sgpqPdgCUFeS"
      },
      "outputs": [],
      "source": [
        "print(not x)"
      ]
    },
    {
      "cell_type": "code",
      "execution_count": null,
      "metadata": {
        "id": "6O1yOLHWUFeS"
      },
      "outputs": [],
      "source": [
        "y = False\n",
        "print(x and y)"
      ]
    },
    {
      "cell_type": "code",
      "execution_count": null,
      "metadata": {
        "id": "oh-seh2KUFeS"
      },
      "outputs": [],
      "source": [
        "print(x and not y)"
      ]
    },
    {
      "cell_type": "code",
      "execution_count": null,
      "metadata": {
        "id": "1wQmiSOOUFeT"
      },
      "outputs": [],
      "source": [
        "print(x or y)"
      ]
    },
    {
      "cell_type": "code",
      "execution_count": null,
      "metadata": {
        "id": "Vb-0C83yUFeT"
      },
      "outputs": [],
      "source": [
        "print(not x or y)"
      ]
    },
    {
      "cell_type": "markdown",
      "metadata": {
        "id": "Dxw9H4KYUFeT"
      },
      "source": [
        "Booleans mainly appear in conditional structures (see explanations further) to test some\n",
        "conditions. Nevertheless, in Python, a lot of not boolean values are considered false:\n",
        "\n",
        "- special value `None` which is a null value, i.e. a value assigned to a variable name only to make it exist,\n",
        "- zero numeric values `0`, `0.0`, ...,\n",
        "- any empty sequence `''`, `()`, `[]`, ... (see further),\n",
        "- empty mapping `{}` (see further),\n",
        "- any class with a `__bool__` method which returns `False` (see further).\n",
        "\n",
        "All other values are considered true, so objects of many types are always true.\n",
        "\n",
        "Some operators also produce boolean values:\n",
        "\n",
        "- `==` (equal)\n",
        "- `!=` (not equal)\n",
        "- `<` (strictly lower than)\n",
        "- `<=` (lower than or equal)\n",
        "- `>` (strictly greater than)\n",
        "- `>=` (greater than or equal)\n",
        "- `in` and `not in` (belong operator, see further)\n",
        "- `is` and `is not` (object identity)"
      ]
    },
    {
      "cell_type": "code",
      "execution_count": null,
      "metadata": {
        "id": "G3jbnAGgUFeT"
      },
      "outputs": [],
      "source": [
        "'Hello' == 'hello'"
      ]
    },
    {
      "cell_type": "code",
      "execution_count": null,
      "metadata": {
        "id": "55ffmIt1UFeT"
      },
      "outputs": [],
      "source": [
        "'aaa' <= 'aab'"
      ]
    },
    {
      "cell_type": "code",
      "execution_count": null,
      "metadata": {
        "id": "TWMwAu_8UFeU"
      },
      "outputs": [],
      "source": [
        "17 > 8"
      ]
    },
    {
      "cell_type": "markdown",
      "metadata": {
        "id": "Ql4q1U_CUFeU"
      },
      "source": [
        "#### Numeric types"
      ]
    },
    {
      "cell_type": "markdown",
      "metadata": {
        "id": "rKWLnDZkUFeU"
      },
      "source": [
        "Three distinct numeric types are at our disposal: `int` for integers, `float` for floating point\n",
        "numbers and `complex` for complex numbers. Floating point numbers are usually implemented\n",
        "using double precision and complex numbers have a real and imaginary part, which are each\n",
        "a floating point number. To produce an imaginary number, the character `j` or `J` has to be\n",
        "appended to a numeric literal.\n",
        "\n",
        "Common operations on numeric types are available in Python as illustrated in the following\n",
        "examples. When an operation between two numeric types makes sense, note that the type\n",
        "of the result is the more widened (*e.g.* adding a floating and a complex number leads to a\n",
        "complex number).\n",
        "\n",
        "**Various numeric types**"
      ]
    },
    {
      "cell_type": "code",
      "execution_count": null,
      "metadata": {
        "id": "pdGZqirQUFeU"
      },
      "outputs": [],
      "source": [
        "x = 5; type(x)"
      ]
    },
    {
      "cell_type": "code",
      "execution_count": null,
      "metadata": {
        "id": "ztFx4LaXUFeU"
      },
      "outputs": [],
      "source": [
        "y = 3.14159; type(y)"
      ]
    },
    {
      "cell_type": "code",
      "execution_count": null,
      "metadata": {
        "id": "hkVFzCulUFeU"
      },
      "outputs": [],
      "source": [
        "z = 2+3j; type(z)"
      ]
    },
    {
      "cell_type": "markdown",
      "metadata": {
        "id": "56lmT4UWUFeV"
      },
      "source": [
        "**Explicit type**"
      ]
    },
    {
      "cell_type": "code",
      "execution_count": null,
      "metadata": {
        "id": "eij3TKGjUFeV"
      },
      "outputs": [],
      "source": [
        "int(x)"
      ]
    },
    {
      "cell_type": "code",
      "execution_count": null,
      "metadata": {
        "id": "yasmbQLiUFeV"
      },
      "outputs": [],
      "source": [
        "float(x)"
      ]
    },
    {
      "cell_type": "code",
      "execution_count": null,
      "metadata": {
        "id": "VhKmqfITUFeV"
      },
      "outputs": [],
      "source": [
        "complex(x, y)"
      ]
    },
    {
      "cell_type": "markdown",
      "metadata": {
        "id": "4oNrxJODUFeV"
      },
      "source": [
        "**Complex numbers**"
      ]
    },
    {
      "cell_type": "code",
      "execution_count": null,
      "metadata": {
        "id": "eTibdpf2UFeW"
      },
      "outputs": [],
      "source": [
        "print(z.real) # Real part of z"
      ]
    },
    {
      "cell_type": "code",
      "execution_count": null,
      "metadata": {
        "id": "h0sfroZ4UFeW"
      },
      "outputs": [],
      "source": [
        "print(z.imag) # Imaginary part of z"
      ]
    },
    {
      "cell_type": "code",
      "execution_count": null,
      "metadata": {
        "id": "t_DCggC5UFeW"
      },
      "outputs": [],
      "source": [
        "print(z.conjugate()) # Conjugate of z"
      ]
    },
    {
      "cell_type": "markdown",
      "metadata": {
        "id": "mUw0osDPUFeW"
      },
      "source": [
        "**Common operations**"
      ]
    },
    {
      "cell_type": "code",
      "execution_count": null,
      "metadata": {
        "id": "4kGnj9HhUFeW"
      },
      "outputs": [],
      "source": [
        "x + y # Sum of x and y"
      ]
    },
    {
      "cell_type": "code",
      "execution_count": null,
      "metadata": {
        "id": "HH3MS2bjUFeW"
      },
      "outputs": [],
      "source": [
        "x - y # Difference of x and y"
      ]
    },
    {
      "cell_type": "code",
      "execution_count": null,
      "metadata": {
        "id": "Xmx_geUfUFeX"
      },
      "outputs": [],
      "source": [
        "x * y # Product of x and y"
      ]
    },
    {
      "cell_type": "code",
      "execution_count": null,
      "metadata": {
        "id": "njGfZq69UFeX"
      },
      "outputs": [],
      "source": [
        "x / y # Quotient of x and y"
      ]
    },
    {
      "cell_type": "code",
      "execution_count": null,
      "metadata": {
        "id": "JRpBcLtbUFeX"
      },
      "outputs": [],
      "source": [
        "x // y # Floored quotient of x and y"
      ]
    },
    {
      "cell_type": "code",
      "execution_count": null,
      "metadata": {
        "id": "ycRGlgfDUFeX"
      },
      "outputs": [],
      "source": [
        "x % y # Remainder of x / y"
      ]
    },
    {
      "cell_type": "markdown",
      "metadata": {
        "id": "1pkzDHpRUFeX"
      },
      "source": [
        "**Assignment operations**"
      ]
    },
    {
      "cell_type": "code",
      "execution_count": null,
      "metadata": {
        "id": "hYPJta0bUFeX"
      },
      "outputs": [],
      "source": [
        "x += 42 # Update x by adding 42 (same as x = x + 42)"
      ]
    },
    {
      "cell_type": "code",
      "execution_count": null,
      "metadata": {
        "id": "WahDJjuvUFeY"
      },
      "outputs": [],
      "source": [
        "x -= 42 # Update x by subtracting 42 (same as x = x - 42)"
      ]
    },
    {
      "cell_type": "code",
      "execution_count": null,
      "metadata": {
        "id": "Eo9XrUL3UFeY"
      },
      "outputs": [],
      "source": [
        "x *= 2 # Update x by multiplying by 2 (same as x = x * 2)"
      ]
    },
    {
      "cell_type": "markdown",
      "metadata": {
        "id": "LV27HDitUFeY"
      },
      "source": [
        "**Useful operations**"
      ]
    },
    {
      "cell_type": "code",
      "execution_count": null,
      "metadata": {
        "id": "aRHcAS0ZUFeY"
      },
      "outputs": [],
      "source": [
        "abs(-x) # Absolute value for an integer or a floating number"
      ]
    },
    {
      "cell_type": "code",
      "execution_count": null,
      "metadata": {
        "id": "DOFUel4fUFeY"
      },
      "outputs": [],
      "source": [
        "abs(z) # Magnitude for a complex number"
      ]
    },
    {
      "cell_type": "code",
      "execution_count": null,
      "metadata": {
        "id": "Xyy9szj-UFeY"
      },
      "outputs": [],
      "source": [
        "pow(x, 3) # x to power 3"
      ]
    },
    {
      "cell_type": "code",
      "execution_count": null,
      "metadata": {
        "id": "jbtYMAG2UFeZ"
      },
      "outputs": [],
      "source": [
        "x ** 3 # Idem, x to power 3"
      ]
    },
    {
      "cell_type": "code",
      "execution_count": null,
      "metadata": {
        "id": "tRTebpDiUFeZ"
      },
      "outputs": [],
      "source": [
        "round(y) # y rounded to closest integer"
      ]
    },
    {
      "cell_type": "code",
      "execution_count": null,
      "metadata": {
        "id": "7gzsaAbtUFeZ"
      },
      "outputs": [],
      "source": [
        "round(y, 2) # y rounded to 2 digits"
      ]
    },
    {
      "cell_type": "markdown",
      "metadata": {
        "id": "Q4OUjqRIUFeZ"
      },
      "source": [
        "#### Sequence types"
      ]
    },
    {
      "cell_type": "markdown",
      "metadata": {
        "id": "JpvYySsTUFeZ"
      },
      "source": [
        "In Python, sequence types can be mutable (*i.e.* values contained in the sequence can be\n",
        "modified) or *immutable* (*i.e.* values contained in the sequence can **not** be modified). The\n",
        "basic sequence types are introduced in this section. Additional ones are described further and\n",
        "offer the same set of operations according to their mutability.\n",
        "\n",
        "**Tuples** are immutable sequences and are delimited by a pair of parentheses `()`. This\n",
        "sequence type can contains values with different types and square brackets `[]` are used to\n",
        "access items and for slicing."
      ]
    },
    {
      "cell_type": "code",
      "execution_count": null,
      "metadata": {
        "id": "aU5dTkY4UFeZ"
      },
      "outputs": [],
      "source": [
        "t = () # Empty tuple\n",
        "t = (17, 8.0, 'Hello') # Tuple can contains different types"
      ]
    },
    {
      "cell_type": "code",
      "execution_count": null,
      "metadata": {
        "id": "fk26_lPeUFea"
      },
      "outputs": [],
      "source": [
        "t[0] # First item has index 0"
      ]
    },
    {
      "cell_type": "code",
      "execution_count": null,
      "metadata": {
        "id": "Y5Kn0R9FUFea"
      },
      "outputs": [],
      "source": [
        "t[2] = 81 # Error because t is immutable"
      ]
    },
    {
      "cell_type": "code",
      "execution_count": null,
      "metadata": {
        "id": "wCbOMwAeUFea"
      },
      "outputs": [],
      "source": [
        "t[-1] # Last item"
      ]
    },
    {
      "cell_type": "code",
      "execution_count": null,
      "metadata": {
        "id": "G1Wf98WwUFea"
      },
      "outputs": [],
      "source": [
        "t = ('A', 'B', 'C', 'D', 'E', 'F', 'G', 'H')\n",
        "t[3:5] # Slice of t from 3 to 5 excluded"
      ]
    },
    {
      "cell_type": "code",
      "execution_count": null,
      "metadata": {
        "id": "8S-SFyERUFea"
      },
      "outputs": [],
      "source": [
        "t[:5] # Slice of t from start to 5 excluded"
      ]
    },
    {
      "cell_type": "code",
      "execution_count": null,
      "metadata": {
        "id": "uHNhhlQFUFeb"
      },
      "outputs": [],
      "source": [
        "t[3:] # Slice of t from 3 to end"
      ]
    },
    {
      "cell_type": "code",
      "execution_count": null,
      "metadata": {
        "id": "XO2wEFC9UFeb"
      },
      "outputs": [],
      "source": [
        "t[1:6:2] # Slice of t from 1 to 6 excluded with step 2"
      ]
    },
    {
      "cell_type": "code",
      "execution_count": null,
      "metadata": {
        "id": "MEaEAQszUFeb"
      },
      "outputs": [],
      "source": [
        "t[-1] # Negative index starts with the last item ..."
      ]
    },
    {
      "cell_type": "code",
      "execution_count": null,
      "metadata": {
        "id": "mT5klXGLUFeb"
      },
      "outputs": [],
      "source": [
        "t[-1:-6:-2] # ... and you can slice!"
      ]
    },
    {
      "cell_type": "markdown",
      "metadata": {
        "id": "BbkiYYd5UFeb"
      },
      "source": [
        "Examples below list several common operations that we can do with tuples. They remain\n",
        "available for lists introduced further."
      ]
    },
    {
      "cell_type": "code",
      "execution_count": null,
      "metadata": {
        "id": "SIKOBuwIUFeb"
      },
      "outputs": [],
      "source": [
        "t = (17, 8, 19, 81, 19)"
      ]
    },
    {
      "cell_type": "code",
      "execution_count": null,
      "metadata": {
        "id": "Ji60ZCt9UFec"
      },
      "outputs": [],
      "source": [
        "len(t) # Length of t"
      ]
    },
    {
      "cell_type": "code",
      "execution_count": null,
      "metadata": {
        "id": "RyXfx6AmUFec"
      },
      "outputs": [],
      "source": [
        "min(t) # Smallest item of t"
      ]
    },
    {
      "cell_type": "code",
      "execution_count": null,
      "metadata": {
        "id": "qr5zf5XLUFec"
      },
      "outputs": [],
      "source": [
        "max(t) # Largest item of t"
      ]
    },
    {
      "cell_type": "code",
      "execution_count": null,
      "metadata": {
        "id": "T2cOA_6wUFec"
      },
      "outputs": [],
      "source": [
        "17 in t # Belong operator"
      ]
    },
    {
      "cell_type": "code",
      "execution_count": null,
      "metadata": {
        "id": "a-6NmVCGUFec"
      },
      "outputs": [],
      "source": [
        "17 not in t # Don't belong operator"
      ]
    },
    {
      "cell_type": "code",
      "execution_count": null,
      "metadata": {
        "id": "k0K70Tq1UFec"
      },
      "outputs": [],
      "source": [
        "t + ('Hello', 'Python') # Concatenation of tuples"
      ]
    },
    {
      "cell_type": "code",
      "execution_count": null,
      "metadata": {
        "id": "XiaclMtbUFed"
      },
      "outputs": [],
      "source": [
        "t * 3 # Concatenate 3 times t"
      ]
    },
    {
      "cell_type": "code",
      "execution_count": null,
      "metadata": {
        "id": "CCIv1COvUFed"
      },
      "outputs": [],
      "source": [
        "t.count(19) # Number of occurences in t"
      ]
    },
    {
      "cell_type": "markdown",
      "metadata": {
        "id": "fpJ6swyvUFed"
      },
      "source": [
        "When it is not muddled, surrounding parentheses of a tuple can be omitted. This trick is\n",
        "mainly used to simultaneously assign values to several variables or to elegantly swap the\n",
        "contents of variables."
      ]
    },
    {
      "cell_type": "code",
      "execution_count": null,
      "metadata": {
        "id": "xkzBU75cUFed"
      },
      "outputs": [],
      "source": [
        "a, b, c = 17, 8, 'Hello'\n",
        "print(a)\n",
        "print(b)\n",
        "print(c)"
      ]
    },
    {
      "cell_type": "code",
      "execution_count": null,
      "metadata": {
        "id": "hPr9sTGxUFed"
      },
      "outputs": [],
      "source": [
        "a, b = b, a # Smart, isn't it?\n",
        "print(a)\n",
        "print(b)"
      ]
    },
    {
      "cell_type": "markdown",
      "metadata": {
        "id": "1qTP4MRfUFed"
      },
      "source": [
        "`Lists` are mutable sequences and are delimited by a pair of square brackets `[]`. Accessing\n",
        "items and slicing work like with tuples."
      ]
    },
    {
      "cell_type": "code",
      "execution_count": null,
      "metadata": {
        "id": "TuLD7IvFUFee"
      },
      "outputs": [],
      "source": [
        "l = [] # Empty list\n",
        "l = [17, 8.0, 'Hello'] # List can contains different types\n",
        "l = ['A', 'B', 'C', 'D', 'E', 'F', 'G', 'H']\n",
        "l[2]"
      ]
    },
    {
      "cell_type": "code",
      "execution_count": null,
      "metadata": {
        "id": "cXbio-8gUFee"
      },
      "outputs": [],
      "source": [
        "l[3:5]"
      ]
    },
    {
      "cell_type": "markdown",
      "metadata": {
        "id": "uJzvJOwgUFee"
      },
      "source": [
        "Besides the operations from the immutable sequences, lists offer operations that modify itself."
      ]
    },
    {
      "cell_type": "code",
      "execution_count": null,
      "metadata": {
        "id": "phiubeJfUFee"
      },
      "outputs": [],
      "source": [
        "l = ['Python', 'is', 'quite', 'fun!']\n",
        "l[2] = 'very' # Replace item at position 2 of l by 'very'\n",
        "l"
      ]
    },
    {
      "cell_type": "code",
      "execution_count": null,
      "metadata": {
        "id": "FaXEWXU_UFee"
      },
      "outputs": [],
      "source": [
        "del l[2:3] # Delete items in the slice\n",
        "l"
      ]
    },
    {
      "cell_type": "code",
      "execution_count": null,
      "metadata": {
        "id": "xU6bwt8yUFee"
      },
      "outputs": [],
      "source": [
        "s = ['P', 'Y', 'T', 'H', 'O', 'N']\n",
        "s.sort() # Sort the list in increasing order\n",
        "s"
      ]
    },
    {
      "cell_type": "code",
      "execution_count": null,
      "metadata": {
        "id": "Q3kAXLlcUFef"
      },
      "outputs": [],
      "source": [
        "s.reverse() # Reverse the items of s\n",
        "s"
      ]
    },
    {
      "cell_type": "code",
      "execution_count": null,
      "metadata": {
        "id": "LufOfJTIUFef"
      },
      "outputs": [],
      "source": [
        "s.remove('T') # Remove the first item containing 'T' from s\n",
        "s"
      ]
    },
    {
      "cell_type": "code",
      "execution_count": null,
      "metadata": {
        "id": "FaQ9MSJpUFef"
      },
      "outputs": [],
      "source": [
        "s.pop() # Retrieve the last item and remove it from s\n",
        "s"
      ]
    },
    {
      "cell_type": "code",
      "execution_count": null,
      "metadata": {
        "id": "oXawR3UpUFef"
      },
      "outputs": [],
      "source": [
        "s.pop(1) # Idem for item at position 1\n",
        "s"
      ]
    },
    {
      "cell_type": "code",
      "execution_count": null,
      "metadata": {
        "id": "6CEDVR0pUFef"
      },
      "outputs": [],
      "source": [
        "s.clear() # Removes all items from l (same as del l[:])\n",
        "s"
      ]
    },
    {
      "cell_type": "code",
      "execution_count": null,
      "metadata": {
        "id": "-tGxqxsrUFeg"
      },
      "outputs": [],
      "source": [
        "s.append(42) # Appends 42 to the end of the list\n",
        "s"
      ]
    },
    {
      "cell_type": "code",
      "execution_count": null,
      "metadata": {
        "id": "J8AgdhvXUFeg"
      },
      "outputs": [],
      "source": [
        "s.extend(l) # Extend s with the items of l\n",
        "s"
      ]
    },
    {
      "cell_type": "code",
      "execution_count": null,
      "metadata": {
        "id": "sc-eWjBrUFeg"
      },
      "outputs": [],
      "source": [
        "s += l # Idem, extend s with the items of l\n",
        "s"
      ]
    },
    {
      "cell_type": "code",
      "execution_count": null,
      "metadata": {
        "id": "stDAm3UlUFeg"
      },
      "outputs": [],
      "source": [
        "s *= 3 # Update s with its contents repeated 3 times\n",
        "s"
      ]
    },
    {
      "cell_type": "code",
      "execution_count": null,
      "metadata": {
        "id": "pfzeHdI1UFeg"
      },
      "outputs": [],
      "source": [
        "s.insert(5, 'Hello') # Insert 'Hello' into s at the position 5\n",
        "s"
      ]
    },
    {
      "cell_type": "markdown",
      "metadata": {
        "id": "OAeUzBsSUFeg"
      },
      "source": [
        "Finally, *ranges* are immutable sequences of numbers. They are commonly used for looping\n",
        "(see further). The advantage of the `range` type over a regular `list` or `tuple` is that a `range`\n",
        "object will always take the same (small) amount of memory, no matter the size of the range\n",
        "it represents. Beyond that, a `range` object is handled like any immutable sequence."
      ]
    },
    {
      "cell_type": "code",
      "execution_count": null,
      "metadata": {
        "id": "1_jFHXyoUFeh"
      },
      "outputs": [],
      "source": [
        "range(10) # A range object from 0 to 9"
      ]
    },
    {
      "cell_type": "code",
      "execution_count": null,
      "metadata": {
        "id": "ie27cMcZUFeh"
      },
      "outputs": [],
      "source": [
        "list(range(10)) # Same object as a list"
      ]
    },
    {
      "cell_type": "code",
      "execution_count": null,
      "metadata": {
        "id": "mmQeB07MUFeh"
      },
      "outputs": [],
      "source": [
        "list(range(1, 11)) # From 1 to 10"
      ]
    },
    {
      "cell_type": "code",
      "execution_count": null,
      "metadata": {
        "id": "N-fnIOhUUFeh"
      },
      "outputs": [],
      "source": [
        "list(range(0, 10, 3)) # From 0 to 9 with step 3"
      ]
    },
    {
      "cell_type": "code",
      "execution_count": null,
      "metadata": {
        "id": "78aVi1cDUFeh"
      },
      "outputs": [],
      "source": [
        "list(range(0, -10, -1)) # From 0 to -9"
      ]
    },
    {
      "cell_type": "code",
      "execution_count": null,
      "metadata": {
        "id": "1mhOgHhYUFeh"
      },
      "outputs": [],
      "source": [
        "# Ranges are handled like other sequences\n",
        "r = range(0, 20, 2)\n",
        "11 in r"
      ]
    },
    {
      "cell_type": "code",
      "execution_count": null,
      "metadata": {
        "id": "35Me1kiqUFei"
      },
      "outputs": [],
      "source": [
        "10 in r"
      ]
    },
    {
      "cell_type": "code",
      "execution_count": null,
      "metadata": {
        "id": "hEer_UiyUFei"
      },
      "outputs": [],
      "source": [
        "r[5]; r[:5]; r[-1]"
      ]
    },
    {
      "cell_type": "markdown",
      "metadata": {
        "id": "hmFC3Ve6UFei"
      },
      "source": [
        "**Questions**\n",
        "\n",
        "- What do you get with t[:-2] and t[-2:]?\n",
        "- Define t = (17, 8, 'Hello'), explain what you obtain with min(t).\n",
        "- Read the documentation about the function sort. How can we sort a list in decreasing order only using sort?\n",
        "- Create the list [0, 1, 2, 3, 4, 5, 4, 3, 2, 1, 0] in one line with range objects.\n",
        "- Be careful with a list of lists when you fill its content:"
      ]
    },
    {
      "cell_type": "code",
      "execution_count": null,
      "metadata": {
        "id": "gG0UmRpYUFei"
      },
      "outputs": [],
      "source": [
        "s = ['Bobby', 'Teddy']\n",
        "t1 = [s, s, s]\n",
        "print(s); print(t1)"
      ]
    },
    {
      "cell_type": "code",
      "execution_count": null,
      "metadata": {
        "id": "ahYI6YSzUFei"
      },
      "outputs": [],
      "source": [
        "t1[0][0] = 'Billy'\n",
        "print(s); print(t1) # (***)"
      ]
    },
    {
      "cell_type": "code",
      "execution_count": null,
      "metadata": {
        "id": "eYaQZrtqUFei"
      },
      "outputs": [],
      "source": [
        "s = 'Cindy'\n",
        "print(s); print(t1) # (***)"
      ]
    },
    {
      "cell_type": "code",
      "execution_count": null,
      "metadata": {
        "id": "n2j7h2H1UFej"
      },
      "outputs": [],
      "source": [
        "s = ['Bobby', 'Teddy']\n",
        "t2 = [s[:], s[:], s[:]] # With slicing\n",
        "print(s); print(t2)"
      ]
    },
    {
      "cell_type": "code",
      "execution_count": null,
      "metadata": {
        "id": "1Se-ycBuUFej"
      },
      "outputs": [],
      "source": [
        "t2[0][0] = 'Billy'\n",
        "print(s); print(t2) # (***)"
      ]
    },
    {
      "cell_type": "code",
      "execution_count": null,
      "metadata": {
        "id": "rZJVDVGtUFej"
      },
      "outputs": [],
      "source": [
        "s = 'Cindy'\n",
        "print(s); print(t2) # (***)"
      ]
    },
    {
      "cell_type": "markdown",
      "metadata": {
        "id": "G_k3e9PnUFej"
      },
      "source": [
        "Compare what you obtain at each line tagged with (`***`) and explain such a behavior. In `t1`, the list `s` is passed by *reference* and, in `t2`, the list `s` is passed by *value*. **You\n",
        "have to pay attention to how you handle your data in Python**.\n"
      ]
    },
    {
      "cell_type": "markdown",
      "metadata": {
        "id": "x2ymIQWFUFej"
      },
      "source": [
        "#### Text sequence type"
      ]
    },
    {
      "cell_type": "markdown",
      "metadata": {
        "id": "DKEt7eKAUFej"
      },
      "source": [
        "Objects of type `str`, also called *strings*, are used to handle textual data. Strings are immutable sequences of Unicode code points. They can be surrounded by simple quotes `''`, double quotes `\"\"` or triple quoted with `'''` or `\"\"\"`. Triple quoted strings may span multiple lines."
      ]
    },
    {
      "cell_type": "code",
      "execution_count": null,
      "metadata": {
        "id": "ffuGmUNLUFej"
      },
      "outputs": [],
      "source": [
        "s = 'Hello'; type(s)"
      ]
    },
    {
      "cell_type": "code",
      "execution_count": null,
      "metadata": {
        "id": "SqxifB5JUFek"
      },
      "outputs": [],
      "source": [
        "s = \"Hello\"; type(s)"
      ]
    },
    {
      "cell_type": "code",
      "execution_count": null,
      "metadata": {
        "id": "87s0fx9QUFek"
      },
      "outputs": [],
      "source": [
        "s_multi = '''A multiple lines string'''"
      ]
    },
    {
      "cell_type": "markdown",
      "metadata": {
        "id": "AUAjwE6IUFek"
      },
      "source": [
        "Strings are handled like other immutable sequences."
      ]
    },
    {
      "cell_type": "code",
      "execution_count": null,
      "metadata": {
        "id": "pY_yi5uwUFek"
      },
      "outputs": [],
      "source": [
        "s[2]"
      ]
    },
    {
      "cell_type": "code",
      "execution_count": null,
      "metadata": {
        "id": "0OAnwUUNUFek"
      },
      "outputs": [],
      "source": [
        "s[1:3]"
      ]
    },
    {
      "cell_type": "code",
      "execution_count": null,
      "metadata": {
        "id": "25eJ8H96UFek"
      },
      "outputs": [],
      "source": [
        "s[0] = 'h' # Error, strings are immutable"
      ]
    },
    {
      "cell_type": "code",
      "execution_count": null,
      "metadata": {
        "id": "bD9Ts728UFel"
      },
      "outputs": [],
      "source": [
        "s + s"
      ]
    },
    {
      "cell_type": "code",
      "execution_count": null,
      "metadata": {
        "id": "4oyGgc5TUFel"
      },
      "outputs": [],
      "source": [
        "s * 3"
      ]
    },
    {
      "cell_type": "markdown",
      "metadata": {
        "id": "gLBYn2CKUFel"
      },
      "source": [
        "Common types can be casted to string."
      ]
    },
    {
      "cell_type": "code",
      "execution_count": null,
      "metadata": {
        "id": "t3-nnsTEUFel"
      },
      "outputs": [],
      "source": [
        "str(42)"
      ]
    },
    {
      "cell_type": "code",
      "execution_count": null,
      "metadata": {
        "id": "XH87GODLUFel"
      },
      "outputs": [],
      "source": [
        "str([17, 8])"
      ]
    },
    {
      "cell_type": "markdown",
      "metadata": {
        "id": "xKppoDo2UFel"
      },
      "source": [
        "Type `str` provides a lot of operations to manipulate strings and it would be beyond the scope of this document to make an exhaustive review. For more details, you should refer to the [official documentation](https://docs.python.org/3.4/library/string.html). Hereafter, we give examples of some of the most useful operations with strings."
      ]
    },
    {
      "cell_type": "code",
      "execution_count": null,
      "metadata": {
        "id": "lDSgqOZLUFem"
      },
      "outputs": [],
      "source": [
        "s = 'Hello, Python charmers! How are you?'\n",
        "s.startswith('Hello')"
      ]
    },
    {
      "cell_type": "code",
      "execution_count": null,
      "metadata": {
        "id": "tFPeJasEUFem"
      },
      "outputs": [],
      "source": [
        "s.endswith('you')"
      ]
    },
    {
      "cell_type": "code",
      "execution_count": null,
      "metadata": {
        "id": "kvDSKFriUFem"
      },
      "outputs": [],
      "source": [
        "s.find('Python') # Get the first occurence"
      ]
    },
    {
      "cell_type": "code",
      "execution_count": null,
      "metadata": {
        "id": "RDLJEiFLUFem"
      },
      "outputs": [],
      "source": [
        "s.count('ar')"
      ]
    },
    {
      "cell_type": "code",
      "execution_count": null,
      "metadata": {
        "id": "5n-6KpyDUFem"
      },
      "outputs": [],
      "source": [
        "s.split() # Split s on spaces"
      ]
    },
    {
      "cell_type": "code",
      "execution_count": null,
      "metadata": {
        "id": "wXeD1La_UFem"
      },
      "outputs": [],
      "source": [
        "s.split('ar') # Split s on occurences of 'ar'"
      ]
    },
    {
      "cell_type": "code",
      "execution_count": null,
      "metadata": {
        "id": "9w8Bh8MtUFen"
      },
      "outputs": [],
      "source": [
        "s.partition('How')"
      ]
    },
    {
      "cell_type": "code",
      "execution_count": null,
      "metadata": {
        "id": "_qRA9sYWUFen"
      },
      "outputs": [],
      "source": [
        "s.replace('Hello', 'Good morning')"
      ]
    },
    {
      "cell_type": "code",
      "execution_count": null,
      "metadata": {
        "id": "-lDiegMVUFen"
      },
      "outputs": [],
      "source": [
        "' '.join(['Python', 'is', 'fun!']) # Initial string is the separator"
      ]
    },
    {
      "cell_type": "code",
      "execution_count": null,
      "metadata": {
        "id": "me3UiqMPUFen"
      },
      "outputs": [],
      "source": [
        "' Hey! '.strip() # Remove trailing spaces"
      ]
    },
    {
      "cell_type": "markdown",
      "metadata": {
        "id": "biZSdOMLUFen"
      },
      "source": [
        "String formatting."
      ]
    },
    {
      "cell_type": "code",
      "execution_count": null,
      "metadata": {
        "id": "RdQzqsAhUFen"
      },
      "outputs": [],
      "source": [
        "f'The sum of 1 + 2 is {1 + 2}'"
      ]
    },
    {
      "cell_type": "code",
      "execution_count": null,
      "metadata": {
        "id": "k4Z2N3olUFeo"
      },
      "outputs": [],
      "source": [
        "f'The sum of 1 + 2 is {1 + 2} and the product 1 * 2 is {1 * 2}'"
      ]
    },
    {
      "cell_type": "code",
      "execution_count": null,
      "metadata": {
        "id": "XJCLIZSSUFeo"
      },
      "outputs": [],
      "source": [
        "first = 'John'\n",
        "last = 'Doe'\n",
        "f'Name: {first} {last}'"
      ]
    },
    {
      "cell_type": "markdown",
      "metadata": {
        "id": "KqewEpsrUFeo"
      },
      "source": [
        "**Questions?**\n",
        "\n",
        "- How to test if the content of a string is a number?\n",
        "- How to find the last occurence of a substring in a string?"
      ]
    },
    {
      "cell_type": "markdown",
      "metadata": {
        "id": "vDyTofU7UFeo"
      },
      "source": [
        "#### Mapping types"
      ]
    },
    {
      "cell_type": "markdown",
      "metadata": {
        "id": "TSSJwQwjUFeo"
      },
      "source": [
        "Python provides only one mapping type, the *dictionaries*. Such objects are mutable and offer\n",
        "a map between (quite common) values to arbitrary objects. To handle dictionaries, we use a\n",
        "syntax similar to the lists."
      ]
    },
    {
      "cell_type": "code",
      "execution_count": null,
      "metadata": {
        "id": "efEN5hYtUFeo"
      },
      "outputs": [],
      "source": [
        "# Simple dictionary creation\n",
        "a = {'one': 1, 'two': 2, 'three': 3}; type(a)"
      ]
    },
    {
      "cell_type": "code",
      "execution_count": null,
      "metadata": {
        "id": "Ib6EprPFUFeo"
      },
      "outputs": [],
      "source": [
        "# Useful zip function\n",
        "b = dict(zip(['one', 'two', 'three'], [1, 2, 3]))\n",
        "b.keys() # Get the keys"
      ]
    },
    {
      "cell_type": "code",
      "execution_count": null,
      "metadata": {
        "id": "q_9LN97GUFep"
      },
      "outputs": [],
      "source": [
        "b.values() # Get the values"
      ]
    },
    {
      "cell_type": "code",
      "execution_count": null,
      "metadata": {
        "id": "Em_z2hKeUFep"
      },
      "outputs": [],
      "source": [
        "# These dictionaries are equal\n",
        "a == b"
      ]
    },
    {
      "cell_type": "markdown",
      "metadata": {
        "id": "L04MEXVFUFep"
      },
      "source": [
        "Similar to mutable objects."
      ]
    },
    {
      "cell_type": "code",
      "execution_count": null,
      "metadata": {
        "id": "XrnN1UhCUFep"
      },
      "outputs": [],
      "source": [
        "len(a)"
      ]
    },
    {
      "cell_type": "code",
      "execution_count": null,
      "metadata": {
        "id": "3LlhcPzHUFep"
      },
      "outputs": [],
      "source": [
        "a['two']"
      ]
    },
    {
      "cell_type": "code",
      "execution_count": null,
      "metadata": {
        "id": "c5H5DGE2UFeq"
      },
      "outputs": [],
      "source": [
        "a['three'] = 33\n",
        "a['four'] = 4 # Append on the fly"
      ]
    },
    {
      "cell_type": "code",
      "execution_count": null,
      "metadata": {
        "id": "5MFLxrbHUFeq"
      },
      "outputs": [],
      "source": [
        "b.clear() # Remove all items"
      ]
    },
    {
      "cell_type": "markdown",
      "metadata": {
        "id": "1MVmfGt3UFeq"
      },
      "source": [
        "Playing with keys."
      ]
    },
    {
      "cell_type": "code",
      "execution_count": null,
      "metadata": {
        "id": "ev2UAGQCUFeq"
      },
      "outputs": [],
      "source": [
        "1 in a"
      ]
    },
    {
      "cell_type": "code",
      "execution_count": null,
      "metadata": {
        "id": "Kw6d8MlkUFeq"
      },
      "outputs": [],
      "source": [
        "'one' in a"
      ]
    },
    {
      "cell_type": "code",
      "execution_count": null,
      "metadata": {
        "id": "bAjKgPJ8UFeq"
      },
      "outputs": [],
      "source": [
        "a['five'] # Error, the key doesn't exist"
      ]
    },
    {
      "cell_type": "code",
      "execution_count": null,
      "metadata": {
        "id": "511YkJf-UFer"
      },
      "outputs": [],
      "source": [
        "a.get('five', 'Default value') # Safer..."
      ]
    },
    {
      "cell_type": "markdown",
      "metadata": {
        "id": "IlwVqEPGUFer"
      },
      "source": [
        "Nice with tuples."
      ]
    },
    {
      "cell_type": "code",
      "execution_count": null,
      "metadata": {
        "id": "7EZTKq7DUFer"
      },
      "outputs": [],
      "source": [
        "grid = dict() # Empty dictionary\n",
        "grid[1, 3] = 'Player'\n",
        "grid[2, 6] = 'Bomb'\n",
        "grid"
      ]
    },
    {
      "cell_type": "markdown",
      "metadata": {
        "id": "oDVJbLPcUFer"
      },
      "source": [
        "#### Other types"
      ]
    },
    {
      "cell_type": "markdown",
      "metadata": {
        "id": "BBYGo5iXUFer"
      },
      "source": [
        "There also exist some special types that play specific roles in Python. Among them, we should mention `None` for the null object and `NotImplemented` which could be returned when some operation is not supported. These types have to be handled with `is` and `is not` operators.\n",
        "\n",
        "We just introduced the more commonn types in Python. The interested reader will find a lot of additional informations in the [official documentation](https://docs.python.org/3.4/library/stdtypes.html)."
      ]
    },
    {
      "cell_type": "markdown",
      "metadata": {
        "id": "kvaiEY8JUFer"
      },
      "source": [
        "### Conditionals"
      ]
    },
    {
      "cell_type": "markdown",
      "metadata": {
        "id": "cOfdXRRoUFer"
      },
      "source": [
        "We use the word *conditional* for code that is run according to some boolean value. Such a\n",
        "thing is based on a `if` statement:"
      ]
    },
    {
      "cell_type": "code",
      "execution_count": null,
      "metadata": {
        "id": "4hxgbwR0UFer"
      },
      "outputs": [],
      "source": [
        "a = 17\n",
        "if a > 0:\n",
        "    print('a is positive')"
      ]
    },
    {
      "cell_type": "markdown",
      "metadata": {
        "id": "pCB02m48UFes"
      },
      "source": [
        "**It is *crucial* to understand how this piece of code is structured. The `if` statement ends with the character `:` and the next line has to start with some spaces. If the condition is true, this line is run. If the condition is false, the line is ignored and the run continues. You can choose the number of spaces at the beginning of the line but it has to be strictly positive. These spaces delimit the bunch of code to run if the condition is true and their number must remain the same along all the line of the conditional block.**"
      ]
    },
    {
      "cell_type": "code",
      "execution_count": null,
      "metadata": {
        "id": "xO34tjhsUFes"
      },
      "outputs": [],
      "source": [
        "a = 17\n",
        "if a > 0:\n",
        "print('a is positive') # Error, no space"
      ]
    },
    {
      "cell_type": "code",
      "execution_count": null,
      "metadata": {
        "id": "yrVTyTDzUFes"
      },
      "outputs": [],
      "source": [
        "a = 17\n",
        "if a > 0:\n",
        "    print('a is positive')\n",
        "    print('Yeah!') # In the conditional block"
      ]
    },
    {
      "cell_type": "code",
      "execution_count": null,
      "metadata": {
        "id": "R74gi-TgUFes"
      },
      "outputs": [],
      "source": [
        "a = -42\n",
        "if a > 0:\n",
        "    print('a is positive')\n",
        "print('Yeah!') # Out of conditional block"
      ]
    },
    {
      "cell_type": "code",
      "execution_count": null,
      "metadata": {
        "id": "uzWeNwR4UFes"
      },
      "outputs": [],
      "source": [
        "a = 17\n",
        "if a > 0:\n",
        "    print('a is positive')\n",
        "  print('Yeah!') # Error, incorrect number of spaces"
      ]
    },
    {
      "cell_type": "markdown",
      "metadata": {
        "id": "4eLHJ1P4UFet"
      },
      "source": [
        "**All instruction blocks in Python have to follow these rules! Let your IDE help you!**"
      ]
    },
    {
      "cell_type": "markdown",
      "metadata": {
        "id": "dFiFp3ttUFet"
      },
      "source": [
        "Now, we know how to write an instruction block, we can construct richer conditionals by running some block if the condition is true and an other block otherwise. Such a structure is known as a `if ... else` statement."
      ]
    },
    {
      "cell_type": "code",
      "execution_count": null,
      "metadata": {
        "id": "gwLxa911UFet"
      },
      "outputs": [],
      "source": [
        "a = 17\n",
        "if a > 0:\n",
        "    print('Condition is true')\n",
        "    print('a is positive')\n",
        "else:\n",
        "    print('Condition is false')\n",
        "    print('a is nonpositive')"
      ]
    },
    {
      "cell_type": "markdown",
      "metadata": {
        "id": "U844DMO_UFet"
      },
      "source": [
        "Quite often, we use a conditional to give a value to a variable according to some condition:"
      ]
    },
    {
      "cell_type": "code",
      "execution_count": null,
      "metadata": {
        "id": "Gy0BkbUVUFet"
      },
      "outputs": [],
      "source": [
        "a = 42\n",
        "if a % 2 == 1:\n",
        "    val = 'Odd number'\n",
        "else:\n",
        "    val = 'Even number'\n",
        "\n",
        "print(val)    "
      ]
    },
    {
      "cell_type": "markdown",
      "metadata": {
        "id": "zc-Po7-kUFet"
      },
      "source": [
        "Such a code is a bit long and to reduce its size, Python offers *inline conditionals* (also called *ternaries*):"
      ]
    },
    {
      "cell_type": "code",
      "execution_count": null,
      "metadata": {
        "id": "Qqq6R88kUFet"
      },
      "outputs": [],
      "source": [
        "# This example is equivalent to the previous one\n",
        "a = 42\n",
        "val = 'Odd number' if a % 2 == 1 else 'Even number'\n",
        "print(val)"
      ]
    },
    {
      "cell_type": "markdown",
      "metadata": {
        "id": "o5LLphIZUFeu"
      },
      "source": [
        "An `if ... else` statement is adapted to test a single condition but it becomes less easy\n",
        "when multiple nested conditions are needed:"
      ]
    },
    {
      "cell_type": "code",
      "execution_count": null,
      "metadata": {
        "id": "ec3v17BPUFeu"
      },
      "outputs": [],
      "source": [
        "a = 17\n",
        "mod3 = a % 3\n",
        "\n",
        "if mod3 == 0:\n",
        "    print('We can divide {} by 3'.format(a))\n",
        "else:\n",
        "    if mod3 == 1:\n",
        "        print('The remainder of {} by 3 is 1'.format(a))\n",
        "    else:\n",
        "        if mod3 == 2:\n",
        "            print('The remainder of {} by 3 is 2'.format(a))\n",
        "        else:\n",
        "            print('This eventuality should be impossible')"
      ]
    },
    {
      "cell_type": "markdown",
      "metadata": {
        "id": "s2W_ZFH3UFeu"
      },
      "source": [
        "To produce a code easier to read and test the various conditions one by one, we can deal with\n",
        "a `if ... elif ... else` statement. So, the previous example can elegantly be rewritten as\n",
        "follows:"
      ]
    },
    {
      "cell_type": "code",
      "execution_count": null,
      "metadata": {
        "id": "e8FiYfKzUFeu"
      },
      "outputs": [],
      "source": [
        "a = 17\n",
        "mod3 = a % 3\n",
        "\n",
        "if mod3 == 0:\n",
        "    print('We can divide {} by 3'.format(a))\n",
        "elif mod3 == 1:\n",
        "    print('The remainder of {} by 3 is 1'.format(a))\n",
        "elif mod3 == 2:\n",
        "    print('The remainder of {} by 3 is 2'.format(a))\n",
        "else:\n",
        "    print('This eventuality should be impossible')"
      ]
    },
    {
      "cell_type": "markdown",
      "metadata": {
        "id": "i47yHQjuUFeu"
      },
      "source": [
        "**Questions**\n",
        "\n",
        "- Being given some variable `v`, write a conditional to test if `v `is `None` or not.\n",
        "- Being given two strings `s1` and `s2`, write a conditional to test if they have the same length.\n",
        "- For some numeric value `v`, write a `if ... elif ... else` statement that prints different messages according to the positivity, nullity or negativity of `v`."
      ]
    },
    {
      "cell_type": "markdown",
      "metadata": {
        "id": "q4lV8CJoUFeu"
      },
      "source": [
        "### Loops"
      ]
    },
    {
      "cell_type": "markdown",
      "metadata": {
        "id": "v5H-DZO0UFeu"
      },
      "source": [
        "Looping means repeating a bunch of code until some condition becomes false. The first statement to do it with Python is based on `while`. Such a loop starts with `while` and a condition and repeats the following block of code while this condition is true (potentially *ad nauseam* if the condition never change):"
      ]
    },
    {
      "cell_type": "code",
      "execution_count": null,
      "metadata": {
        "id": "obw6qA4MUFeu"
      },
      "outputs": [],
      "source": [
        "# Syracuse Sequence\n",
        "u = 5; print(u)\n",
        "while u != 1:\n",
        "    u = u // 2 if u % 2 == 0 else 3*u + 1\n",
        "    print(u)"
      ]
    },
    {
      "cell_type": "code",
      "execution_count": null,
      "metadata": {
        "id": "ecog3wuqUFev"
      },
      "outputs": [],
      "source": [
        "# Square\n",
        "n = 0\n",
        "while n < 8:\n",
        "    print(n, '#' * 8)\n",
        "    n += 1"
      ]
    },
    {
      "cell_type": "markdown",
      "metadata": {
        "id": "ijUjclT0UFev"
      },
      "source": [
        "The second example corresponds to a so common loop and there is a specific statement for that. Indeed, `n` is initialized to `0` and while `n` still not reach the value `8`, we increment it by one and n takes all the values `0, 1, ... , 8`. This loop can be summarized with a `for` statement:"
      ]
    },
    {
      "cell_type": "code",
      "execution_count": null,
      "metadata": {
        "id": "4UcYWBLiUFev"
      },
      "outputs": [],
      "source": [
        "# Equivalent to previous 'Square' example\n",
        "for n in range(8):\n",
        "    print(n, '#' * 8)"
      ]
    },
    {
      "cell_type": "code",
      "execution_count": null,
      "metadata": {
        "id": "YERgK9CAUFev"
      },
      "outputs": [],
      "source": [
        "# Useful to browse a sequence from indices\n",
        "t = ('', '***', '* *', ' * ')\n",
        "for i in (1, 2, 1, 0, 2, 3, 2, 0) * 3:\n",
        "    print(t[i])"
      ]
    },
    {
      "cell_type": "markdown",
      "metadata": {
        "id": "ZJQMHvycUFev"
      },
      "source": [
        "Actually, a `for` statement can be used with a lot of objects, called *iterables*, to browse one\n",
        "by one all their items. Among the iterable objects (see further for other examples), we have\n",
        "already introduced some sequence types:"
      ]
    },
    {
      "cell_type": "code",
      "execution_count": null,
      "metadata": {
        "id": "Fws8tGXhUFev"
      },
      "outputs": [],
      "source": [
        "# With a tuple\n",
        "t = ('I', 'am', 'a', 'tuple')\n",
        "for item in t:\n",
        "    print(item)"
      ]
    },
    {
      "cell_type": "code",
      "execution_count": null,
      "metadata": {
        "id": "-cVfCG_KUFev"
      },
      "outputs": [],
      "source": [
        "# With a list\n",
        "l = ['I', 'am', 'a', 'list']\n",
        "for item in l:\n",
        "    print(item)"
      ]
    },
    {
      "cell_type": "code",
      "execution_count": null,
      "metadata": {
        "id": "bgwsgW9tUFew"
      },
      "outputs": [],
      "source": [
        "# With a range\n",
        "for i in range(2, 10, 3):\n",
        "    print(i)"
      ]
    },
    {
      "cell_type": "code",
      "execution_count": null,
      "metadata": {
        "id": "6hxy5TXsUFew"
      },
      "outputs": [],
      "source": [
        "# With a string\n",
        "s = 'How are you, Pythonistas?'\n",
        "for c in s:\n",
        "    print(c)"
      ]
    },
    {
      "cell_type": "code",
      "execution_count": null,
      "metadata": {
        "id": "znDTMddBUFew"
      },
      "outputs": [],
      "source": [
        "# With a dictionary\n",
        "d = {'one': 1, 'two': 2, 'three': 3}\n",
        "for k in d:\n",
        "    print(k)"
      ]
    },
    {
      "cell_type": "markdown",
      "metadata": {
        "id": "_doFz32LUFew"
      },
      "source": [
        "The example with a dictionary needs some clarifications. As you can notice, the keys are\n",
        "browsed, not the values. We could use the square brackets `[]` to get the values or use\n",
        "`d.keys()` and `d.values()` but we also could use `d.items()` iterate over the pairs key-value:"
      ]
    },
    {
      "cell_type": "code",
      "execution_count": null,
      "metadata": {
        "id": "rA_g8BFDUFew"
      },
      "outputs": [],
      "source": [
        "# Browsing keys (like previous example)\n",
        "for k in d.keys():\n",
        "    print(k)"
      ]
    },
    {
      "cell_type": "code",
      "execution_count": null,
      "metadata": {
        "id": "A4GeCvs1UFew"
      },
      "outputs": [],
      "source": [
        "# Browsing values\n",
        "for v in d.values():\n",
        "    print(v)"
      ]
    },
    {
      "cell_type": "code",
      "execution_count": null,
      "metadata": {
        "id": "xywWjZmIUFex"
      },
      "outputs": [],
      "source": [
        "# Getting value from key\n",
        "for k in d:\n",
        "    print('{} --> {}'.format(k, d[k]))"
      ]
    },
    {
      "cell_type": "code",
      "execution_count": null,
      "metadata": {
        "id": "9HpQC83wUFex"
      },
      "outputs": [],
      "source": [
        "# Browsing the pairs\n",
        "for (k, v) in d.items():\n",
        "    print('Key: {} -- Value: {}'.format(k, v))"
      ]
    },
    {
      "cell_type": "markdown",
      "metadata": {
        "id": "YZLqzxf0UFex"
      },
      "source": [
        "It is sometimes useful to skip some iteration, to consider an endless loop, to quit a not\n",
        "finished loop, to run some commands at the end of a loop, . . . For that purposes, we have at\n",
        "our disposal `continue`, `break` and `else`:"
      ]
    },
    {
      "cell_type": "code",
      "execution_count": null,
      "metadata": {
        "id": "M3Qvz4j8UFex"
      },
      "outputs": [],
      "source": [
        "# Skip some iteration\n",
        "for i in range(5):\n",
        "    if i == 2:\n",
        "        continue # 2 is skipped\n",
        "    print(i)"
      ]
    },
    {
      "cell_type": "code",
      "execution_count": null,
      "metadata": {
        "id": "5AXa2aVaUFex"
      },
      "outputs": [],
      "source": [
        "# Breaking loops\n",
        "for i in range(5):\n",
        "    if i == 2:\n",
        "        break # Stop at 2\n",
        "    print(i)"
      ]
    },
    {
      "cell_type": "code",
      "execution_count": null,
      "metadata": {
        "id": "TJhiRpLsUFex"
      },
      "outputs": [],
      "source": [
        "s = ''\n",
        "while True: # Infinite loop ...\n",
        "    if len(s) > 10:\n",
        "        break # ... that ends here\n",
        "    s += '*'\n",
        "    print(s)"
      ]
    },
    {
      "cell_type": "code",
      "execution_count": null,
      "metadata": {
        "id": "xWUOCoepUFex",
        "colab": {
          "base_uri": "https://localhost:8080/"
        },
        "outputId": "9601209b-35a7-48f4-9715-52f1e8e36617"
      },
      "outputs": [
        {
          "output_type": "stream",
          "name": "stdout",
          "text": [
            "~\n",
            "~~\n",
            "~~~\n",
            "~~~~\n",
            "~~~~~\n",
            "~~~~~~\n",
            "~~~~~~~\n",
            "###\n"
          ]
        }
      ],
      "source": [
        "# Concluding a loop\n",
        "s = ''\n",
        "while len(s) < 7: # Modify this value to see how the run changes\n",
        "    if len(s) == 8:\n",
        "        break # Forced to break, skip 'else' block\n",
        "    s += '~'; print(s)\n",
        "else:\n",
        "    # This command is run only if the loop ends without 'break'\n",
        "    print('###')"
      ]
    },
    {
      "cell_type": "markdown",
      "metadata": {
        "id": "DpwgESCkUFey"
      },
      "source": [
        "The `for` statement can also be used to create lists. This technique is known as *list\n",
        "comprehension* and is often useful:"
      ]
    },
    {
      "cell_type": "code",
      "execution_count": null,
      "metadata": {
        "id": "us7XRMk5UFey",
        "colab": {
          "base_uri": "https://localhost:8080/"
        },
        "outputId": "487bf65d-611f-4752-b3fb-27f433fdb1fb"
      },
      "outputs": [
        {
          "output_type": "execute_result",
          "data": {
            "text/plain": [
              "[17, 17, 17, 17, 17]"
            ]
          },
          "metadata": {},
          "execution_count": 1
        }
      ],
      "source": [
        "[17 for i in range(5)]"
      ]
    },
    {
      "cell_type": "code",
      "execution_count": null,
      "metadata": {
        "id": "pHTFBe6jUFey"
      },
      "outputs": [],
      "source": [
        "[3 * i for i in range(5)]"
      ]
    },
    {
      "cell_type": "code",
      "execution_count": null,
      "metadata": {
        "id": "YF66wSXZUFey",
        "colab": {
          "base_uri": "https://localhost:8080/"
        },
        "outputId": "e309f31b-f39b-43c2-afbe-de8266b46fc9"
      },
      "outputs": [
        {
          "output_type": "execute_result",
          "data": {
            "text/plain": [
              "['', '#', '##', '###', '####']"
            ]
          },
          "metadata": {},
          "execution_count": 20
        }
      ],
      "source": [
        "['#' * i for i in range(5)]"
      ]
    },
    {
      "cell_type": "code",
      "execution_count": null,
      "metadata": {
        "id": "0wBHIT3CUFey"
      },
      "outputs": [],
      "source": [
        "names = ['Bobby', 'Billy', 'Teddy']\n",
        "['Hello ' + name for name in names]"
      ]
    },
    {
      "cell_type": "markdown",
      "metadata": {
        "id": "lApZvh2pUFey"
      },
      "source": [
        "**Questions**\n",
        "\n",
        "- Write some commands to print the following picture:\n",
        "  \n",
        "```\n",
        "*\n",
        "**\n",
        "***\n",
        "****\n",
        "*****\n",
        "```\n",
        "\n",
        "- Write some commands to print the following picture:\n",
        "\n",
        "```\n",
        "*\n",
        "**\n",
        "***\n",
        "****\n",
        "*****\n",
        "#\n",
        "```\n",
        "\n",
        "- Write some commands to print the following picture:\n",
        "\n",
        "```\n",
        "    *\n",
        "   ***\n",
        "  *****\n",
        " *******\n",
        "*********\n",
        "    #\n",
        "```\n",
        "\n",
        "- Write some commands to print the following picture:\n",
        "\n",
        "```\n",
        "# # # # #\n",
        " # # # #\n",
        "# # # # #\n",
        "```\n",
        "\n",
        "- Write some commands to print the following picture:\n",
        "\n",
        "```\n",
        "+++++\n",
        "++++\n",
        "+++\n",
        "++\n",
        "+\n",
        "++\n",
        "+++\n",
        "++++\n",
        "+++++\n",
        "```\n",
        "\n",
        "- Write some commands to print the following picture:\n",
        "\n",
        "```\n",
        "+       +\n",
        "++     ++\n",
        "+++   +++\n",
        "++++ ++++\n",
        "+++++++++\n",
        "```"
      ]
    },
    {
      "cell_type": "code",
      "source": [
        "# Concluding a loop\n",
        "s = ''\n",
        "while len(s) < 5: # Modify this value to see how the run changes\n",
        "    s += '*'; print(s)"
      ],
      "metadata": {
        "colab": {
          "base_uri": "https://localhost:8080/"
        },
        "id": "WNjq4MXxVtok",
        "outputId": "ce1de77b-825b-4a73-e497-d0750aab2c79"
      },
      "execution_count": null,
      "outputs": [
        {
          "output_type": "stream",
          "name": "stdout",
          "text": [
            "*\n",
            "**\n",
            "***\n",
            "****\n",
            "*****\n"
          ]
        }
      ]
    },
    {
      "cell_type": "code",
      "source": [
        "# Concluding a loop\n",
        "s = ''\n",
        "t = '    '\n",
        "while len(s) < 5: # Modify this value to see how the run changes\n",
        "    s += '*'; print(s)\n",
        "else:\n",
        "    # This command is run only if the loop ends without 'break'\n",
        "    print('#')"
      ],
      "metadata": {
        "colab": {
          "base_uri": "https://localhost:8080/"
        },
        "id": "ZjXNZ2OyWWFr",
        "outputId": "f7ba844f-f443-482f-ccc0-f8966f291290"
      },
      "execution_count": null,
      "outputs": [
        {
          "output_type": "stream",
          "name": "stdout",
          "text": [
            "*\n",
            "**\n",
            "***\n",
            "****\n",
            "*****\n",
            "#\n"
          ]
        }
      ]
    },
    {
      "cell_type": "code",
      "source": [
        "s = '*'\n",
        "t = '     '\n",
        "print('     '+'*')\n",
        "while len(s) < 9: # Modify this value to see how the run changes\n",
        "    s += '**'; t=t[:-1]; print(t+s)\n",
        "else:\n",
        "    # This command is run only if the loop ends without 'break'\n",
        "    print('     '+'#')"
      ],
      "metadata": {
        "colab": {
          "base_uri": "https://localhost:8080/"
        },
        "id": "xFyZtm-aYGVZ",
        "outputId": "6c96444c-0e8d-4701-ec0e-7dfb1ba4af44"
      },
      "execution_count": null,
      "outputs": [
        {
          "output_type": "stream",
          "name": "stdout",
          "text": [
            "     *\n",
            "    ***\n",
            "   *****\n",
            "  *******\n",
            " *********\n",
            "     #\n"
          ]
        }
      ]
    },
    {
      "cell_type": "code",
      "source": [
        "odd='# '\n",
        "even=' #'\n",
        "for i in range(3):\n",
        "  if i%2 ==0:\n",
        "    print(odd*5)\n",
        "  else:\n",
        "    print(even*4)\n"
      ],
      "metadata": {
        "colab": {
          "base_uri": "https://localhost:8080/"
        },
        "id": "Z1Tt6aDwaItt",
        "outputId": "767d954f-aa14-49c1-9de8-367943c947a9"
      },
      "execution_count": null,
      "outputs": [
        {
          "output_type": "stream",
          "name": "stdout",
          "text": [
            "# # # # # \n",
            " # # # #\n",
            "# # # # # \n"
          ]
        }
      ]
    },
    {
      "cell_type": "code",
      "source": [
        "s='+++++'\n",
        "print(s)\n",
        "for i in range(8):\n",
        "  if i<4:\n",
        "    s=s[:-1] ; print(s)\n",
        "  else:\n",
        "    s+='+' ; print(s)"
      ],
      "metadata": {
        "colab": {
          "base_uri": "https://localhost:8080/"
        },
        "id": "nP3tL5BPVOos",
        "outputId": "078ac4cb-55c3-4cc0-cf17-2d5f2aad7d2e"
      },
      "execution_count": null,
      "outputs": [
        {
          "output_type": "stream",
          "name": "stdout",
          "text": [
            "+++++\n",
            "++++\n",
            "+++\n",
            "++\n",
            "+\n",
            "++\n",
            "+++\n",
            "++++\n",
            "+++++\n"
          ]
        }
      ]
    },
    {
      "cell_type": "code",
      "source": [
        "s='       '\n",
        "t='+'\n",
        "print(t+s+t)\n",
        "while len(s)>1:\n",
        "  t+='+' ; s=s[:-2] ;print(t+s+t)\n",
        "else:\n",
        "    # This command is run only if the loop ends without 'break'\n",
        "    print(t+'+'+t)\n",
        "\n"
      ],
      "metadata": {
        "colab": {
          "base_uri": "https://localhost:8080/"
        },
        "id": "W1sfZLa6e8bM",
        "outputId": "51004fec-1531-4ead-cee9-89abc8f8a7f3"
      },
      "execution_count": null,
      "outputs": [
        {
          "output_type": "stream",
          "name": "stdout",
          "text": [
            "+       +\n",
            "++     ++\n",
            "+++   +++\n",
            "++++ ++++\n",
            "+++++++++\n"
          ]
        }
      ]
    },
    {
      "cell_type": "code",
      "source": [
        "t=' '"
      ],
      "metadata": {
        "id": "afx27S4mXx42"
      },
      "execution_count": null,
      "outputs": []
    },
    {
      "cell_type": "code",
      "source": [
        "t[:-2]"
      ],
      "metadata": {
        "colab": {
          "base_uri": "https://localhost:8080/",
          "height": 35
        },
        "id": "BJNNiNcbfr_-",
        "outputId": "48052e2f-1a93-4bb2-c4e7-83a191ae008b"
      },
      "execution_count": null,
      "outputs": [
        {
          "output_type": "execute_result",
          "data": {
            "text/plain": [
              "''"
            ],
            "application/vnd.google.colaboratory.intrinsic+json": {
              "type": "string"
            }
          },
          "metadata": {},
          "execution_count": 40
        }
      ]
    },
    {
      "cell_type": "markdown",
      "metadata": {
        "id": "Orw-nmjEUFey"
      },
      "source": [
        "### Functions"
      ]
    },
    {
      "cell_type": "markdown",
      "metadata": {
        "id": "FWo2H3QvUFez"
      },
      "source": [
        "There are some built-in functions that are always available with in a Python interpreter. We\n",
        "have already seen some of them and you can read the [documentation](https://docs.python.org/3.4/library/functions.html) to get a full list of these\n",
        "functions. Such a function has a type like other objects, has a name and may have some\n",
        "arguments in the pair of parenthesis. So, a name for a function is like a name for a variable\n",
        "and a function object can be assigned to a variable! **This is a common source of bugs and\n",
        "strange behaviors in Python scripts**."
      ]
    },
    {
      "cell_type": "code",
      "execution_count": null,
      "metadata": {
        "id": "SEBNSm2dUFez",
        "colab": {
          "base_uri": "https://localhost:8080/"
        },
        "outputId": "6954c7bc-db08-4590-d89b-a76aac268052"
      },
      "outputs": [
        {
          "output_type": "execute_result",
          "data": {
            "text/plain": [
              "8"
            ]
          },
          "metadata": {},
          "execution_count": 45
        }
      ],
      "source": [
        "# Absolute value of the argument\n",
        "abs(-8)"
      ]
    },
    {
      "cell_type": "code",
      "execution_count": null,
      "metadata": {
        "id": "qgb_auscUFez",
        "colab": {
          "base_uri": "https://localhost:8080/"
        },
        "outputId": "1d51f274-9193-44ac-e759-7380d2fe2ba9"
      },
      "outputs": [
        {
          "output_type": "execute_result",
          "data": {
            "text/plain": [
              "builtin_function_or_method"
            ]
          },
          "metadata": {},
          "execution_count": 46
        }
      ],
      "source": [
        "type(abs) # Built-in function"
      ]
    },
    {
      "cell_type": "code",
      "execution_count": null,
      "metadata": {
        "id": "Pva4s-KGUFez",
        "colab": {
          "base_uri": "https://localhost:8080/"
        },
        "outputId": "05aa9341-23ae-4136-e0ff-b41c220f9d85"
      },
      "outputs": [
        {
          "output_type": "execute_result",
          "data": {
            "text/plain": [
              "-8.0"
            ]
          },
          "metadata": {},
          "execution_count": 47
        }
      ],
      "source": [
        "# Convert argument into a floating number\n",
        "float(-8)"
      ]
    },
    {
      "cell_type": "code",
      "execution_count": null,
      "metadata": {
        "id": "xDpbJfZLUFez"
      },
      "outputs": [],
      "source": [
        "# Be careful with function names\n",
        "abs = float # Yes, you can do it!\n",
        "abs(-8) # Ouch!"
      ]
    },
    {
      "cell_type": "markdown",
      "metadata": {
        "id": "Se0whlS1UFez"
      },
      "source": [
        "Of course, we can define our own functions with Python. To give a first example, we define a function `f` that takes no arguments and that does nothing:"
      ]
    },
    {
      "cell_type": "code",
      "execution_count": null,
      "metadata": {
        "id": "6cTKp_nxUFez"
      },
      "outputs": [],
      "source": [
        "def f():\n",
        "    pass\n",
        "\n",
        "type(f) # Function type"
      ]
    },
    {
      "cell_type": "code",
      "execution_count": null,
      "metadata": {
        "id": "GLXIZdQSUFez"
      },
      "outputs": [],
      "source": [
        "f() # Nothing happens..."
      ]
    },
    {
      "cell_type": "code",
      "execution_count": null,
      "metadata": {
        "id": "QgcGqpmyUFe0"
      },
      "outputs": [],
      "source": [
        "f, id(f), hex(id(f))"
      ]
    },
    {
      "cell_type": "code",
      "execution_count": null,
      "metadata": {
        "id": "v_rarjZ6UFe0"
      },
      "outputs": [],
      "source": [
        "g = f; id(g) # A function can be assigned"
      ]
    },
    {
      "cell_type": "code",
      "execution_count": null,
      "metadata": {
        "id": "YNKNSQGpUFe0"
      },
      "outputs": [],
      "source": [
        "g is f # Same object pointed by f and g"
      ]
    },
    {
      "cell_type": "code",
      "execution_count": null,
      "metadata": {
        "id": "z8wExhzgUFe0"
      },
      "outputs": [],
      "source": [
        "g() # Nothing happens..."
      ]
    },
    {
      "cell_type": "markdown",
      "metadata": {
        "id": "ogxMoRFKUFe0"
      },
      "source": [
        "Note the use of the statement `pass` that corresponds to an empty block of code. Indeed,\n",
        "a function must possess its own block of commands, called its *body*, and you can not omit\n",
        "it. Thus, statement `pass` allowed us to define a function with an empty body. As explained\n",
        "above, the created function has a type and can be assigned.\n",
        "\n",
        "Let us now define a function without argument but that does something:"
      ]
    },
    {
      "cell_type": "code",
      "execution_count": null,
      "metadata": {
        "id": "BKNLmmGDUFe0",
        "colab": {
          "base_uri": "https://localhost:8080/",
          "height": 398
        },
        "outputId": "57b7d3c1-1872-4525-c430-59b1647a1133"
      },
      "outputs": [
        {
          "metadata": {
            "tags": null
          },
          "name": "stdout",
          "output_type": "stream",
          "text": [
            "Salut!\n",
            "Hello!\n",
            "Error: unknown language\n"
          ]
        },
        {
          "output_type": "error",
          "ename": "KeyboardInterrupt",
          "evalue": "ignored",
          "traceback": [
            "\u001b[0;31m---------------------------------------------------------------------------\u001b[0m",
            "\u001b[0;31mKeyboardInterrupt\u001b[0m                         Traceback (most recent call last)",
            "\u001b[0;32m<ipython-input-48-8a3bd6a57722>\u001b[0m in \u001b[0;36m<module>\u001b[0;34m\u001b[0m\n\u001b[1;32m     11\u001b[0m     \u001b[0msay_hello\u001b[0m\u001b[0;34m(\u001b[0m\u001b[0;34m)\u001b[0m\u001b[0;34m\u001b[0m\u001b[0;34m\u001b[0m\u001b[0m\n\u001b[1;32m     12\u001b[0m \u001b[0;34m\u001b[0m\u001b[0m\n\u001b[0;32m---> 13\u001b[0;31m \u001b[0msay_hello\u001b[0m\u001b[0;34m(\u001b[0m\u001b[0;34m)\u001b[0m\u001b[0;34m\u001b[0m\u001b[0;34m\u001b[0m\u001b[0m\n\u001b[0m",
            "\u001b[0;32m<ipython-input-48-8a3bd6a57722>\u001b[0m in \u001b[0;36msay_hello\u001b[0;34m()\u001b[0m\n\u001b[1;32m      9\u001b[0m     \u001b[0;32melse\u001b[0m\u001b[0;34m:\u001b[0m\u001b[0;34m\u001b[0m\u001b[0;34m\u001b[0m\u001b[0m\n\u001b[1;32m     10\u001b[0m         \u001b[0mprint\u001b[0m\u001b[0;34m(\u001b[0m\u001b[0;34m'Error: unknown language'\u001b[0m\u001b[0;34m)\u001b[0m\u001b[0;34m\u001b[0m\u001b[0;34m\u001b[0m\u001b[0m\n\u001b[0;32m---> 11\u001b[0;31m     \u001b[0msay_hello\u001b[0m\u001b[0;34m(\u001b[0m\u001b[0;34m)\u001b[0m\u001b[0;34m\u001b[0m\u001b[0;34m\u001b[0m\u001b[0m\n\u001b[0m\u001b[1;32m     12\u001b[0m \u001b[0;34m\u001b[0m\u001b[0m\n\u001b[1;32m     13\u001b[0m \u001b[0msay_hello\u001b[0m\u001b[0;34m(\u001b[0m\u001b[0;34m)\u001b[0m\u001b[0;34m\u001b[0m\u001b[0;34m\u001b[0m\u001b[0m\n",
            "\u001b[0;32m<ipython-input-48-8a3bd6a57722>\u001b[0m in \u001b[0;36msay_hello\u001b[0;34m()\u001b[0m\n\u001b[1;32m      9\u001b[0m     \u001b[0;32melse\u001b[0m\u001b[0;34m:\u001b[0m\u001b[0;34m\u001b[0m\u001b[0;34m\u001b[0m\u001b[0m\n\u001b[1;32m     10\u001b[0m         \u001b[0mprint\u001b[0m\u001b[0;34m(\u001b[0m\u001b[0;34m'Error: unknown language'\u001b[0m\u001b[0;34m)\u001b[0m\u001b[0;34m\u001b[0m\u001b[0;34m\u001b[0m\u001b[0m\n\u001b[0;32m---> 11\u001b[0;31m     \u001b[0msay_hello\u001b[0m\u001b[0;34m(\u001b[0m\u001b[0;34m)\u001b[0m\u001b[0;34m\u001b[0m\u001b[0;34m\u001b[0m\u001b[0m\n\u001b[0m\u001b[1;32m     12\u001b[0m \u001b[0;34m\u001b[0m\u001b[0m\n\u001b[1;32m     13\u001b[0m \u001b[0msay_hello\u001b[0m\u001b[0;34m(\u001b[0m\u001b[0;34m)\u001b[0m\u001b[0;34m\u001b[0m\u001b[0;34m\u001b[0m\u001b[0m\n",
            "\u001b[0;32m<ipython-input-48-8a3bd6a57722>\u001b[0m in \u001b[0;36msay_hello\u001b[0;34m()\u001b[0m\n\u001b[1;32m      9\u001b[0m     \u001b[0;32melse\u001b[0m\u001b[0;34m:\u001b[0m\u001b[0;34m\u001b[0m\u001b[0;34m\u001b[0m\u001b[0m\n\u001b[1;32m     10\u001b[0m         \u001b[0mprint\u001b[0m\u001b[0;34m(\u001b[0m\u001b[0;34m'Error: unknown language'\u001b[0m\u001b[0;34m)\u001b[0m\u001b[0;34m\u001b[0m\u001b[0;34m\u001b[0m\u001b[0m\n\u001b[0;32m---> 11\u001b[0;31m     \u001b[0msay_hello\u001b[0m\u001b[0;34m(\u001b[0m\u001b[0;34m)\u001b[0m\u001b[0;34m\u001b[0m\u001b[0;34m\u001b[0m\u001b[0m\n\u001b[0m\u001b[1;32m     12\u001b[0m \u001b[0;34m\u001b[0m\u001b[0m\n\u001b[1;32m     13\u001b[0m \u001b[0msay_hello\u001b[0m\u001b[0;34m(\u001b[0m\u001b[0;34m)\u001b[0m\u001b[0;34m\u001b[0m\u001b[0;34m\u001b[0m\u001b[0m\n",
            "\u001b[0;32m<ipython-input-48-8a3bd6a57722>\u001b[0m in \u001b[0;36msay_hello\u001b[0;34m()\u001b[0m\n\u001b[1;32m      1\u001b[0m \u001b[0;32mdef\u001b[0m \u001b[0msay_hello\u001b[0m\u001b[0;34m(\u001b[0m\u001b[0;34m)\u001b[0m\u001b[0;34m:\u001b[0m\u001b[0;34m\u001b[0m\u001b[0;34m\u001b[0m\u001b[0m\n\u001b[0;32m----> 2\u001b[0;31m     \u001b[0mlang\u001b[0m \u001b[0;34m=\u001b[0m \u001b[0minput\u001b[0m\u001b[0;34m(\u001b[0m\u001b[0;34m\"Lang ['e' for english, 'f' for french] : \"\u001b[0m\u001b[0;34m)\u001b[0m\u001b[0;34m\u001b[0m\u001b[0;34m\u001b[0m\u001b[0m\n\u001b[0m\u001b[1;32m      3\u001b[0m     \u001b[0;32mif\u001b[0m \u001b[0mlang\u001b[0m \u001b[0;34m==\u001b[0m \u001b[0;34m'e'\u001b[0m\u001b[0;34m:\u001b[0m\u001b[0;34m\u001b[0m\u001b[0;34m\u001b[0m\u001b[0m\n\u001b[1;32m      4\u001b[0m         \u001b[0mprint\u001b[0m\u001b[0;34m(\u001b[0m\u001b[0;34m'Hello!'\u001b[0m\u001b[0;34m)\u001b[0m\u001b[0;34m\u001b[0m\u001b[0;34m\u001b[0m\u001b[0m\n\u001b[1;32m      5\u001b[0m     \u001b[0;32melif\u001b[0m \u001b[0mlang\u001b[0m \u001b[0;34m==\u001b[0m \u001b[0;34m'f'\u001b[0m\u001b[0;34m:\u001b[0m\u001b[0;34m\u001b[0m\u001b[0;34m\u001b[0m\u001b[0m\n",
            "\u001b[0;32m/usr/local/lib/python3.7/dist-packages/ipykernel/kernelbase.py\u001b[0m in \u001b[0;36mraw_input\u001b[0;34m(self, prompt)\u001b[0m\n\u001b[1;32m    861\u001b[0m             \u001b[0mself\u001b[0m\u001b[0;34m.\u001b[0m\u001b[0m_parent_ident\u001b[0m\u001b[0;34m,\u001b[0m\u001b[0;34m\u001b[0m\u001b[0;34m\u001b[0m\u001b[0m\n\u001b[1;32m    862\u001b[0m             \u001b[0mself\u001b[0m\u001b[0;34m.\u001b[0m\u001b[0m_parent_header\u001b[0m\u001b[0;34m,\u001b[0m\u001b[0;34m\u001b[0m\u001b[0;34m\u001b[0m\u001b[0m\n\u001b[0;32m--> 863\u001b[0;31m             \u001b[0mpassword\u001b[0m\u001b[0;34m=\u001b[0m\u001b[0;32mFalse\u001b[0m\u001b[0;34m,\u001b[0m\u001b[0;34m\u001b[0m\u001b[0;34m\u001b[0m\u001b[0m\n\u001b[0m\u001b[1;32m    864\u001b[0m         )\n\u001b[1;32m    865\u001b[0m \u001b[0;34m\u001b[0m\u001b[0m\n",
            "\u001b[0;32m/usr/local/lib/python3.7/dist-packages/ipykernel/kernelbase.py\u001b[0m in \u001b[0;36m_input_request\u001b[0;34m(self, prompt, ident, parent, password)\u001b[0m\n\u001b[1;32m    902\u001b[0m             \u001b[0;32mexcept\u001b[0m \u001b[0mKeyboardInterrupt\u001b[0m\u001b[0;34m:\u001b[0m\u001b[0;34m\u001b[0m\u001b[0;34m\u001b[0m\u001b[0m\n\u001b[1;32m    903\u001b[0m                 \u001b[0;31m# re-raise KeyboardInterrupt, to truncate traceback\u001b[0m\u001b[0;34m\u001b[0m\u001b[0;34m\u001b[0m\u001b[0;34m\u001b[0m\u001b[0m\n\u001b[0;32m--> 904\u001b[0;31m                 \u001b[0;32mraise\u001b[0m \u001b[0mKeyboardInterrupt\u001b[0m\u001b[0;34m(\u001b[0m\u001b[0;34m\"Interrupted by user\"\u001b[0m\u001b[0;34m)\u001b[0m \u001b[0;32mfrom\u001b[0m \u001b[0;32mNone\u001b[0m\u001b[0;34m\u001b[0m\u001b[0;34m\u001b[0m\u001b[0m\n\u001b[0m\u001b[1;32m    905\u001b[0m             \u001b[0;32mexcept\u001b[0m \u001b[0mException\u001b[0m \u001b[0;32mas\u001b[0m \u001b[0me\u001b[0m\u001b[0;34m:\u001b[0m\u001b[0;34m\u001b[0m\u001b[0;34m\u001b[0m\u001b[0m\n\u001b[1;32m    906\u001b[0m                 \u001b[0mself\u001b[0m\u001b[0;34m.\u001b[0m\u001b[0mlog\u001b[0m\u001b[0;34m.\u001b[0m\u001b[0mwarning\u001b[0m\u001b[0;34m(\u001b[0m\u001b[0;34m\"Invalid Message:\"\u001b[0m\u001b[0;34m,\u001b[0m \u001b[0mexc_info\u001b[0m\u001b[0;34m=\u001b[0m\u001b[0;32mTrue\u001b[0m\u001b[0;34m)\u001b[0m\u001b[0;34m\u001b[0m\u001b[0;34m\u001b[0m\u001b[0m\n",
            "\u001b[0;31mKeyboardInterrupt\u001b[0m: Interrupted by user"
          ]
        }
      ],
      "source": [
        "def say_hello():\n",
        "    lang = input(\"Lang ['e' for english, 'f' for french] : \")\n",
        "    if lang == 'e':\n",
        "        print('Hello!')\n",
        "    elif lang == 'f':\n",
        "        print('Salut!')\n",
        "    elif lang == 'stop':\n",
        "        return\n",
        "    else:\n",
        "        print('Error: unknown language')\n",
        "    say_hello()\n",
        "\n",
        "say_hello()"
      ]
    },
    {
      "cell_type": "markdown",
      "metadata": {
        "id": "FsHxnu72UFe0"
      },
      "source": [
        "There is nothing extraordinary here, calling the function `say_hello` amounts to run its body.\n",
        "Nevertheless, it is important to understant the *scope* of a variable, *i.e.* where the content of\n",
        "a variable makes sense:"
      ]
    },
    {
      "cell_type": "code",
      "execution_count": null,
      "metadata": {
        "id": "fB0gn0zcUFe0"
      },
      "outputs": [],
      "source": [
        "v1 = 17 # Global scope\n",
        "dir() # Names in global scope"
      ]
    },
    {
      "cell_type": "code",
      "execution_count": null,
      "metadata": {
        "id": "tKO-3qqxUFe1"
      },
      "outputs": [],
      "source": [
        "def f1():\n",
        "    print(dir()) # Names in f1 scope\n",
        "    # Variable v1 does not exist in current scope\n",
        "    print(v1) # So v1 is taken from global scope\n",
        "\n",
        "f1()"
      ]
    },
    {
      "cell_type": "code",
      "execution_count": null,
      "metadata": {
        "id": "GNQQh3bbUFe1"
      },
      "outputs": [],
      "source": [
        "def f2():\n",
        "    v1 = 8; v2 = 42 # Define v1 and v2 in current scope\n",
        "    print(dir()) # Names in f2 scope\n",
        "    print(v1) # Content of v1 taken in local scope\n",
        "    print('v2 = {}'.format(v2)) # Here, v2 exists ...\n",
        "\n",
        "f2()\n",
        "print(v2) # ... but not in global scope"
      ]
    },
    {
      "cell_type": "markdown",
      "metadata": {
        "id": "GptrwKbZUFe1"
      },
      "source": [
        "Scopes can be seen as nested lists of names in the sense that when a variable name is called,\n",
        "Python first looks in the current scope, if the name is defined then this scope is used, otherwise, Python does the same thing in the parent scope till it reaches the global scope. Because there is nothing above global scope, if the name is still not defined, an error `NameError` is *raised* (see further for explanations about errors in Python).\n",
        "\n",
        "Now we know how to define a function and deal with the scopes, let us give some arguments\n",
        "to our function:"
      ]
    },
    {
      "cell_type": "code",
      "execution_count": null,
      "metadata": {
        "id": "yUKBHSf-UFe1"
      },
      "outputs": [],
      "source": [
        "def say_hello(name, lang):\n",
        "    if lang == 'e':\n",
        "        greeting = 'Hello'\n",
        "    elif lang == 'f':\n",
        "        greeting = 'Salut'\n",
        "    else:\n",
        "        greeting = '###' # Unknown language\n",
        "    print(greeting + ' ' + name + '!')\n",
        "\n",
        "say_hello() # Error, arguments are missing"
      ]
    },
    {
      "cell_type": "code",
      "execution_count": null,
      "metadata": {
        "id": "vZS-pP_YUFe1"
      },
      "outputs": [],
      "source": [
        "say_hello('Bobby') # Error, an argument is missing"
      ]
    },
    {
      "cell_type": "code",
      "execution_count": null,
      "metadata": {
        "id": "zR-dwylxUFe1"
      },
      "outputs": [],
      "source": [
        "say_hello('Bobby', 'f') # It works!"
      ]
    },
    {
      "cell_type": "code",
      "execution_count": null,
      "metadata": {
        "id": "hIpaLDbcUFe2"
      },
      "outputs": [],
      "source": [
        "say_hello('Bobby', 'f', 42) # Error, too much arguments"
      ]
    },
    {
      "cell_type": "code",
      "execution_count": null,
      "metadata": {
        "id": "kXAXI_3oUFe2"
      },
      "outputs": [],
      "source": [
        "say_hello('e', 'Bobby') # Order of arguments is important"
      ]
    },
    {
      "cell_type": "code",
      "execution_count": null,
      "metadata": {
        "id": "zf82SmKRUFe2"
      },
      "outputs": [],
      "source": [
        "say_hello(lang='e', name='Bobby') # But they can be explicitly named"
      ]
    },
    {
      "cell_type": "markdown",
      "metadata": {
        "id": "SK_9IuAmUFe2"
      },
      "source": [
        "Our function `say_hello` prints some greeting string but this string can not be assigned to a\n",
        "variable (for being used elsewhere, for instance). To return a value, we use the word `return`:"
      ]
    },
    {
      "cell_type": "code",
      "execution_count": null,
      "metadata": {
        "id": "IQWR6ohmUFe2"
      },
      "outputs": [],
      "source": [
        "s = say_hello('Bobby', 'f') # Greeting is displayed...\n",
        "print(s) # ... but s is None"
      ]
    },
    {
      "cell_type": "code",
      "execution_count": null,
      "metadata": {
        "id": "mNB3HUxcUFe2"
      },
      "outputs": [],
      "source": [
        "# New definition of say_hello\n",
        "def say_hello(name, lang='e'):\n",
        "    if lang == 'e':\n",
        "        greeting = 'Hello'\n",
        "    elif lang == 'f':\n",
        "        greeting = 'Salut'\n",
        "    else:\n",
        "        greeting = '###' # Unknown language\n",
        "    return greeting + ' ' + name + '!' # Return the string\n",
        "\n",
        "s = say_hello('Bobby', 'f') # Greeting is no more displayed\n",
        "print(s) # Greeting is in s now!"
      ]
    },
    {
      "cell_type": "markdown",
      "metadata": {
        "id": "9rla4OGrUFe2"
      },
      "source": [
        "A function can return only one object but a tuple is an object. The tuples are commonly used\n",
        "to return more than one value and allow a nice code syntax by omitting the parentheses:"
      ]
    },
    {
      "cell_type": "code",
      "execution_count": null,
      "metadata": {
        "id": "JJnfjPrCUFe3"
      },
      "outputs": [],
      "source": [
        "def tell_me_more_about(x):\n",
        "    return id(x), type(x), repr(x) # Return three values in tuple\n",
        "\n",
        "# Get the three values in one line\n",
        "a, b, c = tell_me_more_about(17+8j)\n",
        "print(a); print(b); print(c)"
      ]
    },
    {
      "cell_type": "markdown",
      "metadata": {
        "id": "UTpPYWHTUFe3"
      },
      "source": [
        "As you noticed, if an argument is expected for some function, it has to be passed. Some-\n",
        "times, this point can be disturbing and default value can be given. An argument with a default value can then be omitted when calling the function:"
      ]
    },
    {
      "cell_type": "code",
      "execution_count": null,
      "metadata": {
        "id": "c70tzx7DUFe3"
      },
      "outputs": [],
      "source": [
        "# By default, argument lang is 'e'\n",
        "def say_hello(name, lang='e'):\n",
        "    if lang == 'e':\n",
        "        greeting = 'Hello'\n",
        "    elif lang == 'f':\n",
        "        greeting = 'Salut'\n",
        "    else:\n",
        "        greeting = '###' # Unknown language\n",
        "    print(greeting + ' ' + name + '!')\n",
        "\n",
        "say_hello('Bobby') # Now, it works\n",
        "say_hello('Bobby', 'f') # Argument can still be used, of course"
      ]
    },
    {
      "cell_type": "markdown",
      "metadata": {
        "id": "OcvDzpxRUFe3"
      },
      "source": [
        "It must be paid attention to mutable default value. Actually, the default value is evaluated\n",
        "only once during a run of a script. This does not matter for immutable objects because their\n",
        "content won’t change but the one of mutable objects can be modified. This can be useful\n",
        "sometimes but it can also lead to unexpected effects:"
      ]
    },
    {
      "cell_type": "code",
      "execution_count": null,
      "metadata": {
        "id": "ewIAxEy0UFe3"
      },
      "outputs": [],
      "source": [
        "# Default value for l is mutable\n",
        "def list_builder(x, l=[]):\n",
        "    l.append(x)\n",
        "    return l\n",
        "\n",
        "# Notice the special behavior\n",
        "print(list_builder(1))\n",
        "print(list_builder(2))\n",
        "print(list_builder(3))"
      ]
    },
    {
      "cell_type": "code",
      "execution_count": null,
      "metadata": {
        "id": "7YpWEmoOUFe3"
      },
      "outputs": [],
      "source": [
        "# To avoid such a feature, use None and a test for the default\n",
        "def list_builder(x, l=None):\n",
        "    if l is None:\n",
        "        l = [] # Default value\n",
        "    l.append(x)\n",
        "    return l\n",
        "\n",
        "# More standard behavior\n",
        "print(list_builder(1))\n",
        "print(list_builder(2))\n",
        "print(list_builder(3))"
      ]
    },
    {
      "cell_type": "markdown",
      "metadata": {
        "id": "hMbC3JL8UFe4"
      },
      "source": [
        "Finally, a good habit when writing functions in Python is to document them. We have\n",
        "already met documentation string, called *docstring*, which are used to give informations about\n",
        "a function. Such strings are surrounded with triple quotes `\"\"\"` and may span multiple lines.\n",
        "Commonly, to document a function, the docstring comes directly after the `def` statement, a\n",
        "first line is used to give a brief summary of what the function does and, after an empty line,\n",
        "we put some additional specifications (arguments, default values, . . . ). Lot of details about\n",
        "docstring conventions can be found in the [PEP 257](https://www.python.org/dev/peps/pep-0257/)."
      ]
    },
    {
      "cell_type": "code",
      "execution_count": null,
      "metadata": {
        "id": "HOKKJNS4UFe4"
      },
      "outputs": [],
      "source": [
        "def say_hello(name, lang='e'):\n",
        "    \"\"\"Return a greeting string.\n",
        "    \n",
        "    Parameters:\n",
        "        name (str): Name to be greeted\n",
        "        lang (str): Language, 'e' for english or 'f' for french (defaults to 'e')\n",
        "    \n",
        "    Returns:\n",
        "        str: a string containing a greeting or '###' if unknown language\n",
        "\n",
        "    \"\"\"\n",
        "    if lang == 'e':\n",
        "        greeting = 'Hello'\n",
        "    elif lang == 'f':\n",
        "        greeting = 'Salut'\n",
        "    else:\n",
        "        greeting = '###' # Unknown language\n",
        "    print(greeting + ' ' + name + '!')"
      ]
    },
    {
      "cell_type": "code",
      "execution_count": null,
      "metadata": {
        "id": "cZ2wtaJbUFe4"
      },
      "outputs": [],
      "source": [
        "# The docstring belongs to the function\n",
        "print(say_hello.__doc__)"
      ]
    },
    {
      "cell_type": "code",
      "execution_count": null,
      "metadata": {
        "id": "5q_c8DhPUFe4"
      },
      "outputs": [],
      "source": [
        "# Python uses the docstrings to build the documentation\n",
        "help(say_hello)"
      ]
    },
    {
      "cell_type": "markdown",
      "metadata": {
        "id": "LwmVS5QkUFe4"
      },
      "source": [
        "**Questions**\n",
        "\n",
        "- Read the documentation about the function `input` we use in the first implementation\n",
        "of `say_hello`.\n",
        "- With the help of the [documentation](https://docs.python.org/3/library/functions.html), find a built-in function to compute the sum of the\n",
        "numeric items of a list.\n",
        "- Write a function `draw_pine` that take one integer argument `n` and that draw a pine\n",
        "with n levels of characters `*` and a character `#` for the trunk similar to what you did in\n",
        "exercises about loops. See below for an example:\n",
        "\n",
        "```\n",
        ">>> draw_pine(4)\n",
        "*\n",
        "***\n",
        "*****\n",
        "*******\n",
        "#\n",
        ">>>\n",
        "```\n",
        "\n",
        "- Do the following improvements for the function draw_pine:\n",
        "    - Properly manage negative value of n or non integer value.\n",
        "    - Give a default value of 5 to n.\n",
        "    - Add two arguments leaf and trunk with default values that are supposed to be the characters used to draw the pine. Manage non character values for these arguments.\n",
        "    - Modify the function to return a string containing the pine in addition to drawing it.\n",
        "    - Add a boolean argument verbose to print or not the pine with a default value and correct behavior if a non boolean value is given.\n",
        "    - Document your function."
      ]
    },
    {
      "cell_type": "code",
      "source": [
        "def drawpine(n=5):\n",
        "  s='*' ; print(s)\n",
        "  for i in range(n-1):\n",
        "    s+=\"**\" ; print(s)\n",
        "  print('#')\n"
      ],
      "metadata": {
        "id": "IFjQUg_Zi3HM"
      },
      "execution_count": 1,
      "outputs": []
    },
    {
      "cell_type": "code",
      "source": [
        "drawpine()"
      ],
      "metadata": {
        "colab": {
          "base_uri": "https://localhost:8080/"
        },
        "id": "HYTXsjrwjtoJ",
        "outputId": "1e9a0ed2-b7b8-402f-c8d9-1edc9cdaae1a"
      },
      "execution_count": 2,
      "outputs": [
        {
          "output_type": "stream",
          "name": "stdout",
          "text": [
            "*\n",
            "***\n",
            "*****\n",
            "*******\n",
            "*********\n",
            "#\n"
          ]
        }
      ]
    },
    {
      "cell_type": "markdown",
      "metadata": {
        "id": "N5dY2581UFe4"
      },
      "source": [
        "### More about function arguments"
      ]
    },
    {
      "cell_type": "markdown",
      "metadata": {
        "id": "6NiguDCLUFe4"
      },
      "source": [
        "We introduce here some advanced concepts related to Python functions. They may be skipped\n",
        "in first reading but these features will be useful in the sequel."
      ]
    },
    {
      "cell_type": "markdown",
      "metadata": {
        "id": "eLj44-vuUFe5"
      },
      "source": [
        "#### Unpacking arguments"
      ]
    },
    {
      "cell_type": "markdown",
      "metadata": {
        "id": "NrXgu6-LUFe5"
      },
      "source": [
        "It is sometimes useful to pass arguments to a function through a list or a dictionary rather\n",
        "than explicitely. Although this is not considered as a good practice because it does not really\n",
        "improve code readability, these tricks are not deprecated because they make easier passing\n",
        "arguments to a subfunction, for instance."
      ]
    },
    {
      "cell_type": "code",
      "execution_count": 3,
      "metadata": {
        "id": "5UswEcRTUFe5",
        "colab": {
          "base_uri": "https://localhost:8080/"
        },
        "outputId": "5ccd566e-2cdf-4a64-8b74-19b1a29bff6c"
      },
      "outputs": [
        {
          "output_type": "execute_result",
          "data": {
            "text/plain": [
              "[17, 20, 23, 26, 29, 32, 35, 38, 41]"
            ]
          },
          "metadata": {},
          "execution_count": 3
        }
      ],
      "source": [
        "# Unpacking a list with *\n",
        "args = [17, 42, 3]\n",
        "list(range(*args))"
      ]
    },
    {
      "cell_type": "code",
      "execution_count": null,
      "metadata": {
        "id": "3HUjx4QUUFe5"
      },
      "outputs": [],
      "source": [
        "# Unpacking a dictionary with **\n",
        "args = {'name': 'Teddy', 'lang': 'f'}\n",
        "say_hello(**args)"
      ]
    },
    {
      "cell_type": "markdown",
      "metadata": {
        "id": "QYLbiFV6UFe5"
      },
      "source": [
        "#### Arbitrary argument lists\n",
        "\n",
        "An other practical mechanism with function arguments is to allow them to be arbitrary and to\n",
        "properly manage what the user pass to a function. To introduce that, we have to distinguish\n",
        "two kinds of arguments: *positional argument* and *keyword argument*. A positional argument\n",
        "is not explicitely named when it is passed to a function whereas a keyword argument has a\n",
        "name. For example, in `f(42, msg='Hi!')`, the number `42` is a positional argument and `msg` is\n",
        "the key of a keyword argument. A set of positional argument can be seen as a tuple and a set\n",
        "of keyword arguments as a dictionary. As mentioned previously, using keyword arguments,\n",
        "you can modify the order of the arguments when calling the function but positional arguments\n",
        "always have to be placed before keyword arguments.\n",
        "\n",
        "To handle arbitrary positional arguments in a function, you must add a specific arguments\n",
        "of the form `*args` that receives a tuple containing the values of positional arguments:"
      ]
    },
    {
      "cell_type": "code",
      "execution_count": 4,
      "metadata": {
        "id": "qZLapzHIUFe5",
        "colab": {
          "base_uri": "https://localhost:8080/"
        },
        "outputId": "e63d8fef-55e8-481f-deee-6d4d88097e94"
      },
      "outputs": [
        {
          "output_type": "stream",
          "name": "stdout",
          "text": [
            "No argument\n",
            "Argument: Tobby\n",
            "Argument: 42\n"
          ]
        }
      ],
      "source": [
        "# A function with arbitrary positional arguments\n",
        "def posarg(*args):\n",
        "    if len(args) == 0:\n",
        "        print('No argument')\n",
        "    else:\n",
        "        for arg in args:\n",
        "            print('Argument: {}'.format(arg))\n",
        "\n",
        "posarg()\n",
        "posarg('Tobby', 42)"
      ]
    },
    {
      "cell_type": "markdown",
      "metadata": {
        "id": "eJzFDZYZUFe5"
      },
      "source": [
        "For keyword arguments, the same principle is used but with a special argument `**kwargs`\n",
        "that receives a dictionary:"
      ]
    },
    {
      "cell_type": "code",
      "execution_count": null,
      "metadata": {
        "id": "i0dAC8UXUFe6"
      },
      "outputs": [],
      "source": [
        "# A function with arbitrary keyword arguments\n",
        "def keyarg(**kwargs):\n",
        "    if len(kwargs) == 0:\n",
        "        print('No argument')\n",
        "    else:\n",
        "        for key, val in kwargs.items():\n",
        "            print(\"Argument '{}': {}\".format(key, val))\n",
        "\n",
        "keyarg()\n",
        "keyarg(name='Tobby', number=42)"
      ]
    },
    {
      "cell_type": "markdown",
      "metadata": {
        "id": "YnvwPVL1UFe6"
      },
      "source": [
        "Of course, this is feasible to mix positional arguments and keyword arguments as long as\n",
        "positional ones occur before keyword ones."
      ]
    },
    {
      "cell_type": "code",
      "execution_count": null,
      "metadata": {
        "id": "gZdBtSXmUFe6"
      },
      "outputs": [],
      "source": [
        "def add_movie(title, *comments, **data):\n",
        "    print('Title: {}'.format(title))\n",
        "    for key, val in data.items():\n",
        "        print('{}: {}'.format(key, val))\n",
        "        print('-' * 42)\n",
        "    \n",
        "    for comment in comments:\n",
        "        print('\"{}\"'.format(comment))"
      ]
    },
    {
      "cell_type": "code",
      "execution_count": null,
      "metadata": {
        "id": "5eUGtFo2UFe6"
      },
      "outputs": [],
      "source": [
        "add_movie() # Argument title is mandatory"
      ]
    },
    {
      "cell_type": "code",
      "execution_count": null,
      "metadata": {
        "id": "8ymyCuADUFe6"
      },
      "outputs": [],
      "source": [
        "add_movie('Back to the Future') # Without optional argument"
      ]
    },
    {
      "cell_type": "code",
      "execution_count": null,
      "metadata": {
        "id": "WTiwjpkCUFe6"
      },
      "outputs": [],
      "source": [
        "add_movie('Back to the Future',\n",
        "    'Amazing!',\n",
        "    'One of the greatest movies ever made'\n",
        ") # Positional only"
      ]
    },
    {
      "cell_type": "code",
      "execution_count": null,
      "metadata": {
        "id": "tAI3f4trUFe6"
      },
      "outputs": [],
      "source": [
        "add_movie('Back to the Future',\n",
        "    Year=1985,\n",
        "    Runtime='1h56'\n",
        ") # Keyword only"
      ]
    },
    {
      "cell_type": "code",
      "execution_count": null,
      "metadata": {
        "id": "4O6CebnhUFe7"
      },
      "outputs": [],
      "source": [
        "add_movie('Back to the Future',\n",
        "    'Amazing!',\n",
        "    'One of the greatest movies ever made',\n",
        "    Year=1985,\n",
        "    Runtime='1h56'\n",
        ") # Both argument types"
      ]
    },
    {
      "cell_type": "markdown",
      "metadata": {
        "id": "05YvIePYUFe7"
      },
      "source": [
        "### Exceptions"
      ]
    },
    {
      "cell_type": "markdown",
      "metadata": {
        "id": "Wq9tktpWUFe7"
      },
      "source": [
        "An error detected during execution of some Python code is called an exception. We have seen\n",
        "some examples previously without discussing about them. If an exception is not handled, it\n",
        "commonly leads to end the current script and to output some error message. Typically, such\n",
        "a message contains the name of the exception and some details about what happened:"
      ]
    },
    {
      "cell_type": "code",
      "execution_count": 5,
      "metadata": {
        "id": "yJsNuG1GUFe7",
        "colab": {
          "base_uri": "https://localhost:8080/",
          "height": 166
        },
        "outputId": "4aa4165d-6991-4372-a948-0045d7e30c5c"
      },
      "outputs": [
        {
          "output_type": "error",
          "ename": "ZeroDivisionError",
          "evalue": "ignored",
          "traceback": [
            "\u001b[0;31m---------------------------------------------------------------------------\u001b[0m",
            "\u001b[0;31mZeroDivisionError\u001b[0m                         Traceback (most recent call last)",
            "\u001b[0;32m<ipython-input-5-bc757c3fda29>\u001b[0m in \u001b[0;36m<module>\u001b[0;34m\u001b[0m\n\u001b[0;32m----> 1\u001b[0;31m \u001b[0;36m1\u001b[0m \u001b[0;34m/\u001b[0m \u001b[0;36m0\u001b[0m\u001b[0;34m\u001b[0m\u001b[0;34m\u001b[0m\u001b[0m\n\u001b[0m",
            "\u001b[0;31mZeroDivisionError\u001b[0m: division by zero"
          ]
        }
      ],
      "source": [
        "1 / 0"
      ]
    },
    {
      "cell_type": "code",
      "execution_count": null,
      "metadata": {
        "id": "UsHnyGNsUFe7"
      },
      "outputs": [],
      "source": [
        "print(undefined_variable)"
      ]
    },
    {
      "cell_type": "code",
      "execution_count": null,
      "metadata": {
        "id": "8qBnpTi2UFe7"
      },
      "outputs": [],
      "source": [
        "1 + '1'"
      ]
    },
    {
      "cell_type": "markdown",
      "metadata": {
        "id": "-WkTW4jGUFe7"
      },
      "source": [
        "In these examples, the names of the exceptions are `ZeroDivisionError`, `NameError` and\n",
        "`TypeError`. These exception names are quite explicit and you can get the whole list of built-\n",
        "in exceptions in the [documentation](https://docs.python.org/3/library/exceptions.html).\n",
        "\n",
        "Although an unhandled *exception* stops the current execution, exceptions are not uncon-\n",
        "ditionally fatal and we can handle them. To do it, we use a `try ... except` statement:"
      ]
    },
    {
      "cell_type": "code",
      "execution_count": 6,
      "metadata": {
        "id": "-dwDcDjIUFe7",
        "colab": {
          "base_uri": "https://localhost:8080/"
        },
        "outputId": "9d9fdce2-ad6f-4c36-998b-73b130fb0cf3"
      },
      "outputs": [
        {
          "output_type": "stream",
          "name": "stdout",
          "text": [
            "Error, division by zero!\n"
          ]
        }
      ],
      "source": [
        "a = 0\n",
        "\n",
        "try:\n",
        "    inv = 1 / a\n",
        "except ZeroDivisionError:\n",
        "    print('Error, division by zero!')"
      ]
    },
    {
      "cell_type": "markdown",
      "metadata": {
        "id": "wRqb6RfFUFe8"
      },
      "source": [
        "First, the block of code between the try and except keywords is executed. If an exception\n",
        "occurs during this execution, the remainder of the code is skipped and, if the exception type\n",
        "matches the name after except, the associated clause is executed. Otherwise, execution of\n",
        "the try statement is finished and the block of code after except is skipped. Such a statement\n",
        "can have more than one except clause:"
      ]
    },
    {
      "cell_type": "code",
      "execution_count": 7,
      "metadata": {
        "id": "UyFubzxGUFe8",
        "colab": {
          "base_uri": "https://localhost:8080/"
        },
        "outputId": "c176c66f-15b9-46ea-86ee-ba31b5eacfa8"
      },
      "outputs": [
        {
          "output_type": "stream",
          "name": "stdout",
          "text": [
            "Wow, division by zero!\n"
          ]
        }
      ],
      "source": [
        "def some_function():\n",
        "    return 1 / 0\n",
        "\n",
        "\n",
        "def some_other_function():\n",
        "    return [1, 2, 3][4]\n",
        "\n",
        "\n",
        "try:\n",
        "    # Run some commands which can produce exceptions\n",
        "    some_function()\n",
        "    some_other_function()\n",
        "except ZeroDivisionError:\n",
        "    print('Wow, division by zero!')\n",
        "except IndexError:\n",
        "    print('Argh, out of range!')\n",
        "except KeyboardInterrupt:\n",
        "    print('Why did you stop me?')"
      ]
    },
    {
      "cell_type": "code",
      "execution_count": null,
      "metadata": {
        "id": "iVGH1oKRUFe8"
      },
      "outputs": [],
      "source": [
        "try:\n",
        "    some_function()\n",
        "except (ZeroDivisionError, IndexError, KeyboardInterrupt):\n",
        "    # More than one type can be handled in one clause\n",
        "    print('Oops, something happened!')"
      ]
    },
    {
      "cell_type": "markdown",
      "metadata": {
        "id": "kLHVwLWHUFe8"
      },
      "source": [
        "When an `except` statement is executed, we say that the exception has been *catched*. If\n",
        "an exception is not catched by none `except` statement, it remains unhandled. Note that a\n",
        "catched exception can be handled as any other object with the help of `as`:"
      ]
    },
    {
      "cell_type": "code",
      "execution_count": null,
      "metadata": {
        "id": "IvlrdvXiUFe8"
      },
      "outputs": [],
      "source": [
        "try:\n",
        "    1 / 0\n",
        "except ZeroDivisionError as e:\n",
        "    print(type(e)) # Exception type\n",
        "    print(e) # Message about what happened"
      ]
    },
    {
      "cell_type": "markdown",
      "metadata": {
        "id": "tO_cV5mtUFe9"
      },
      "source": [
        "We have seen how to catch exceptions, let now see how we can raise them. The `raise`\n",
        "statement is used to force a specified exception to occur:"
      ]
    },
    {
      "cell_type": "code",
      "execution_count": null,
      "metadata": {
        "id": "jSGPHOsJUFe_"
      },
      "outputs": [],
      "source": [
        "raise NameError('Bobby')"
      ]
    },
    {
      "cell_type": "markdown",
      "metadata": {
        "id": "czUnw-hPUFe_"
      },
      "source": [
        "You can raise built-in exception types to deal with errors in your scripts. Usually, an exception\n",
        "takes only one argument and this is its associated message. For instance, the exception type\n",
        "`TypeError` is commonly used to indicate an inappropriate type:"
      ]
    },
    {
      "cell_type": "code",
      "execution_count": null,
      "metadata": {
        "id": "cdIyhKMWUFfA"
      },
      "outputs": [],
      "source": [
        "def i_want_integer(n):\n",
        "    if not isinstance(n, int):\n",
        "        raise TypeError('n has to be an integer')\n",
        "    print('I got an integer! This is {}'.format(n))\n",
        "\n",
        "i_want_integer('Hi!')"
      ]
    },
    {
      "cell_type": "code",
      "execution_count": null,
      "metadata": {
        "id": "hsB-yuOuUFfA"
      },
      "outputs": [],
      "source": [
        "i_want_integer(42)"
      ]
    },
    {
      "cell_type": "markdown",
      "metadata": {
        "id": "21IYsZusUFfA"
      },
      "source": [
        "For now, we cannot build custom exception types because we need to introduce the concept\n",
        "of classes before (see further). However, we can introduce the basic type for any custom\n",
        "exception, the aptly named `Exception`. Creating such an object, we can pass an arbitrary\n",
        "arguments list and, handling it, these arguments are available as a tuple:"
      ]
    },
    {
      "cell_type": "code",
      "execution_count": null,
      "metadata": {
        "id": "KHWEVSsqUFfA"
      },
      "outputs": [],
      "source": [
        "try:\n",
        "    # Force an Exception to occur\n",
        "    raise Exception('Cindy', 81)\n",
        "except Exception as e:\n",
        "    print(type(e))\n",
        "    print(e.args) # Arguments stored in .args\n",
        "    print(e) # Print arguments"
      ]
    },
    {
      "cell_type": "markdown",
      "metadata": {
        "id": "EXkwQ0AaUFfA"
      },
      "source": [
        "### Input and output"
      ]
    },
    {
      "cell_type": "markdown",
      "metadata": {
        "id": "LfOYrE26UFfA"
      },
      "source": [
        "Allowing the user to interact with a script is a very common feature. In order to get values\n",
        "from the user, we have already seen the built-in function `input`. In the other way, to display\n",
        "some informations, we can use the function `print` and the method `format` of the strings. The\n",
        "interested reader is encouraged to look for more details about string methods (`str.ljust`,\n",
        "`str.center`, `str.rjust`, `str.zfill`, ...).\n",
        "\n",
        "We now focus on handling files with Python. Before using it, a file has to be opened with\n",
        "open which return a file object. This function takes two arguments, the name of the file to\n",
        "open and the *mode* to use. The mode involves announcing what we want to do with the file:\n",
        "`'r'` when the file will only be read, `'w'` for only writing (an existing file with the same name\n",
        "will be erased), `'a'` opens the file for appending to the end and `'r+'` opens the file for both reading and writing. By default, a file is opened in read only mode. At the end, the file object\n",
        "can be closed with `close`."
      ]
    },
    {
      "cell_type": "code",
      "execution_count": 9,
      "metadata": {
        "id": "GoOUwjglUFfA",
        "colab": {
          "base_uri": "https://localhost:8080/",
          "height": 183
        },
        "outputId": "ae1a71e5-596c-4d88-880b-f717c8fa7bfe"
      },
      "outputs": [
        {
          "output_type": "error",
          "ename": "FileNotFoundError",
          "evalue": "ignored",
          "traceback": [
            "\u001b[0;31m---------------------------------------------------------------------------\u001b[0m",
            "\u001b[0;31mFileNotFoundError\u001b[0m                         Traceback (most recent call last)",
            "\u001b[0;32m<ipython-input-9-d882086529be>\u001b[0m in \u001b[0;36m<module>\u001b[0;34m\u001b[0m\n\u001b[1;32m      1\u001b[0m \u001b[0;31m# Try to open some nonexistent file\u001b[0m\u001b[0;34m\u001b[0m\u001b[0;34m\u001b[0m\u001b[0;34m\u001b[0m\u001b[0m\n\u001b[0;32m----> 2\u001b[0;31m \u001b[0mf\u001b[0m \u001b[0;34m=\u001b[0m \u001b[0mopen\u001b[0m\u001b[0;34m(\u001b[0m\u001b[0;34m'my_text_file.txt'\u001b[0m\u001b[0;34m)\u001b[0m \u001b[0;31m# FileNotFoundError\u001b[0m\u001b[0;34m\u001b[0m\u001b[0;34m\u001b[0m\u001b[0m\n\u001b[0m",
            "\u001b[0;31mFileNotFoundError\u001b[0m: [Errno 2] No such file or directory: 'my_text_file.txt'"
          ]
        }
      ],
      "source": [
        "# Try to open some nonexistent file\n",
        "f = open('my_text_file.txt') # FileNotFoundError"
      ]
    },
    {
      "cell_type": "code",
      "execution_count": 51,
      "metadata": {
        "id": "k5GJm2bUUFfA"
      },
      "outputs": [],
      "source": [
        "# Create and open a text file\n",
        "!touch my_text_fi.txt"
      ]
    },
    {
      "cell_type": "code",
      "execution_count": 11,
      "metadata": {
        "id": "15iOcsC-UFfB",
        "colab": {
          "base_uri": "https://localhost:8080/"
        },
        "outputId": "23f7b6ca-74f5-4f98-c568-800481732c06"
      },
      "outputs": [
        {
          "output_type": "stream",
          "name": "stdout",
          "text": [
            "<class '_io.TextIOWrapper'>\n"
          ]
        }
      ],
      "source": [
        "# A new file appears in the working directory\n",
        "f = open('my_text_file.txt', 'w')\n",
        "print(type(f))\n",
        "f.close() # Close the file"
      ]
    },
    {
      "cell_type": "code",
      "execution_count": 12,
      "metadata": {
        "id": "XbZiaWiqUFfB"
      },
      "outputs": [],
      "source": [
        "# Reopen the file in read/write mode\n",
        "f = open('my_text_file.txt', 'r+')\n",
        "f.close()"
      ]
    },
    {
      "cell_type": "markdown",
      "metadata": {
        "id": "wAUoHq66UFfB"
      },
      "source": [
        "We do not mention binary files here. Indeed, opening files like the above example implicitly\n",
        "considers that the file is a text file. This mainly matters for dealing with line endings but it\n",
        "can be tragic if you want to handle binary files like JPEG files, for instance. We do not give\n",
        "more details about that in this document but you can refer to the [documentation](https://docs.python.org/3.4/library/functions.html#open) about the\n",
        "function `open`.\n",
        "\n",
        "The method `read` reads the whole file and returns a string with its content. To write a\n",
        "string to a file, the method `write` is used. Be careful that `write` can only write strings, so\n",
        "any non string data has to be converted to a string before being written."
      ]
    },
    {
      "cell_type": "code",
      "execution_count": 56,
      "metadata": {
        "id": "7ke6ZXSZUFfB"
      },
      "outputs": [],
      "source": [
        "f = open('my_text_fi.txt', 'w')\n"
      ]
    },
    {
      "cell_type": "code",
      "execution_count": 57,
      "metadata": {
        "id": "UDszQ87AUFfB",
        "colab": {
          "base_uri": "https://localhost:8080/"
        },
        "outputId": "33b74448-5c2e-404a-f18e-2cc6ca5cd6b6"
      },
      "outputs": [
        {
          "output_type": "execute_result",
          "data": {
            "text/plain": [
              "15"
            ]
          },
          "metadata": {},
          "execution_count": 57
        }
      ],
      "source": [
        "f.write('Hi Pythonista!\\n')\n"
      ]
    },
    {
      "cell_type": "code",
      "execution_count": 58,
      "metadata": {
        "id": "Ite49y5UUFfB",
        "colab": {
          "base_uri": "https://localhost:8080/"
        },
        "outputId": "f2c3494d-6591-497a-f463-7b1bb3af8bd0"
      },
      "outputs": [
        {
          "output_type": "execute_result",
          "data": {
            "text/plain": [
              "13"
            ]
          },
          "metadata": {},
          "execution_count": 58
        }
      ],
      "source": [
        "f.write('How are you?\\n')"
      ]
    },
    {
      "cell_type": "code",
      "source": [],
      "metadata": {
        "id": "j4zbeNzhoNbg"
      },
      "execution_count": null,
      "outputs": []
    },
    {
      "cell_type": "code",
      "execution_count": 45,
      "metadata": {
        "id": "dLmDpRtuUFfB",
        "colab": {
          "base_uri": "https://localhost:8080/"
        },
        "outputId": "7f7bb8ef-40dd-4295-dc73-51a2a0014819"
      },
      "outputs": [
        {
          "output_type": "execute_result",
          "data": {
            "text/plain": [
              "4"
            ]
          },
          "metadata": {},
          "execution_count": 45
        }
      ],
      "source": [
        "f.write('Bye\\n')"
      ]
    },
    {
      "cell_type": "code",
      "execution_count": 17,
      "metadata": {
        "id": "e7hdV2UaUFfC",
        "colab": {
          "base_uri": "https://localhost:8080/",
          "height": 166
        },
        "outputId": "be9bae58-6bf0-4ed6-dac0-6b2746cf131d"
      },
      "outputs": [
        {
          "output_type": "error",
          "ename": "TypeError",
          "evalue": "ignored",
          "traceback": [
            "\u001b[0;31m---------------------------------------------------------------------------\u001b[0m",
            "\u001b[0;31mTypeError\u001b[0m                                 Traceback (most recent call last)",
            "\u001b[0;32m<ipython-input-17-a352a9ef0490>\u001b[0m in \u001b[0;36m<module>\u001b[0;34m\u001b[0m\n\u001b[0;32m----> 1\u001b[0;31m \u001b[0mf\u001b[0m\u001b[0;34m.\u001b[0m\u001b[0mwrite\u001b[0m\u001b[0;34m(\u001b[0m\u001b[0;36m42\u001b[0m\u001b[0;34m)\u001b[0m \u001b[0;31m# Error, write only string!\u001b[0m\u001b[0;34m\u001b[0m\u001b[0;34m\u001b[0m\u001b[0m\n\u001b[0m",
            "\u001b[0;31mTypeError\u001b[0m: write() argument must be str, not int"
          ]
        }
      ],
      "source": [
        "f.write(42) # Error, write only string!"
      ]
    },
    {
      "cell_type": "markdown",
      "source": [],
      "metadata": {
        "id": "lg_Zda3SnQoO"
      }
    },
    {
      "cell_type": "code",
      "execution_count": 59,
      "metadata": {
        "id": "H_uVdwywUFfC"
      },
      "outputs": [],
      "source": [
        "f.write(str(42)) # OK\n",
        "f.close() # Open the file with a text editor to see its content"
      ]
    },
    {
      "cell_type": "code",
      "execution_count": 47,
      "metadata": {
        "id": "f7nztKvLUFfC",
        "colab": {
          "base_uri": "https://localhost:8080/"
        },
        "outputId": "8dbcbcb8-4d8c-4e83-b9ab-887bd77f0375"
      },
      "outputs": [
        {
          "output_type": "stream",
          "name": "stdout",
          "text": [
            "\n",
            "*\n",
            "***\n",
            "*****\n",
            "*******\n",
            "*********\n",
            "#Hi Pythonista!\n",
            "How are you?\n",
            "Bye\n",
            "42\n"
          ]
        }
      ],
      "source": [
        "f = open('my_text_file.txt', 'r') # Reopen in read only\n",
        "content = f.read()\n",
        "print(content)"
      ]
    },
    {
      "cell_type": "markdown",
      "metadata": {
        "id": "AG-9m-unUFfC"
      },
      "source": [
        "To read a file line by line, there is the method `readline` but you can also use the file as an\n",
        "iterable object and directly plug it into a `for` loop!"
      ]
    },
    {
      "cell_type": "code",
      "execution_count": 20,
      "metadata": {
        "id": "40SxzmXNUFfC",
        "colab": {
          "base_uri": "https://localhost:8080/",
          "height": 35
        },
        "outputId": "fc95c6e0-c0e2-4311-ab97-9dac9c414b7c"
      },
      "outputs": [
        {
          "output_type": "execute_result",
          "data": {
            "text/plain": [
              "'Hi Pythonista!\\n'"
            ],
            "application/vnd.google.colaboratory.intrinsic+json": {
              "type": "string"
            }
          },
          "metadata": {},
          "execution_count": 20
        }
      ],
      "source": [
        "f = open('my_text_file.txt', 'r')\n",
        "f.readline()"
      ]
    },
    {
      "cell_type": "code",
      "execution_count": 21,
      "metadata": {
        "id": "sJPILthMUFfC",
        "colab": {
          "base_uri": "https://localhost:8080/",
          "height": 35
        },
        "outputId": "de1c3ee8-1811-482f-b05d-0803313741e0"
      },
      "outputs": [
        {
          "output_type": "execute_result",
          "data": {
            "text/plain": [
              "'How are you?\\n'"
            ],
            "application/vnd.google.colaboratory.intrinsic+json": {
              "type": "string"
            }
          },
          "metadata": {},
          "execution_count": 21
        }
      ],
      "source": [
        "f.readline()"
      ]
    },
    {
      "cell_type": "code",
      "execution_count": 22,
      "metadata": {
        "id": "a5F1myBXUFfD",
        "colab": {
          "base_uri": "https://localhost:8080/",
          "height": 35
        },
        "outputId": "b3f30fa7-776c-4808-e62d-9601c7d09025"
      },
      "outputs": [
        {
          "output_type": "execute_result",
          "data": {
            "text/plain": [
              "'Bye\\n'"
            ],
            "application/vnd.google.colaboratory.intrinsic+json": {
              "type": "string"
            }
          },
          "metadata": {},
          "execution_count": 22
        }
      ],
      "source": [
        "f.readline()"
      ]
    },
    {
      "cell_type": "code",
      "execution_count": null,
      "metadata": {
        "id": "uBprSaFAUFfD"
      },
      "outputs": [],
      "source": [
        "f.close()"
      ]
    },
    {
      "cell_type": "code",
      "execution_count": 23,
      "metadata": {
        "id": "9ZVl_sk5UFfD",
        "colab": {
          "base_uri": "https://localhost:8080/"
        },
        "outputId": "fb4aecd7-1b1b-44e5-8ebd-10cbe88d2ae2"
      },
      "outputs": [
        {
          "output_type": "stream",
          "name": "stdout",
          "text": [
            "Line 1: Hi Pythonista!\n",
            "\n",
            "Line 2: How are you?\n",
            "\n",
            "Line 3: Bye\n",
            "\n",
            "Line 4: 42\n"
          ]
        }
      ],
      "source": [
        "f = open('my_text_file.txt', 'r')\n",
        "i = 1\n",
        "\n",
        "for line in f:\n",
        "    print('Line {}: {}'.format(i, line))\n",
        "    i += 1\n",
        "\n",
        "f.close()"
      ]
    },
    {
      "cell_type": "markdown",
      "metadata": {
        "id": "u7w-YdnwUFfD"
      },
      "source": [
        "When you deal with a file, you silently use an object that contain the current position in the\n",
        "file, *i.e.* the position where the next read will occur. You do not really need to take care of\n",
        "that in a first time but, if you want to get this position, you can ask with the method `tell`\n",
        "and modify it with `seek`."
      ]
    },
    {
      "cell_type": "code",
      "execution_count": 24,
      "metadata": {
        "id": "9hm79sZpUFfD",
        "colab": {
          "base_uri": "https://localhost:8080/"
        },
        "outputId": "48f65efa-3500-4cda-b9e8-6a6323bb4729"
      },
      "outputs": [
        {
          "output_type": "execute_result",
          "data": {
            "text/plain": [
              "0"
            ]
          },
          "metadata": {},
          "execution_count": 24
        }
      ],
      "source": [
        "f = open('my_text_file.txt', 'r')\n",
        "f.tell()"
      ]
    },
    {
      "cell_type": "code",
      "execution_count": 25,
      "metadata": {
        "id": "-4RLBed-UFfD",
        "colab": {
          "base_uri": "https://localhost:8080/",
          "height": 35
        },
        "outputId": "a687c70e-74a4-4738-bf52-2beae84cf25a"
      },
      "outputs": [
        {
          "output_type": "execute_result",
          "data": {
            "text/plain": [
              "'Hi Pythonista!\\n'"
            ],
            "application/vnd.google.colaboratory.intrinsic+json": {
              "type": "string"
            }
          },
          "metadata": {},
          "execution_count": 25
        }
      ],
      "source": [
        "f.readline()"
      ]
    },
    {
      "cell_type": "code",
      "execution_count": 26,
      "metadata": {
        "id": "BT6UC2iEUFfD",
        "colab": {
          "base_uri": "https://localhost:8080/"
        },
        "outputId": "764a9bc4-6236-4273-c57a-e4f833fd2d61"
      },
      "outputs": [
        {
          "output_type": "execute_result",
          "data": {
            "text/plain": [
              "15"
            ]
          },
          "metadata": {},
          "execution_count": 26
        }
      ],
      "source": [
        "f.tell()"
      ]
    },
    {
      "cell_type": "code",
      "execution_count": 27,
      "metadata": {
        "id": "RHMuuVscUFfD",
        "colab": {
          "base_uri": "https://localhost:8080/"
        },
        "outputId": "a2767413-55e5-4b21-de46-72a3cc1557b4"
      },
      "outputs": [
        {
          "output_type": "execute_result",
          "data": {
            "text/plain": [
              "0"
            ]
          },
          "metadata": {},
          "execution_count": 27
        }
      ],
      "source": [
        "f.seek(0) # Back to the beginning"
      ]
    },
    {
      "cell_type": "code",
      "execution_count": 28,
      "metadata": {
        "id": "S1X_IY9LUFfE",
        "colab": {
          "base_uri": "https://localhost:8080/",
          "height": 35
        },
        "outputId": "08e42a92-d2eb-4843-cfae-ade188b4cbb2"
      },
      "outputs": [
        {
          "output_type": "execute_result",
          "data": {
            "text/plain": [
              "'Hi Pythonista!\\n'"
            ],
            "application/vnd.google.colaboratory.intrinsic+json": {
              "type": "string"
            }
          },
          "metadata": {},
          "execution_count": 28
        }
      ],
      "source": [
        "f.readline() # First line again"
      ]
    },
    {
      "cell_type": "code",
      "execution_count": 29,
      "metadata": {
        "id": "ZF1yJXdHUFfE",
        "colab": {
          "base_uri": "https://localhost:8080/"
        },
        "outputId": "ce6fc5fc-3afa-4681-dea2-75f3c1370e72"
      },
      "outputs": [
        {
          "output_type": "execute_result",
          "data": {
            "text/plain": [
              "10"
            ]
          },
          "metadata": {},
          "execution_count": 29
        }
      ],
      "source": [
        "f.seek(10) # Next read starts at position 10"
      ]
    },
    {
      "cell_type": "code",
      "execution_count": 30,
      "metadata": {
        "id": "5igQ42jMUFfE",
        "colab": {
          "base_uri": "https://localhost:8080/",
          "height": 35
        },
        "outputId": "59830574-3c22-4e13-f166-c7b17520c62e"
      },
      "outputs": [
        {
          "output_type": "execute_result",
          "data": {
            "text/plain": [
              "'sta!\\n'"
            ],
            "application/vnd.google.colaboratory.intrinsic+json": {
              "type": "string"
            }
          },
          "metadata": {},
          "execution_count": 30
        }
      ],
      "source": [
        "f.readline()"
      ]
    },
    {
      "cell_type": "markdown",
      "metadata": {
        "id": "YvBwhnSTUFfE"
      },
      "source": [
        "As you can see, a file has to be closed after use. If you forget it, the file will remain open\n",
        "and it can be problematic. To automate the closing and make it easier to handle files, the file\n",
        "object offers a mechanism called a *context*. We will see later how to create such a mechanism\n",
        "for our objects but this is a very useful feature that you can use with a `with ... as` statement."
      ]
    },
    {
      "cell_type": "code",
      "execution_count": null,
      "metadata": {
        "id": "8UL6NMHIUFfE"
      },
      "outputs": [],
      "source": [
        "with open('my_text_file.txt', 'r') as f:\n",
        "    content = f.read()\n",
        "\n",
        "print(content)\n",
        "f.closed # File has been silently and properly closed"
      ]
    },
    {
      "cell_type": "markdown",
      "metadata": {
        "id": "oyr92YsGUFfE"
      },
      "source": [
        "**Questions**\n",
        "\n",
        "- What is returned by the method write? the length of the writting string\n",
        "- Understand how the line endings are handled. \\n back to line\n",
        "- Read the [documentation](https://docs.python.org/3.4/library/io.html?highlight=seek#io.TextIOBase.seek) about `seek`. How can you set a position from the end of the file?\n",
        "- Add an option to your function `draw_pine` to draw into a file.\n",
        "- Write a function `draw_pine_from_file` to draw a pine with options read from a file."
      ]
    },
    {
      "cell_type": "code",
      "source": [
        "def drawpine(n=5):\n",
        "  !touch my_pine.txt\n",
        "  f = open('my_pine.txt', 'w')\n",
        "  s='*' ; f.write(s+'\\n')\n",
        "  for i in range(n-1):\n",
        "    s+=\"**\" ; f.write(s+'\\n')\n",
        "  f.write('#')\n",
        "  f.closed"
      ],
      "metadata": {
        "id": "NEQDko1ci-9S"
      },
      "execution_count": 35,
      "outputs": []
    },
    {
      "cell_type": "code",
      "source": [
        "def draw_pine_from_file(my_file,n=5):\n",
        "  f = open(my_file+'.txt', 'a')\n",
        "  f.write('\\n')\n",
        "  s='*' ; f.write(s+'\\n')\n",
        "  for i in range(n-1):\n",
        "    s+=\"**\" ; f.write(s+'\\n')\n",
        "  f.write('#')\n",
        "  f.closed\n"
      ],
      "metadata": {
        "id": "MJi82AEPmBSs"
      },
      "execution_count": 65,
      "outputs": []
    },
    {
      "cell_type": "code",
      "source": [
        "draw_pine_from_file('my_text_file')"
      ],
      "metadata": {
        "id": "-AG0yNrnldGT"
      },
      "execution_count": 71,
      "outputs": []
    },
    {
      "cell_type": "markdown",
      "metadata": {
        "id": "G1nDtBIZUFfE"
      },
      "source": [
        "### Classes"
      ]
    },
    {
      "cell_type": "markdown",
      "metadata": {
        "id": "UK2UrcoRUFfE"
      },
      "source": [
        "This is beyond the scope of this document to provide a complete introduction to object\n",
        "oriented programming. In this section, we simply introduce the basics to define classes and\n",
        "create custom objects in Python.\n",
        "\n",
        "To say it simply, a class is a structure which can contain variables, called *attributes*, and\n",
        "functions, called *methods*, which can be accessed with a dot `.` symbol. A class is used as\n",
        "template to contruct objects, we say that an object *instantiates* a class. A class can be\n",
        "documented with the help of a docstring in the same way we described previously."
      ]
    },
    {
      "cell_type": "code",
      "execution_count": null,
      "metadata": {
        "id": "KzEx1h_BUFfF"
      },
      "outputs": [],
      "source": [
        "class MyClass:\n",
        "    \"\"\"Documentation goes here.\"\"\"\n",
        "\n",
        "    n = 42 # An attribute\n",
        "\n",
        "    def f(self): # A method, see further for self\n",
        "        return 'I am a method'\n",
        "\n",
        "# Two instances our class\n",
        "obj1 = MyClass()\n",
        "obj2 = MyClass()"
      ]
    },
    {
      "cell_type": "code",
      "execution_count": null,
      "metadata": {
        "id": "c0lDiVZLUFfF"
      },
      "outputs": [],
      "source": [
        "# Object type\n",
        "type(obj1)"
      ]
    },
    {
      "cell_type": "code",
      "execution_count": null,
      "metadata": {
        "id": "RauNgTtdUFfF"
      },
      "outputs": [],
      "source": [
        "# Use the attribute\n",
        "print(obj1.n)"
      ]
    },
    {
      "cell_type": "code",
      "execution_count": null,
      "metadata": {
        "id": "zZ4qXFZtUFfF"
      },
      "outputs": [],
      "source": [
        "obj1.n = 17\n",
        "print(obj1.n)"
      ]
    },
    {
      "cell_type": "code",
      "execution_count": null,
      "metadata": {
        "id": "9U5lEs6_UFfF"
      },
      "outputs": [],
      "source": [
        "# Value is in the scope of the instance, not the one of the class\n",
        "print(obj2.n)"
      ]
    },
    {
      "cell_type": "code",
      "execution_count": null,
      "metadata": {
        "id": "Mrhe5H3GUFfF"
      },
      "outputs": [],
      "source": [
        "# Call the method\n",
        "obj1.f()"
      ]
    },
    {
      "cell_type": "markdown",
      "metadata": {
        "id": "361JA4vVUFfF"
      },
      "source": [
        "The role of a class is to *encapsulate* values and mechanisms to provide an interface to the user\n",
        "for some specific purpose. Before giving more details about classes, we have to note some\n",
        "special syntactic features in the class definition. Such a definition is introduced by the word\n",
        "`class` followed by the name of the class. Then, you can define attributes and methods. As illustrated in the example, an attribute is a variable defined in the scope of the instance. This\n",
        "point is important and actually not well illustrated by our class `MyClass`. Indeed, defining\n",
        "an attribute in the class definition like we did for `n` provide a reference to the class that can\n",
        "be overwritten in an instance. This can be problematic for mutable types as we explained\n",
        "previously."
      ]
    },
    {
      "cell_type": "code",
      "execution_count": 72,
      "metadata": {
        "id": "nG0kPnAWUFfF",
        "colab": {
          "base_uri": "https://localhost:8080/"
        },
        "outputId": "b25bc2a4-cae8-4c7f-ba00-19776a28d4f6"
      },
      "outputs": [
        {
          "output_type": "stream",
          "name": "stdout",
          "text": [
            "42\n",
            "[1, 2, 3]\n"
          ]
        }
      ],
      "source": [
        "class ClassWithAttributes:\n",
        "    n = 42\n",
        "    v = [1, 2, 3] # Mutable attribute\n",
        "\n",
        "# Class-level attributes\n",
        "print(ClassWithAttributes.n)\n",
        "print(ClassWithAttributes.v)"
      ]
    },
    {
      "cell_type": "code",
      "execution_count": 73,
      "metadata": {
        "id": "6oSwk1jhUFfG",
        "colab": {
          "base_uri": "https://localhost:8080/"
        },
        "outputId": "32353f17-dd7e-4f81-b0ef-3cd0b5ef45ac"
      },
      "outputs": [
        {
          "output_type": "stream",
          "name": "stdout",
          "text": [
            "42\n",
            "[1, 2, 3]\n"
          ]
        }
      ],
      "source": [
        "# Instance-level attributes\n",
        "x = ClassWithAttributes()\n",
        "print(x.n)\n",
        "print(x.v)"
      ]
    },
    {
      "cell_type": "code",
      "execution_count": 74,
      "metadata": {
        "id": "WxcDUS9VUFfG",
        "colab": {
          "base_uri": "https://localhost:8080/"
        },
        "outputId": "6ac1d992-a7ee-4e24-b626-14b53edccd05"
      },
      "outputs": [
        {
          "output_type": "stream",
          "name": "stdout",
          "text": [
            "17\n",
            "42\n"
          ]
        }
      ],
      "source": [
        "# Attributes can be overwritten ...\n",
        "x.n = 17\n",
        "print(x.n) # Instance-level\n",
        "print(ClassWithAttributes.n) # Class-level"
      ]
    },
    {
      "cell_type": "code",
      "execution_count": null,
      "metadata": {
        "id": "LI3TcJXrUFfG"
      },
      "outputs": [],
      "source": [
        "# ... but be careful with mutable types\n",
        "x.v[1] = 17\n",
        "print(x.v) # Instance-level\n",
        "print(ClassWithAttributes.v) # Class-level"
      ]
    },
    {
      "cell_type": "markdown",
      "metadata": {
        "id": "HJX20r7kUFfG"
      },
      "source": [
        "Class-level attributes can be useful for specific role but to avoid problems like the one\n",
        "illustrated in the previous example, the attributes should be defined at instance-level. To do\n",
        "it, we need a reference to the instance itself which has not already been created . . . it is a\n",
        "vicious circle! The solution is based on the statement usually denoted by `self` (this word is\n",
        "a simple convention) which is used to precisely designate this reference to an instance. The\n",
        "common way to define instance-level attributes is to do it in a special method `__init__`, called\n",
        "constructor, that receives `self` as **first** argument, potentially followed by other arguments,\n",
        "and that is silently called when the object is created."
      ]
    },
    {
      "cell_type": "code",
      "execution_count": 75,
      "metadata": {
        "id": "BZXmgWQIUFfG"
      },
      "outputs": [],
      "source": [
        "class ClassWithConstructor:\n",
        "    \n",
        "    def __init__(self):\n",
        "        self.n = 42 # Instance-level attribute"
      ]
    },
    {
      "cell_type": "code",
      "execution_count": null,
      "metadata": {
        "id": "lENWLYg2UFfG"
      },
      "outputs": [],
      "source": [
        "# No more class-level attribute\n",
        "print(ClassWithConstructor.n)"
      ]
    },
    {
      "cell_type": "code",
      "execution_count": null,
      "metadata": {
        "id": "R14uJp-OUFfH"
      },
      "outputs": [],
      "source": [
        "x = ClassWithConstructor() # Silent call to __init__(self)\n",
        "print(x.n)\n",
        "x.n = 17\n",
        "print(x.n)"
      ]
    },
    {
      "cell_type": "code",
      "execution_count": null,
      "metadata": {
        "id": "ovncjzRwUFfH"
      },
      "outputs": [],
      "source": [
        "# Constructor can have arguments\n",
        "class ClassWithArgs:\n",
        "    \n",
        "    def __init__(self, a, b='Hello'): # First self, then arguments\n",
        "        self.a = a\n",
        "        self.message = b\n",
        "\n",
        "y = ClassWithArgs(42)\n",
        "print(y.a)\n",
        "print(y.message)"
      ]
    },
    {
      "cell_type": "code",
      "execution_count": null,
      "metadata": {
        "id": "dbUMCJHeUFfH"
      },
      "outputs": [],
      "source": [
        "z = ClassWithArgs(42, 'Oh yeah!')\n",
        "print(z.a)\n",
        "print(z.message)"
      ]
    },
    {
      "cell_type": "markdown",
      "metadata": {
        "id": "fh0r7NxaUFfH"
      },
      "source": [
        "In our first class example, you can note that we have already use `self` as argument for\n",
        "the method `f`. Similarly, if you omit it, the method is defined at class-level but, with it, the\n",
        "method is defined at instance-level which is usually what we want."
      ]
    },
    {
      "cell_type": "code",
      "execution_count": null,
      "metadata": {
        "id": "-cHi9BtYUFfH"
      },
      "outputs": [],
      "source": [
        "class ClassWithMethods:\n",
        "    \n",
        "    # Constructor\n",
        "    def __init__(self, x):\n",
        "        self.value = x\n",
        "\n",
        "    # Instance-level method\n",
        "    def f1(self):\n",
        "        # Here, self exists because instance exists\n",
        "        print('Value: {}'.format(self.value))\n",
        "\n",
        "    # Class-level method\n",
        "    def f2():\n",
        "        # Here, self does not exist\n",
        "        print('I am at class-level')\n",
        "\n",
        "x = ClassWithMethods(42)\n",
        "x.f1()"
      ]
    },
    {
      "cell_type": "code",
      "execution_count": null,
      "metadata": {
        "id": "zDMWD7adUFfH"
      },
      "outputs": [],
      "source": [
        "ClassWithMethods.f1() # Error"
      ]
    },
    {
      "cell_type": "code",
      "execution_count": null,
      "metadata": {
        "id": "v3V7VkXDUFfH"
      },
      "outputs": [],
      "source": [
        "x.f2() # Error"
      ]
    },
    {
      "cell_type": "code",
      "execution_count": null,
      "metadata": {
        "id": "-jQ2STv_UFfI"
      },
      "outputs": [],
      "source": [
        "ClassWithMethods.f2()"
      ]
    },
    {
      "cell_type": "markdown",
      "metadata": {
        "id": "l_9eTXT2UFfI"
      },
      "source": [
        "For vocabulary, class-level attributes or methods are said to be static.\n",
        "\n",
        "We have seen that an exception is raised when an error occurs. What happens when an\n",
        "unhandled exception is raised in a constructor? The question is not naive because it is related\n",
        "to the existence of an object. Actually, if an unhandled exception is raised in a constructor,\n",
        "the object is not created and the statement is simply ignored. Then, if the variable already\n",
        "exists, it is not modified."
      ]
    },
    {
      "cell_type": "code",
      "execution_count": null,
      "metadata": {
        "id": "DKp4n0oiUFfI"
      },
      "outputs": [],
      "source": [
        "class Inverse:\n",
        "\n",
        "    def __init__(self, x):\n",
        "        self.value = 1 / x # Ready to raise exception\n",
        "\n",
        "        \n",
        "x = Inverse(2) # No problem\n",
        "print(id(x)); print(x.value) # Object x exists"
      ]
    },
    {
      "cell_type": "code",
      "execution_count": null,
      "metadata": {
        "id": "6rcd7Wo5UFfI"
      },
      "outputs": [],
      "source": [
        "xx = Inverse(0) # Exception is raised"
      ]
    },
    {
      "cell_type": "code",
      "execution_count": null,
      "metadata": {
        "id": "HhPjBJEDUFfI"
      },
      "outputs": [],
      "source": [
        "id(xx) # Object y has not been created"
      ]
    },
    {
      "cell_type": "code",
      "execution_count": null,
      "metadata": {
        "id": "dL_DDEa1UFfI"
      },
      "outputs": [],
      "source": [
        "x = Inverse(0) # Try to replace x but exception is raised"
      ]
    },
    {
      "cell_type": "code",
      "execution_count": null,
      "metadata": {
        "id": "T0Z2nHrxUFfI"
      },
      "outputs": [],
      "source": [
        "print(id(x)); print(x.value) # Previous line is ignored, x does not change"
      ]
    },
    {
      "cell_type": "markdown",
      "metadata": {
        "id": "shnfNbBbUFfI"
      },
      "source": [
        "The power of object oriented programming mainly comes from the *inheritance* principle.\n",
        "Indeed, we can derive a class from some existing base class in order to adapt it or to enhance\n",
        "it for a specific purpose, for instance. To use this mechanism, you just have to mention the\n",
        "name of the base class between parentheses when you define the derived class."
      ]
    },
    {
      "cell_type": "code",
      "execution_count": null,
      "metadata": {
        "id": "PEkOFJUbUFfI"
      },
      "outputs": [],
      "source": [
        "# Base class definition\n",
        "class Base:\n",
        "\n",
        "    def __init__(self):\n",
        "        print('Base constructor')\n",
        "        self.value = 42\n",
        "\n",
        "    def print_value(self):\n",
        "        print('My value is {}'.format(self.value))\n",
        "\n",
        "    def say_hello(self):\n",
        "        print('Hello !')\n",
        "\n",
        "base = Base()"
      ]
    },
    {
      "cell_type": "code",
      "execution_count": null,
      "metadata": {
        "id": "mLvkAFMRUFfJ"
      },
      "outputs": [],
      "source": [
        "base.print_value()"
      ]
    },
    {
      "cell_type": "code",
      "execution_count": null,
      "metadata": {
        "id": "_u85upbeUFfJ"
      },
      "outputs": [],
      "source": [
        "base.say_hello()"
      ]
    },
    {
      "cell_type": "code",
      "execution_count": null,
      "metadata": {
        "id": "vXincO_OUFfJ"
      },
      "outputs": [],
      "source": [
        "# A derived class\n",
        "class Derived1(Base): # Derived inherits from Base\n",
        "\n",
        "    def __init__(self, value):\n",
        "        print('Derived1 constructor')\n",
        "        self.value = value\n",
        "        \n",
        "        \n",
        "derived = Derived1(123) # Note that parent constructor is not called"
      ]
    },
    {
      "cell_type": "code",
      "execution_count": null,
      "metadata": {
        "id": "NEKfqDzPUFfJ"
      },
      "outputs": [],
      "source": [
        "# Attributes and methods from Base are available\n",
        "print(derived.value)"
      ]
    },
    {
      "cell_type": "code",
      "execution_count": null,
      "metadata": {
        "id": "qAmyy4yYUFfJ"
      },
      "outputs": [],
      "source": [
        "derived.print_value()"
      ]
    },
    {
      "cell_type": "markdown",
      "metadata": {
        "id": "vrTIphTmUFfJ"
      },
      "source": [
        "derived.say_hello()"
      ]
    },
    {
      "cell_type": "code",
      "execution_count": null,
      "metadata": {
        "id": "KBD6sSFVUFfK"
      },
      "outputs": [],
      "source": [
        "# An other derived class\n",
        "class Derived2(Base):\n",
        "\n",
        "    def __init__(self, value):\n",
        "        print('Derived2 constructor')\n",
        "        self.value = value\n",
        "\n",
        "    def print_value(self): # Methods can be overwritten\n",
        "        print('### Value : {} ###'.format(self.value))\n",
        "\n",
        "\n",
        "derived = Derived2(456)"
      ]
    },
    {
      "cell_type": "code",
      "execution_count": null,
      "metadata": {
        "id": "o1CjePP2UFfK"
      },
      "outputs": [],
      "source": [
        "derived.print_value() # Overwritten method"
      ]
    },
    {
      "cell_type": "code",
      "execution_count": null,
      "metadata": {
        "id": "Oszn5R0uUFfK"
      },
      "outputs": [],
      "source": [
        "derived.say_hello() # Original method"
      ]
    },
    {
      "cell_type": "code",
      "execution_count": null,
      "metadata": {
        "id": "r4FJMFgCUFfK"
      },
      "outputs": [],
      "source": [
        "# Again a derived class\n",
        "class Derived3(Base):\n",
        "\n",
        "    def __init__(self):\n",
        "        # Parent constructor has to be explicitly called, if needed\n",
        "        super().__init__()\n",
        "        print('Derived3 constructor')\n",
        "        \n",
        "\n",
        "derived = Derived3()"
      ]
    },
    {
      "cell_type": "code",
      "execution_count": null,
      "metadata": {
        "id": "9Gq90urIUFfK"
      },
      "outputs": [],
      "source": [
        "derived.print_value()"
      ]
    },
    {
      "cell_type": "code",
      "execution_count": null,
      "metadata": {
        "id": "35HxJiPiUFfK"
      },
      "outputs": [],
      "source": [
        "derived.say_hello()"
      ]
    },
    {
      "cell_type": "markdown",
      "metadata": {
        "id": "GPcd5OoPUFfL"
      },
      "source": [
        "This is quite common to check if some object has a given type or if a class inherits from an\n",
        "other given class. The built-in functions `isinstance` and `issubclass` are available for that."
      ]
    },
    {
      "cell_type": "code",
      "execution_count": null,
      "metadata": {
        "id": "hADjGLSqUFfL"
      },
      "outputs": [],
      "source": [
        "isinstance(base, Base)"
      ]
    },
    {
      "cell_type": "code",
      "execution_count": null,
      "metadata": {
        "id": "3NiaGNzWUFfL"
      },
      "outputs": [],
      "source": [
        "isinstance(derived, Base) # Derived inherits from Base"
      ]
    },
    {
      "cell_type": "code",
      "execution_count": null,
      "metadata": {
        "id": "J_TJXindUFfL"
      },
      "outputs": [],
      "source": [
        "issubclass(Derived1, Base)"
      ]
    },
    {
      "cell_type": "code",
      "execution_count": null,
      "metadata": {
        "id": "8EyDq7DGUFfL"
      },
      "outputs": [],
      "source": [
        "# Note that a class is considered a subclass of itself\n",
        "issubclass(Base, Base)"
      ]
    },
    {
      "cell_type": "markdown",
      "metadata": {
        "id": "FADUT1HfUFfL"
      },
      "source": [
        "Of course, we do not have to always inherit from custom classes and we can derive from\n",
        "built-in classes. To illustrate that, let us give a useful example to derive custom exception\n",
        "classes. We have already introduced the [base class](https://docs.python.org/3.4/library/exceptions.html#Exception) `Exception` from which any custom exception class should be derived."
      ]
    },
    {
      "cell_type": "code",
      "execution_count": null,
      "metadata": {
        "id": "Ap4pSYZLUFfL"
      },
      "outputs": [],
      "source": [
        "class MyException(Exception):\n",
        "\n",
        "    def __init__(self, message, other_arg):\n",
        "        # Calling base constructor allows standard behavior\n",
        "        super().__init__('I am a custom exception\\n'\n",
        "            + '*** Message : {}\\n'.format(message)\n",
        "            + '*** Argument: {}\\n'.format(other_arg)\n",
        "        )\n",
        "        \n",
        "        # Some attributes\n",
        "        self.arg = other_arg\n",
        "        self.message = message\n",
        "\n",
        "def f():\n",
        "    # Custom exception can be raised as other ones\n",
        "    raise MyException('in a bottle', 42)\n",
        "try:\n",
        "    f()\n",
        "except MyException as e:\n",
        "    print('MyException catched!')\n",
        "    print('Argument is {}'.format(e.arg))\n",
        "    print(e) # Inheritance power!"
      ]
    },
    {
      "cell_type": "markdown",
      "metadata": {
        "id": "Jao1orF_UFfM"
      },
      "source": [
        "We have seen the special method `__init__` which defines the class constructor. Actually,\n",
        "there are a lot of other special methods that can be defined in a class to give it some specific\n",
        "behaviors. These data models are described in a devoted [documentation page](https://docs.python.org/3/reference/datamodel.html) and it would\n",
        "be beyond the scope of this document to make an exhaustive review. The special methods are\n",
        "all surrounded by double underscores `__` and are listed in [Section 3.3](https://docs.python.org/3.4/reference/datamodel.html#special-method-names) of the documentation\n",
        "page. Hereafter, we give some examples of such methods."
      ]
    },
    {
      "cell_type": "code",
      "execution_count": null,
      "metadata": {
        "id": "-LUnFE7KUFfM"
      },
      "outputs": [],
      "source": [
        "# A class that can be converted as a string\n",
        "class A:\n",
        "    \n",
        "    def __str__(self):\n",
        "        return 'A object ({})'.format(id(self))\n",
        "\n",
        "a = A()\n",
        "str(a) # Explicit conversion\n",
        "print(a) # Silent call to a.__str__()"
      ]
    },
    {
      "cell_type": "code",
      "execution_count": null,
      "metadata": {
        "id": "SkMusfglUFfM"
      },
      "outputs": [],
      "source": [
        "# A (very) minimal and stupid sequence-like class\n",
        "class B:\n",
        "    \n",
        "    def __len__(self):\n",
        "        # Fixed length of 42 ...\n",
        "        return 42\n",
        "\n",
        "    def __getitem__(self, key):\n",
        "        # Implement read-only self[key]\n",
        "        if isinstance(key, int):\n",
        "            # Dummy content\n",
        "            return key % 2\n",
        "        else:\n",
        "            # Integer key only\n",
        "            raise TypeError('B class allows only integers')\n",
        "\n",
        "b = B()\n",
        "print(len(b))"
      ]
    },
    {
      "cell_type": "code",
      "execution_count": null,
      "metadata": {
        "id": "Xk2c45cEUFfM"
      },
      "outputs": [],
      "source": [
        "print(b['Ni'])"
      ]
    },
    {
      "cell_type": "code",
      "execution_count": null,
      "metadata": {
        "id": "u8oRCh5wUFfN"
      },
      "outputs": [],
      "source": [
        "print(b[17])"
      ]
    },
    {
      "cell_type": "markdown",
      "metadata": {
        "id": "vxhkJrMQUFfN"
      },
      "source": [
        "**Questions**\n",
        "\n",
        "- Create a class `Pet` which contains two attributes `age` and `name` and a method `get_info` that returns a string with informations about the pet. You should also provide a proper constructor.\n",
        "- Derive two classes `Cat` and `Dog` from Pet and improve the method `get_info` in these specific cases.\n",
        "- Create a custom exception `BadPetAge` to be raised when an error about the age occurs.\n",
        "- Enhance the constructor of `Pet` to raise a `BadPetAge` if `age` is negative.\n",
        "- Add comparison methods to the class `Pet` to order them according to their age. Here are some example behaviours:\n",
        "\n",
        "```python\n",
        "# Example of comparisons\n",
        "felix = Cat('Felix', 5)\n",
        "puppy = Dog('Puppy', 3)\n",
        "\n",
        "felix > puppy # Should return True\n",
        "puppy > puppy # Should return False\n",
        "felix <= puppy # Should return False\n",
        "```\n",
        "\n",
        "- Find in the documentation how to allow your class to be used through a context `with ... as`."
      ]
    },
    {
      "cell_type": "markdown",
      "metadata": {
        "id": "17osUO2GUFfN"
      },
      "source": [
        "## Extending Python with modules"
      ]
    },
    {
      "cell_type": "markdown",
      "metadata": {
        "id": "bQjh5S7tUFfN"
      },
      "source": [
        "### What is a Python module?"
      ]
    },
    {
      "cell_type": "markdown",
      "metadata": {
        "id": "Epi0kSELUFfN"
      },
      "source": [
        "If we restrict ourselves to built-in types and functions, we will have to define a lot of things\n",
        "and, most importantly, to do it in all our scripts. Of course, we do not do it and, when a\n",
        "program gets longer, we split it into several files. This practice makes code maintenance easier\n",
        "and helps us to organize our code. Then, to use some handy function or class located in a\n",
        "file, we just have to tell Python to look for the definition in this file. Such a file containing\n",
        "definitions is called a *module* and we say that we *import* it.\n",
        "\n",
        "A module is nothing else than a Python file and the file name is the module name with\n",
        "the suffix `.py` appended. Within a module, the module’s name is available as a string through\n",
        "the global variable `__name__`. To serve as an example, consider the module `my_sequences`\n",
        "given by a file `my_sequences.py` as follows:"
      ]
    },
    {
      "cell_type": "code",
      "execution_count": null,
      "metadata": {
        "id": "MYmFrCSdUFfN"
      },
      "outputs": [],
      "source": [
        "# Fibonacci sequence\n",
        "def fibonacci(n):\n",
        "    s = [0]\n",
        "    a, b = 0, 1\n",
        "    while len(s) < n:\n",
        "        s.append(b)\n",
        "        a, b = b, a + b\n",
        "    return s\n",
        "\n",
        "\n",
        "# Syracuse sequence\n",
        "def syracuse(n):\n",
        "    s = []\n",
        "    u = n\n",
        "    while u != 1:\n",
        "        s.append(u)\n",
        "        u = u // 2 if u % 2 == 0 else 3 * u + 1\n",
        "    s.append(1)\n",
        "    return s"
      ]
    },
    {
      "cell_type": "markdown",
      "metadata": {
        "id": "ZUdqe4v8UFfO"
      },
      "source": [
        "### Importing from a module"
      ]
    },
    {
      "cell_type": "markdown",
      "metadata": {
        "id": "Ehg1sDqoUFfO"
      },
      "source": [
        "The easiest way to import all the definitions contained in a module is to use `import` with the\n",
        "name of the module (the files have to be in the same directory). Then, objects defined in the\n",
        "module are available but in a *namespace* named like the module:"
      ]
    },
    {
      "cell_type": "code",
      "execution_count": null,
      "metadata": {
        "id": "kFDGMJ_XUFfO"
      },
      "outputs": [],
      "source": [
        "import my_sequences\n",
        "\n",
        "fibonacci(10) # Error, fibonacci is not in global scope"
      ]
    },
    {
      "cell_type": "code",
      "execution_count": null,
      "metadata": {
        "id": "7F921eC6UFfO"
      },
      "outputs": [],
      "source": [
        "my_sequences.fibonacci(10) # Call fibonacci in my_sequences namespace"
      ]
    },
    {
      "cell_type": "code",
      "execution_count": null,
      "metadata": {
        "id": "8kjoQcxYUFfO"
      },
      "outputs": [],
      "source": [
        "my_sequences.syracuse(10) # Idem with syracuse"
      ]
    },
    {
      "cell_type": "code",
      "execution_count": null,
      "metadata": {
        "id": "d8UnHNh4UFfO"
      },
      "outputs": [],
      "source": [
        "# You can get the module name with __name__\n",
        "my_sequences.__name__"
      ]
    },
    {
      "cell_type": "markdown",
      "metadata": {
        "id": "F3-2eunOUFfO"
      },
      "source": [
        "Sometimes, a module name (or a package name, see further) can be long to repeat again and\n",
        "again in the content of the code. Typing it is boring and does not make the code easier to\n",
        "read. For that, Python provides an alias mechanism based on statement `as`:"
      ]
    },
    {
      "cell_type": "code",
      "execution_count": null,
      "metadata": {
        "id": "bn_lluUVUFfP"
      },
      "outputs": [],
      "source": [
        "import my_sequences as ms\n",
        "\n",
        "ms.syracuse(42) # Shorter, isn't it?"
      ]
    },
    {
      "cell_type": "markdown",
      "metadata": {
        "id": "KFeIcdLyUFfP"
      },
      "source": [
        "If you need it, you can also import elements from a modules in the global scope (*i.e.*\n",
        "without namespace) by naming them explicitly with `from ... import ...` However, this\n",
        "practice is not encouraged because it makes code harder to read because of the presence of\n",
        "not standard functions."
      ]
    },
    {
      "cell_type": "code",
      "execution_count": null,
      "metadata": {
        "id": "dax3JniQUFfP"
      },
      "outputs": [],
      "source": [
        "from my_sequences import fibonacci, syracuse\n",
        "\n",
        "syracuse(10) # Function is now global"
      ]
    },
    {
      "cell_type": "markdown",
      "metadata": {
        "id": "9pJBbITkUFfP"
      },
      "source": [
        "You can also import everything from a module in the global scope with the wildcard `*` but this\n",
        "is definitively not recommended because it can silently overwrite definitions (`e.g.` function\n",
        "`open` with standard module `os`). Such a practice should only be used for testing purposes."
      ]
    },
    {
      "cell_type": "code",
      "execution_count": null,
      "metadata": {
        "id": "LydVxgKYUFfP"
      },
      "outputs": [],
      "source": [
        "from my_sequences import *\n",
        "\n",
        "fibonacci(10) # All is global"
      ]
    },
    {
      "cell_type": "markdown",
      "metadata": {
        "id": "V7pjK1mFUFfP"
      },
      "source": [
        "### Packages"
      ]
    },
    {
      "cell_type": "markdown",
      "metadata": {
        "id": "O9w8vv6lUFfQ"
      },
      "source": [
        "When a project gets larger, we naturally split the code into several modules, each one being\n",
        "adpated for a specific purpose (getting the data, computing statistics, producing outputs,\n",
        "... ). A *package* is a collection of such modules simply based on directory hierarchy.\n",
        "\n",
        "Let start with a basic package called `my_package`. Create a directory named `my_package`\n",
        "an put the module `my_sequences.py` inside it. Moreover, create a file `__init__.py` in\n",
        "`my_package`. Your directory should be as follows:\n",
        "\n",
        "```\n",
        "my_package/\n",
        "    __init__.py\n",
        "    my_sequences.py\n",
        "```\n",
        "\n",
        "The special file `__init__.py` is required to treat the directory as a package. This file can be\n",
        "left empty but it can contain code to initialize the package. We are not going into details\n",
        "about this file (see the documentation) and we simply use it to load the module `my_sequences`\n",
        "on initialization. So, putting `from . import my_sequences` in `__init__.py` is sufficient for\n",
        "now. The statement `from . ...` stands for importing directly from current directory."
      ]
    },
    {
      "cell_type": "code",
      "execution_count": null,
      "metadata": {
        "id": "_u1WcW25UFfQ"
      },
      "outputs": [],
      "source": [
        "# Import a package like a module\n",
        "import my_package\n",
        "\n",
        "# Functions are in module's namespace, nested in package's namespace\n",
        "# (automated by __init__.py)\n",
        "my_package.my_sequences.fibonacci(10)"
      ]
    },
    {
      "cell_type": "code",
      "execution_count": null,
      "metadata": {
        "id": "ylToi8JrUFfQ"
      },
      "outputs": [],
      "source": [
        "# Import just a module (with a saving alias)\n",
        "import my_package.my_sequences as mpseq\n",
        "mpseq.syracuse(17)"
      ]
    },
    {
      "cell_type": "code",
      "execution_count": null,
      "metadata": {
        "id": "im42EBeWUFfQ"
      },
      "outputs": [],
      "source": [
        "# Importing in global scope from a package\n",
        "from my_package.my_sequences import syracuse\n",
        "syracuse(10)"
      ]
    },
    {
      "cell_type": "markdown",
      "metadata": {
        "id": "M5j7oQ7xUFfQ"
      },
      "source": [
        "With only one module, a package is useless but it becomes more interesting when you\n",
        "collect various modules and *subpackages*. Consider the follwing file hierarchy:\n",
        "\n",
        "```\n",
        "my_package/\n",
        "    __init__.py\n",
        "    tools/\n",
        "        __init__.py\n",
        "        one_amazing_module.py\n",
        "        an_other_module.py\n",
        "    sequences/\n",
        "        __init__.py\n",
        "        fibonacci.py\n",
        "        syracuse.py\n",
        "    some_stuff.py\n",
        "    other_stuff.py\n",
        "```\n",
        "\n",
        "Filling the modules and `__init__.py` files, you will learn how to properly organize a Python\n",
        "project for your future developments."
      ]
    },
    {
      "cell_type": "markdown",
      "metadata": {
        "id": "fs0mc7QUUFfQ"
      },
      "source": [
        "### The Python standard library"
      ]
    },
    {
      "cell_type": "markdown",
      "metadata": {
        "id": "pEB98PfuUFfR"
      },
      "source": [
        "Python comes with a lot of standard modules which form the [Python standard library](https://docs.python.org/3/library/index.html). This\n",
        "is definitively one of the great strengths of Python to offer a so rich standard library. It would\n",
        "not be possible to present all these modules and packages but the clear and well organized\n",
        "documentation is here to help you in finding the ones you need. A good habit before trying\n",
        "to reinvent the wheel is to have first a look in these documentation pages. Hereafter, we\n",
        "introduce some parts of the standard library (with links to the documentation pages for\n",
        "further readings) which we consider useful but with no claim of exhaustiveness."
      ]
    },
    {
      "cell_type": "markdown",
      "metadata": {
        "id": "zI00OgjHUFfR"
      },
      "source": [
        "#### A bit of math"
      ]
    },
    {
      "cell_type": "markdown",
      "metadata": {
        "id": "OL-WmvkvUFfR"
      },
      "source": [
        "More advanced mathematical packages are presented further but, for basic mathematics, the\n",
        "standard module `math` already offers several useful definitions. Among them, we can start\n",
        "with the constants $π$ and $e$:"
      ]
    },
    {
      "cell_type": "code",
      "execution_count": null,
      "metadata": {
        "id": "6qVuUO3uUFfR"
      },
      "outputs": [],
      "source": [
        "import math\n",
        "\n",
        "print(math.pi)\n",
        "print(math.e)"
      ]
    },
    {
      "cell_type": "markdown",
      "metadata": {
        "id": "-S0Ig6l7UFfR"
      },
      "source": [
        "Common mathematical functions are also provided:"
      ]
    },
    {
      "cell_type": "code",
      "execution_count": null,
      "metadata": {
        "id": "6_CeZ3rGUFfR"
      },
      "outputs": [],
      "source": [
        "x = 4.2\n",
        "print(math.fabs(x)) # Absolute value\n",
        "print(math.exp(x)) # Exponential\n",
        "print(math.log(x)) # Logarithm\n",
        "print(math.sqrt(x)) # Square root\n",
        "print(math.cos(x), math.sin(x), math.tan(x)) # Trigonometry\n",
        "# Et cetera..."
      ]
    },
    {
      "cell_type": "markdown",
      "metadata": {
        "id": "zrVhFQhlUFfR"
      },
      "source": [
        "It is also better to keep in mind that the functions provided by math are usually more accurate\n",
        "than standard functions."
      ]
    },
    {
      "cell_type": "code",
      "execution_count": null,
      "metadata": {
        "id": "goiOv5FvUFfS"
      },
      "outputs": [],
      "source": [
        "x = [0.1] * 10\n",
        "sum(x)"
      ]
    },
    {
      "cell_type": "code",
      "execution_count": null,
      "metadata": {
        "id": "W3AJcIgaUFfS"
      },
      "outputs": [],
      "source": [
        "math.fsum(x)"
      ]
    },
    {
      "cell_type": "markdown",
      "metadata": {
        "id": "AyYEdhaSUFfS"
      },
      "source": [
        "An other useful mathematical tool is a (pseudo-)random number generator. The module\n",
        "`random` offers generators for various distributions."
      ]
    },
    {
      "cell_type": "code",
      "execution_count": null,
      "metadata": {
        "id": "XnN2y7A0UFfS"
      },
      "outputs": [],
      "source": [
        "import random\n",
        "\n",
        "# Random integer between 4 and 9\n",
        "print(random.randint(4, 9))\n",
        "# Uniform distribution in [0, 1)\n",
        "print(random.random())\n",
        "# Uniform distribution in [1.7, 4.2)\n",
        "print(random.uniform(1.7, 4.2))\n",
        "# Gaussian distribution with mean -8.1 and standard deviation 4.2\n",
        "print(random.gauss(-8.1, 4.2))"
      ]
    },
    {
      "cell_type": "code",
      "execution_count": null,
      "metadata": {
        "id": "nnbvCqPyUFfS"
      },
      "outputs": [],
      "source": [
        "# Et cetera...\n",
        "# Some useful tools on set (subsampling, for instance)\n",
        "x = [i for i in range(10)]\n",
        "random.shuffle(x); print(x)\n",
        "print(random.sample(x, 4))"
      ]
    },
    {
      "cell_type": "markdown",
      "metadata": {
        "id": "vYNYqBfXUFfS"
      },
      "source": [
        "To conclude this brief review of mathematical tools in standard library, we mention the\n",
        "module `statistics` which provides (very) basic statistical functions."
      ]
    },
    {
      "cell_type": "code",
      "execution_count": null,
      "metadata": {
        "id": "Pu3Q1D1bUFfS"
      },
      "outputs": [],
      "source": [
        "import statistics\n",
        "\n",
        "x = [random.gauss(0, 1) for i in range(50)]\n",
        "print(statistics.mean(x))\n",
        "print(statistics.median(x))\n",
        "print(statistics.variance(x))"
      ]
    },
    {
      "cell_type": "markdown",
      "metadata": {
        "id": "1P-bXreXUFfS"
      },
      "source": [
        "*Documentation pages:*\n",
        "\n",
        "- [math](https://docs.python.org/3/library/math.html)\n",
        "- [random](https://docs.python.org/3/library/random.html)\n",
        "- [statistics](https://docs.python.org/3/library/statistics.html)"
      ]
    },
    {
      "cell_type": "markdown",
      "metadata": {
        "id": "3DYoij9BUFfT"
      },
      "source": [
        "#### System interfaces"
      ]
    },
    {
      "cell_type": "markdown",
      "metadata": {
        "id": "Lbg8sD5yUFfT"
      },
      "source": [
        "Some standard modules provide portable ways to interact with the underlying system. Maybe\n",
        "not the easiest to use, the module `os` offers a lot of low-level functions wherein some allow to\n",
        "deal with the current working directory."
      ]
    },
    {
      "cell_type": "code",
      "execution_count": null,
      "metadata": {
        "id": "U4svtkBuUFfT"
      },
      "outputs": [],
      "source": [
        "import os\n",
        "\n",
        "# Get the working directory\n",
        "print(os.getcwd())"
      ]
    },
    {
      "cell_type": "code",
      "execution_count": null,
      "metadata": {
        "id": "S3RZ3wzvUFfT"
      },
      "outputs": [],
      "source": [
        "# List the content of the working directory\n",
        "print(os.listdir())"
      ]
    },
    {
      "cell_type": "code",
      "execution_count": null,
      "metadata": {
        "id": "gVmmaxc0UFfT"
      },
      "outputs": [],
      "source": [
        "# Create a directory in the working directory\n",
        "os.mkdir('test_dir')"
      ]
    },
    {
      "cell_type": "code",
      "execution_count": null,
      "metadata": {
        "id": "xarNdPnXUFfT"
      },
      "outputs": [],
      "source": [
        "# Change the working directory\n",
        "os.chdir('test_dir')\n",
        "print(os.getcwd())"
      ]
    },
    {
      "cell_type": "code",
      "execution_count": null,
      "metadata": {
        "id": "RqE01jq5UFfT"
      },
      "outputs": [],
      "source": [
        "os.chdir('..')\n",
        "print(os.getcwd())"
      ]
    },
    {
      "cell_type": "code",
      "execution_count": null,
      "metadata": {
        "id": "2w0Dx-IZUFfT"
      },
      "outputs": [],
      "source": [
        "# Remove a directory\n",
        "os.rmdir('test_dir')\n",
        "# Et cetera..."
      ]
    },
    {
      "cell_type": "code",
      "execution_count": null,
      "metadata": {
        "id": "c4JsPPI9UFfU"
      },
      "outputs": [],
      "source": [
        "print(os.getcwd())"
      ]
    },
    {
      "cell_type": "markdown",
      "metadata": {
        "id": "02e3pLUkUFfU"
      },
      "source": [
        "When you need to handle path names, the module `os.path` is your best friend. It allows\n",
        "you to extract the base name of a file with `os.path.basename`, to test if a path exists with\n",
        "`os.path.exists`, ... and especially to manage path names with `os.path.join` in a portable\n",
        "way:"
      ]
    },
    {
      "cell_type": "code",
      "execution_count": null,
      "metadata": {
        "id": "B8pPtS8uUFfU"
      },
      "outputs": [],
      "source": [
        "import os.path\n",
        "\n",
        "# Content of shire varies from an operating system to an other\n",
        "shire = os.path.join('hobbit', 'home', 'land')\n",
        "print(shire)"
      ]
    },
    {
      "cell_type": "markdown",
      "metadata": {
        "id": "OHA3K9fkUFfU"
      },
      "source": [
        "Finally, the module sys provides system tools which are not dependent of the operating\n",
        "system."
      ]
    },
    {
      "cell_type": "code",
      "execution_count": null,
      "metadata": {
        "id": "N-tX3ZO4UFfU"
      },
      "outputs": [],
      "source": [
        "import sys\n",
        "\n",
        "# Get a platform identifier\n",
        "print(sys.platform)"
      ]
    },
    {
      "cell_type": "code",
      "execution_count": null,
      "metadata": {
        "id": "V7BIP0FKUFfU"
      },
      "outputs": [],
      "source": [
        "# A quick way to exit a program\n",
        "sys.exit('Before I die...')"
      ]
    },
    {
      "cell_type": "markdown",
      "metadata": {
        "id": "x7OQMgj3UFfU"
      },
      "source": [
        "*Documentation pages*:\n",
        "\n",
        "- [os](https://docs.python.org/3.4/library/os.html)\n",
        "- [os.path](https://docs.python.org/3.4/library/os.path.html)\n",
        "- [sys](https://docs.python.org/3.4/library/sys.html)"
      ]
    },
    {
      "cell_type": "markdown",
      "metadata": {
        "id": "NTTa1oiHUFfU"
      },
      "source": [
        "#### Data formats"
      ]
    },
    {
      "cell_type": "markdown",
      "metadata": {
        "id": "Lo_7AR-aUFfV"
      },
      "source": [
        "We now browse some usual data formats and ways to import and export data with Python.\n",
        "The module `datetime` supplies classes for manipulating dates and times. This module offers\n",
        "advanced tools to handle dates and times but we restrict our introduction to the simplest\n",
        "one, namely `datetime.datetime` class (read the documentation to get more informations)."
      ]
    },
    {
      "cell_type": "code",
      "execution_count": null,
      "metadata": {
        "id": "WDpaLDoXUFfV"
      },
      "outputs": [],
      "source": [
        "import datetime\n",
        "\n",
        "now = datetime.datetime.now()\n",
        "print(str(now)) # Date and time as a string"
      ]
    },
    {
      "cell_type": "code",
      "execution_count": null,
      "metadata": {
        "id": "MnmaxdV9UFfV"
      },
      "outputs": [],
      "source": [
        "print(now.weekday()) # 0 is Monday, 1 is Tuesday, ..."
      ]
    },
    {
      "cell_type": "code",
      "execution_count": null,
      "metadata": {
        "id": "VKhTAXfoUFfV"
      },
      "outputs": [],
      "source": [
        "# Direct access to the attributes\n",
        "print(now.year)\n",
        "print(now.month)\n",
        "print(now.day)\n",
        "print(now.hour)\n",
        "print(now.minute)\n",
        "print(now.second)\n",
        "print(now.microsecond)"
      ]
    },
    {
      "cell_type": "code",
      "execution_count": null,
      "metadata": {
        "id": "2j12uIzjUFfV"
      },
      "outputs": [],
      "source": [
        "# Time arithmetic\n",
        "delta = datetime.timedelta(days=17,\n",
        "seconds=8,\n",
        "microseconds=81,\n",
        "milliseconds=1,\n",
        "minutes=3,\n",
        "hours=15,\n",
        "weeks=42)\n",
        "print(str(now + delta))\n",
        "print(str(now - 2*delta))"
      ]
    },
    {
      "cell_type": "markdown",
      "metadata": {
        "id": "bDQuktHZUFfV"
      },
      "source": [
        "Standard library offers several ways to import and export data. Such mechanisms are\n",
        "useful to save data into files and load them some time after. Module `pickle` supplies `dump`\n",
        "and `load` to these ends. Pay attention to the fact that `pickle` uses binary files (`'wb'` and\n",
        "`'rb'` in the following examples), this is similar to what we have seen previously but with\n",
        "bytes instead of characters."
      ]
    },
    {
      "cell_type": "code",
      "execution_count": null,
      "metadata": {
        "id": "DXvK062tUFfW"
      },
      "outputs": [],
      "source": [
        "import pickle\n",
        "\n",
        "amazing_object = {\n",
        "    'Baggins': ('Bilbo', 'Frodo'),\n",
        "    'Gamgee': ('Samwise',),\n",
        "    'Brandybuck': ('Meriadoc',)\n",
        "}\n",
        "\n",
        "# Write an object to a binary file\n",
        "with open('amazing.data', 'wb') as f:\n",
        "    pickle.dump(amazing_object, f)\n",
        "\n",
        "# Delete the object to simulate a new session (or quit)\n",
        "del amazing_object\n",
        "\n",
        "# Load an object from a binary file\n",
        "with open('amazing.data', 'rb') as f:\n",
        "    amazing_object = pickle.load(f)\n",
        "\n",
        "print(amazing_object)"
      ]
    },
    {
      "cell_type": "markdown",
      "metadata": {
        "id": "uxwCOSxdUFfW"
      },
      "source": [
        "An other common way to serialize data is the [JSON format](https://www.wikiwand.com/en/JSON). The module json offers a handsome interface to deal with files in such a format."
      ]
    },
    {
      "cell_type": "code",
      "execution_count": null,
      "metadata": {
        "id": "QIsd92EbUFfW"
      },
      "outputs": [],
      "source": [
        "import json\n",
        "\n",
        "amazing_object = {\n",
        "    'Baggins': ('Bilbo', 'Frodo'),\n",
        "    'Gamgee': ('Samwise',),\n",
        "    'Brandybuck': ('Meriadoc',)\n",
        "}\n",
        "\n",
        "# See it in JSON format\n",
        "print(json.dumps(amazing_object))"
      ]
    },
    {
      "cell_type": "code",
      "execution_count": null,
      "metadata": {
        "id": "5I4kwWh4UFfW"
      },
      "outputs": [],
      "source": [
        "print(json.dumps(amazing_object, indent=4)) # Prettier"
      ]
    },
    {
      "cell_type": "code",
      "execution_count": null,
      "metadata": {
        "id": "Uc2w1KsaUFfW"
      },
      "outputs": [],
      "source": [
        "# Load from a string\n",
        "my_object = json.loads('[\"gandalf\", {\"is\":[\"amazing\", null, 1.7]}]')\n",
        "print(my_object); type(my_object)"
      ]
    },
    {
      "cell_type": "code",
      "execution_count": null,
      "metadata": {
        "id": "VH2TUNGlUFfW"
      },
      "outputs": [],
      "source": [
        "# Export to a file\n",
        "with open('amazing.json', 'w') as f:\n",
        "    f.write(json.dumps(amazing_object))\n",
        "    del amazing_object # Simulate again\n",
        "\n",
        "# Load from a file\n",
        "with open('amazing.json', 'r') as f:\n",
        "    amazing_object = json.loads(f.read())\n",
        "print(amazing_object)"
      ]
    },
    {
      "cell_type": "markdown",
      "metadata": {
        "id": "9DlHeZrIUFfX"
      },
      "source": [
        "*Documentation pages:*\n",
        "\n",
        "- [datetime](https://docs.python.org/3/library/datetime.html)\n",
        "- [pickle](https://docs.python.org/3/library/pickle.html)\n",
        "- [json](https://docs.python.org/3/library/json.html)"
      ]
    },
    {
      "cell_type": "markdown",
      "metadata": {
        "id": "LzKkGObGUFfX"
      },
      "source": [
        "## Graphics with Matplotlib"
      ]
    },
    {
      "cell_type": "markdown",
      "metadata": {
        "id": "jntP0XBiUFfX"
      },
      "source": [
        "### Introduction"
      ]
    },
    {
      "cell_type": "markdown",
      "metadata": {
        "id": "VJ07xn9mUFfX"
      },
      "source": [
        "[Matplotlib](https://matplotlib.org/) is a plotting library originally wrote by John D. Hunter and distributed under a\n",
        "BSD compatible licence (Matplotlib is a free software).\n",
        "\n",
        "Hereafter, we propose an introduction to basic concepts underlying the Matplotlib pack-\n",
        "age. To experiment the following examples, we recommend to work in a Python console rather\n",
        "than a IPython one. Indeed, this latter integrates graphics in its own way and is not handy\n",
        "for an introduction."
      ]
    },
    {
      "cell_type": "markdown",
      "metadata": {
        "id": "cJicI7wuUFfX"
      },
      "source": [
        "### Simple graphs"
      ]
    },
    {
      "cell_type": "markdown",
      "metadata": {
        "id": "XHUc0ribUFfX"
      },
      "source": [
        "Because we are in a Jupyter Notebook/Lab environment, we have to tell our interpreter to render figures inline."
      ]
    },
    {
      "cell_type": "code",
      "execution_count": null,
      "metadata": {
        "id": "9ZikW-70UFfX"
      },
      "outputs": [],
      "source": [
        "%matplotlib inline"
      ]
    },
    {
      "cell_type": "markdown",
      "metadata": {
        "id": "ZO9Ksx-yUFfX"
      },
      "source": [
        "To create figures, Matplotlib supplies the module `pyplot`. To avoid long commands, we use\n",
        "the common alias `plt` for this module."
      ]
    },
    {
      "cell_type": "code",
      "execution_count": null,
      "metadata": {
        "id": "bNmT9PyqUFfY"
      },
      "outputs": [],
      "source": [
        "import matplotlib.pyplot as plt"
      ]
    },
    {
      "cell_type": "markdown",
      "metadata": {
        "id": "0DWv8WnTUFfY"
      },
      "source": [
        "The most basic graph consists in plotting some points considering their x and y coordinates\n",
        "with `plot`. If you work with Spyder, a special window containing the graph appears after the\n",
        "call to the `plot` function. However, if you work with a raw Python console, you will have to\n",
        "call explicitly the function `show` to see this window which allows you to handle some graphics\n",
        "parameters. To adjust thes axes, you can also deal with the function `axis`."
      ]
    },
    {
      "cell_type": "code",
      "execution_count": null,
      "metadata": {
        "id": "nZERHS9sUFfY"
      },
      "outputs": [],
      "source": [
        "plt.plot([15, 3, 1, 5], [42, 17, 8, 5])\n",
        "\n",
        "# Modify the axes\n",
        "plt.axis([-5, 20, 0, 50]); # [xmin, xmax, ymin, ymax]"
      ]
    },
    {
      "cell_type": "markdown",
      "metadata": {
        "id": "Bmbpg4ccUFfY"
      },
      "source": [
        "If you call again the function `plot`, you see that the new points are plotted in the same\n",
        "figure. This is one way for plotting several graphs together but you can also call `plot` with\n",
        "all the points to plot in one time. To distinguish the plots, use format strings after each pair\n",
        "of points sequences (see the [documentation](https://matplotlib.org/2.0.0/api/pyplot_api.html#matplotlib.pyplot.plot) for details). When you want to restart the figure,\n",
        "you can clean it with `clf` or simply call `close` and start a new one. Alternatively, if you want\n",
        "to keep the existing one for further manipulations, call `figure` to create a new device."
      ]
    },
    {
      "cell_type": "code",
      "execution_count": null,
      "metadata": {
        "id": "1oPAFfS8UFfY"
      },
      "outputs": [],
      "source": [
        "# Clean the current figure\n",
        "plt.clf()\n",
        "\n",
        "# Cyan star markers\n",
        "plt.plot([15, 3, 1, 5], [42, 17, 8, 5], 'c*');"
      ]
    },
    {
      "cell_type": "code",
      "execution_count": null,
      "metadata": {
        "id": "OxiV0T3aUFfY"
      },
      "outputs": [],
      "source": [
        "# End the previous figure\n",
        "plt.close()\n",
        "\n",
        "# Red square markers\n",
        "plt.plot([15, 3, 1, 5], [42, 17, 8, 5], 'rs')\n",
        "\n",
        "# Additional plot with green dash-dot line and circle markers\n",
        "plt.plot([0, 5, 10, 15], [42, 17, 8, 5], 'go-.')\n",
        "\n",
        "# Open a new figure\n",
        "plt.figure()\n",
        "\n",
        "# Same graph as above created in one command\n",
        "plt.plot(\n",
        "    [15, 3, 1, 5], [42, 17, 8, 5], 'rs',\n",
        "    [0, 5, 10, 15], [42, 17, 8, 5], 'go-.'\n",
        ");"
      ]
    },
    {
      "cell_type": "markdown",
      "metadata": {
        "id": "W_r-7eaQUFfZ"
      },
      "source": [
        "The function plot produces an `Line2D` object which permits to control line properties.\n",
        "These properties can be set at the creation or later with the help of `setp` (again, see the\n",
        "[documentation](https://matplotlib.org/2.0.0/api/pyplot_api.html#matplotlib.pyplot.plot))."
      ]
    },
    {
      "cell_type": "code",
      "execution_count": null,
      "metadata": {
        "id": "2jcQ7nslUFfZ"
      },
      "outputs": [],
      "source": [
        "# With properties\n",
        "my_line = plt.plot([0, 5, 10, 15], [17, 8, 42, 5],\n",
        "    color='green',\n",
        "    linestyle='dashed',\n",
        "    marker='o',\n",
        "    markerfacecolor='blue',\n",
        "    markersize=12\n",
        ")\n",
        "\n",
        "# Change some properties\n",
        "plt.setp(my_line, 'color', 'red', 'linewidth', 2.0)\n",
        "\n",
        "# With more than one line, a list is returned\n",
        "my_lines = plt.plot(\n",
        "    [15, 3, 1, 5], [42, 17, 8, 5], 'rs',\n",
        "    [0, 5, 10, 15], [42, 17, 8, 5], 'go-.'\n",
        ")\n",
        "\n",
        "plt.setp(my_lines[0], 'color', 'cyan')\n",
        "plt.setp(my_lines[1], 'marker', 'D');"
      ]
    },
    {
      "cell_type": "markdown",
      "metadata": {
        "id": "R83L-hMvUFfZ"
      },
      "source": [
        "An other common decoration of a graph is text with title, labels and comments. The\n",
        "functions `title`, `xlabel`, `ylabel` and `text` are supplied to this end."
      ]
    },
    {
      "cell_type": "code",
      "execution_count": null,
      "metadata": {
        "id": "vrNRVXtIUFfZ"
      },
      "outputs": [],
      "source": [
        "import math\n",
        "\n",
        "# Some parameters\n",
        "mu = -2.5\n",
        "sigma = 3\n",
        "\n",
        "# Gaussian density\n",
        "def gaussian_density(t, m=0, s=1):\n",
        "    return math.exp(-(t-m)**2 / (2*s**2)) / math.sqrt(2*math.pi*s**2)\n",
        "\n",
        "# Some data\n",
        "n = 256\n",
        "x = [mu + 4 * sigma * i / n for i in range(-n, n+1)]\n",
        "y = [gaussian_density(t, mu, sigma) for t in x]\n",
        "\n",
        "plt.plot(x, y, 'r--')\n",
        "\n",
        "# Add a title\n",
        "plt.title('Gaussian density')\n",
        "\n",
        "# Add labels for the axes\n",
        "plt.xlabel('Abscissa')\n",
        "plt.ylabel('Ordinate')\n",
        "\n",
        "# Add some text\n",
        "plt.text(mu, 1 / math.sqrt(8 * math.pi * sigma**2), 'Hello Gauss!');"
      ]
    },
    {
      "cell_type": "markdown",
      "metadata": {
        "id": "hTK3lZ5YUFfZ"
      },
      "source": [
        "If you need to include mathematical notations in the text, you can write a TeX expression\n",
        "surrounded by dollar signs:"
      ]
    },
    {
      "cell_type": "code",
      "execution_count": null,
      "metadata": {
        "id": "HWm2vuafUFfZ"
      },
      "outputs": [],
      "source": [
        "plt.title(\n",
        "    'Gaussian density with $\\mu$={} and $\\sigma$={}'.format(mu, sigma)\n",
        ");"
      ]
    },
    {
      "cell_type": "markdown",
      "metadata": {
        "id": "03bc8FhfUFfZ"
      },
      "source": [
        "### Adding elements"
      ]
    },
    {
      "cell_type": "markdown",
      "metadata": {
        "id": "On0vM8BeUFfa"
      },
      "source": [
        "We had just a brief look on all the options offered by Matplotlib to produce figures. Reading\n",
        "the documentation, you see that adding common elements is quite straightforward. Hereafter,\n",
        "we give some examples and we encourage you to browse the [Matplotlib beginner's guide](https://matplotlib.org/2.0.0/users/beginner.html)."
      ]
    },
    {
      "cell_type": "code",
      "execution_count": null,
      "metadata": {
        "id": "tku2u7J_UFfa"
      },
      "outputs": [],
      "source": [
        "z = [gaussian_density(t, mu, sigma/2) for t in x]\n",
        "\n",
        "# Lines with labels\n",
        "plt.plot(x, y, 'r--', label='$\\sigma$={}'.format(sigma))\n",
        "plt.plot(x, z, 'g-.', label='$\\sigma$={}'.format(sigma / 2))\n",
        "\n",
        "# Add a legend based on labels\n",
        "plt.legend()\n",
        "\n",
        "# Add a grid\n",
        "plt.grid()"
      ]
    },
    {
      "cell_type": "markdown",
      "metadata": {
        "id": "XAPEWnU9UFfa"
      },
      "source": [
        "### Other graphs"
      ]
    },
    {
      "cell_type": "markdown",
      "metadata": {
        "id": "_7IHZqlPUFfa"
      },
      "source": [
        "Of course, Matplotlib is not restricted to plot simple sequences of points and to the module\n",
        "`pyplot`. The package supplies a lot of graphical representations and tools and it would be\n",
        "beyond the scope of this document to make an exhaustive review. We give below an insight\n",
        "about the possibilities. If you are interested in data visualization, you should have a look to\n",
        "the [Matplotlib examples](https://matplotlib.org/examples/index.html)."
      ]
    },
    {
      "cell_type": "code",
      "execution_count": null,
      "metadata": {
        "id": "VpSrUylQUFfa"
      },
      "outputs": [],
      "source": [
        "import math\n",
        "import random\n",
        "import matplotlib.pyplot as plt\n",
        "\n",
        "# Scatter plot\n",
        "n = 256\n",
        "x = [random.gauss(0, 1) for i in range(n)]\n",
        "y = [random.gauss(0, 1) for i in range(n)]\n",
        "color = [random.randint(0, 50) for i in range(n)]\n",
        "size = [100 * random.random() for i in range(n)]\n",
        "plt.scatter(x, y, c=color, s=size, alpha=0.5)\n",
        "plt.figure();"
      ]
    },
    {
      "cell_type": "code",
      "execution_count": null,
      "metadata": {
        "id": "2eTJx6ixUFfa"
      },
      "outputs": [],
      "source": [
        "# Histogram\n",
        "n = 2048\n",
        "x = [random.gauss(0, 1) for i in range(n)]\n",
        "u = [4 * i / n for i in range(-n, n + 1)]\n",
        "v = [math.exp(-t**2/2) / math.sqrt(2*math.pi) for t in u]\n",
        "plt.hist(x, bins=50, density=True, color='orange')\n",
        "plt.plot(u, v, 'r-', linewidth=2)\n",
        "plt.figure();"
      ]
    },
    {
      "cell_type": "code",
      "execution_count": null,
      "metadata": {
        "id": "oYoi8Zf8UFfb"
      },
      "outputs": [],
      "source": [
        "# Pie chart\n",
        "ore = ['Gold', 'Silver', 'Ore', 'Mithril']\n",
        "count = [31, 58, 93, 21]\n",
        "color = ['gold', 'silver', 'brown', 'lightskyblue']\n",
        "explode = (0, 0.1, 0, 0)\n",
        "plt.pie(count, labels=ore, colors=color, explode=explode, shadow=True, startangle=90)\n",
        "plt.figure();"
      ]
    },
    {
      "cell_type": "code",
      "execution_count": null,
      "metadata": {
        "id": "g5tbG1yFUFfb"
      },
      "outputs": [],
      "source": [
        "# Boxplot\n",
        "n = 256\n",
        "x = [random.gauss(0, 1) for i in range(n)]\n",
        "y = [random.gauss(0, 1) for i in range(n)]\n",
        "plt.boxplot([x, y])\n",
        "plt.figure();"
      ]
    },
    {
      "cell_type": "code",
      "execution_count": null,
      "metadata": {
        "id": "PwV8ka_WUFfb"
      },
      "outputs": [],
      "source": [
        "# Violin plot\n",
        "plt.violinplot([x, y]);"
      ]
    },
    {
      "cell_type": "markdown",
      "metadata": {
        "id": "LIwnpWHWUFfb"
      },
      "source": [
        "## Mathematics with NumPy"
      ]
    },
    {
      "cell_type": "markdown",
      "metadata": {
        "id": "4TuWijtNUFfb"
      },
      "source": [
        "### What is NumPy?"
      ]
    },
    {
      "cell_type": "markdown",
      "metadata": {
        "id": "D45cuYXBUFfb"
      },
      "source": [
        "[NumPy](https://www.numpy.org/) is a Python package which provides tools to work with multi-dimensional arrays and\n",
        "matrices, along with a large library of high-level mathematical functions to operate on these\n",
        "arrays. NumPy is distributed under the terms of a revised BSD license and is thus a free\n",
        "software.\n",
        "\n",
        "To shorten the commands of this section, we use the common alias `np` for `numpy` as follows:"
      ]
    },
    {
      "cell_type": "code",
      "execution_count": null,
      "metadata": {
        "id": "d1U0gIcKUFfc"
      },
      "outputs": [],
      "source": [
        "import numpy as np\n",
        "\n",
        "# NumPy supplies usual constants\n",
        "print(np.pi)\n",
        "print(np.e)"
      ]
    },
    {
      "cell_type": "markdown",
      "metadata": {
        "id": "4_rAfOdWUFfc"
      },
      "source": [
        "### The array class"
      ]
    },
    {
      "cell_type": "markdown",
      "metadata": {
        "id": "bGld5WfBUFfc"
      },
      "source": [
        "The `array` class plays a central role in NumPy. Such an object can be instantiated with the\n",
        "function `array` from a list for a vector or a list of lists for a matrix."
      ]
    },
    {
      "cell_type": "code",
      "execution_count": null,
      "metadata": {
        "id": "_UBMTZbEUFfc"
      },
      "outputs": [],
      "source": [
        "# Vector\n",
        "v = np.array([17.0, 42.0, 8.1, 19.0])\n",
        "print(v, type(v))"
      ]
    },
    {
      "cell_type": "code",
      "execution_count": null,
      "metadata": {
        "id": "bHOXiGKPUFfc"
      },
      "outputs": [],
      "source": [
        "# Matrix (list of rows)\n",
        "m = np.array([[1.0, 2.0, 3.0],\n",
        "[4.0, 5.0, 6.0]])\n",
        "print(m, type(m))"
      ]
    },
    {
      "cell_type": "code",
      "execution_count": null,
      "metadata": {
        "id": "BqnSvlX-UFfc"
      },
      "outputs": [],
      "source": [
        "# Function print behaves nicely with large arrays\n",
        "print(np.array(range(10000)))\n",
        "np.array([range(500) for i in range(500)])"
      ]
    },
    {
      "cell_type": "markdown",
      "metadata": {
        "id": "Ghh-IoztUFfc"
      },
      "source": [
        "To access elements in an array, we use naturally a syntax based on square brackets `[]` and\n",
        "slicing."
      ]
    },
    {
      "cell_type": "code",
      "execution_count": null,
      "metadata": {
        "id": "Xbv4kjujUFfc"
      },
      "outputs": [],
      "source": [
        "print(v[0])"
      ]
    },
    {
      "cell_type": "code",
      "execution_count": null,
      "metadata": {
        "id": "PoTuBh9mUFfd"
      },
      "outputs": [],
      "source": [
        "print(v[1:3])"
      ]
    },
    {
      "cell_type": "code",
      "execution_count": null,
      "metadata": {
        "id": "ccIIVfDtUFfd"
      },
      "outputs": [],
      "source": [
        "# Modify items\n",
        "v[2] = 15.0\n",
        "print(v)"
      ]
    },
    {
      "cell_type": "code",
      "execution_count": null,
      "metadata": {
        "id": "PA6Ft8sLUFfd"
      },
      "outputs": [],
      "source": [
        "v[1:3] = 0.0\n",
        "print(v)"
      ]
    },
    {
      "cell_type": "code",
      "execution_count": null,
      "metadata": {
        "id": "zFIxsYwGUFfd"
      },
      "outputs": [],
      "source": [
        "# Idem for matrices\n",
        "print(m[0,1])"
      ]
    },
    {
      "cell_type": "code",
      "execution_count": null,
      "metadata": {
        "id": "VdWaj0kOUFfd"
      },
      "outputs": [],
      "source": [
        "print(m[:,2])\n",
        "# Et cetera ..."
      ]
    },
    {
      "cell_type": "markdown",
      "metadata": {
        "id": "auIpC8cqUFfd"
      },
      "source": [
        "To get informations about the array dimensions and the number of rows, columns, ... the\n",
        "`array` class supplies an attribute `shape` which is a tuple. Moreover, the method `reshape`\n",
        "allows you to change the dimensions of an array."
      ]
    },
    {
      "cell_type": "code",
      "execution_count": null,
      "metadata": {
        "id": "K8HnLM-cUFfd"
      },
      "outputs": [],
      "source": [
        "print(v.shape)"
      ]
    },
    {
      "cell_type": "code",
      "execution_count": null,
      "metadata": {
        "id": "qYDD7LhAUFfe",
        "outputId": "5b96ca91-4a2c-4b0f-c876-2df6f07f26e0",
        "colab": {
          "base_uri": "https://localhost:8080/",
          "height": 166
        }
      },
      "outputs": [
        {
          "output_type": "error",
          "ename": "NameError",
          "evalue": "ignored",
          "traceback": [
            "\u001b[0;31m---------------------------------------------------------------------------\u001b[0m",
            "\u001b[0;31mNameError\u001b[0m                                 Traceback (most recent call last)",
            "\u001b[0;32m<ipython-input-46-ebb5e5d6c5e6>\u001b[0m in \u001b[0;36m<module>\u001b[0;34m\u001b[0m\n\u001b[0;32m----> 1\u001b[0;31m \u001b[0mprint\u001b[0m\u001b[0;34m(\u001b[0m\u001b[0mm\u001b[0m\u001b[0;34m.\u001b[0m\u001b[0mshape\u001b[0m\u001b[0;34m)\u001b[0m\u001b[0;34m\u001b[0m\u001b[0;34m\u001b[0m\u001b[0m\n\u001b[0m",
            "\u001b[0;31mNameError\u001b[0m: name 'm' is not defined"
          ]
        }
      ],
      "source": [
        "print(m.shape)"
      ]
    },
    {
      "cell_type": "code",
      "execution_count": null,
      "metadata": {
        "id": "1hBmbSDSUFfh"
      },
      "outputs": [],
      "source": [
        "m1 = v.reshape(2, 2)\n",
        "print(m1)"
      ]
    },
    {
      "cell_type": "code",
      "execution_count": null,
      "metadata": {
        "id": "s8ddInQeUFfh"
      },
      "outputs": [],
      "source": [
        "m2 = m.reshape(3, 2)\n",
        "print(m2)"
      ]
    },
    {
      "cell_type": "code",
      "execution_count": null,
      "metadata": {
        "id": "ffnwZzApUFfh"
      },
      "outputs": [],
      "source": [
        "v1 = m.reshape(6)\n",
        "print(v1)"
      ]
    },
    {
      "cell_type": "markdown",
      "metadata": {
        "id": "o40CI5CfUFfh"
      },
      "source": [
        "The `array` class offers several useful function to do basic computations with arrays. There\n",
        "are a lot of tools defined for arrays as you can see in the [index of the documentation](https://docs.scipy.org/doc/numpy/genindex.html). All\n",
        "these tools can be called as methods or as functions from the NumPy namespace."
      ]
    },
    {
      "cell_type": "code",
      "execution_count": null,
      "metadata": {
        "id": "ymsTC2ExUFfi"
      },
      "outputs": [],
      "source": [
        "# Sum of the elements\n",
        "s = v.sum()\n",
        "s = np.sum(v) # Equivalent to the previous one\n",
        "print(s)"
      ]
    },
    {
      "cell_type": "code",
      "execution_count": null,
      "metadata": {
        "id": "Gicky_D6UFfi"
      },
      "outputs": [],
      "source": [
        "# Cumulative sum of the elements\n",
        "cs = v.cumsum()\n",
        "cs = np.cumsum(v) # Equivalent to the previous one\n",
        "print(cs)"
      ]
    },
    {
      "cell_type": "code",
      "execution_count": null,
      "metadata": {
        "id": "dXnX-hSDUFfi"
      },
      "outputs": [],
      "source": [
        "# Maximum and minimum\n",
        "print(m.min(), m.max())"
      ]
    },
    {
      "cell_type": "code",
      "execution_count": null,
      "metadata": {
        "id": "8xdOzoOjUFfi"
      },
      "outputs": [],
      "source": [
        "print(np.min(m), np.max(m)) # Equivalent to the previous one"
      ]
    },
    {
      "cell_type": "code",
      "execution_count": null,
      "metadata": {
        "id": "Jm0aSdMMUFfi"
      },
      "outputs": [],
      "source": [
        "# Mean and variance\n",
        "print(v.mean()) # Or np.mean(v)\n",
        "print(m.var()) # Or np.var(m)"
      ]
    },
    {
      "cell_type": "markdown",
      "metadata": {
        "id": "1SBuEV0lUFfi"
      },
      "source": [
        "An important advantage offered by NumPy arrays and functions is the capacity to apply\n",
        "a function to all the items of an array without a loop. Such a syntax makes definitively the\n",
        "code easier to read and is often used in the sequel."
      ]
    },
    {
      "cell_type": "code",
      "execution_count": null,
      "metadata": {
        "id": "K-TfKn_GUFfi"
      },
      "outputs": [],
      "source": [
        "n = 6\n",
        "x = np.array([np.pi * i / (n - 1) for i in range(n)])\n",
        "print(np.cos(x))"
      ]
    },
    {
      "cell_type": "markdown",
      "metadata": {
        "id": "fg-VNvnPUFfi"
      },
      "source": [
        "It also works with common operations."
      ]
    },
    {
      "cell_type": "code",
      "execution_count": null,
      "metadata": {
        "id": "7KVBQUOQUFfj"
      },
      "outputs": [],
      "source": [
        "print(x + 1)"
      ]
    },
    {
      "cell_type": "code",
      "execution_count": null,
      "metadata": {
        "id": "Bd5d8aKWUFfj"
      },
      "outputs": [],
      "source": [
        "print(2 * x)"
      ]
    },
    {
      "cell_type": "code",
      "execution_count": null,
      "metadata": {
        "id": "mPyxWp_oUFfj"
      },
      "outputs": [],
      "source": [
        "print(x / 5)"
      ]
    },
    {
      "cell_type": "code",
      "execution_count": null,
      "metadata": {
        "id": "r4O2C1c1UFfj"
      },
      "outputs": [],
      "source": [
        "import math\n",
        "\n",
        "print(math.cos(x)) # Error, only available with NumPy functions"
      ]
    },
    {
      "cell_type": "markdown",
      "metadata": {
        "id": "MthS6yflUFfj"
      },
      "source": [
        "As we mentioned before, we have to pay attention about copy operation when we manip-\n",
        "ulate arrays. Indeed, as mutable objects, the content of an array is sometimes copied and\n",
        "sometimes only passed as a reference."
      ]
    },
    {
      "cell_type": "code",
      "execution_count": null,
      "metadata": {
        "id": "wJHehLoTUFfj"
      },
      "outputs": [],
      "source": [
        "a = np.array([1, 2, 3, 4])\n",
        "# Simple assignment does not copy\n",
        "b = a\n",
        "print(b is a) # True"
      ]
    },
    {
      "cell_type": "code",
      "execution_count": null,
      "metadata": {
        "id": "9KGyiU66UFfj"
      },
      "outputs": [],
      "source": [
        "# Use copy method to copy arrays\n",
        "c = a.copy()\n",
        "print(c is a) # False"
      ]
    },
    {
      "cell_type": "markdown",
      "metadata": {
        "id": "XUvAZTUdUFfj"
      },
      "source": [
        "### Creating arrays"
      ]
    },
    {
      "cell_type": "markdown",
      "metadata": {
        "id": "vJcVQVEEUFfj"
      },
      "source": [
        "Fortunately, we do not have to create explicitly all our arrays and NumPy provides some\n",
        "functions to help us for the common situations."
      ]
    },
    {
      "cell_type": "code",
      "execution_count": null,
      "metadata": {
        "id": "gXhecWM4UFfj"
      },
      "outputs": [],
      "source": [
        "# Create arrays full of zeros\n",
        "v = np.zeros(17)\n",
        "m = np.zeros((3, 4)) # Note the tuple argument\n",
        "print(v); print(m)"
      ]
    },
    {
      "cell_type": "code",
      "execution_count": null,
      "metadata": {
        "id": "X1s0K1DGUFfk"
      },
      "outputs": [],
      "source": [
        "# Create arrays full of ones\n",
        "v = np.ones(17)\n",
        "m = np.ones((3, 4))\n",
        "print(v); print(m)"
      ]
    },
    {
      "cell_type": "code",
      "execution_count": null,
      "metadata": {
        "id": "BbIfM5NQUFfk"
      },
      "outputs": [],
      "source": [
        "# Create arrays with uninitialized entries\n",
        "v = np.empty(17)\n",
        "m = np.empty((3, 4))\n",
        "print(v); print(m)"
      ]
    },
    {
      "cell_type": "markdown",
      "metadata": {
        "id": "4ORrFVggUFfk"
      },
      "source": [
        "We have also at our disposal such tools for matrices:"
      ]
    },
    {
      "cell_type": "code",
      "execution_count": null,
      "metadata": {
        "id": "SZ_fNCyiUFfk"
      },
      "outputs": [],
      "source": [
        "# Identity matrix\n",
        "m = np.identity(5)\n",
        "print(m)"
      ]
    },
    {
      "cell_type": "code",
      "execution_count": null,
      "metadata": {
        "id": "PaFUzOHpUFfk"
      },
      "outputs": [],
      "source": [
        "# Diagonal matrix from a vector\n",
        "v = np.array([1.0, 2.0, 3.0])\n",
        "m = np.diag(v)\n",
        "print(m)"
      ]
    },
    {
      "cell_type": "code",
      "execution_count": null,
      "metadata": {
        "id": "sXqeNvplUFfk"
      },
      "outputs": [],
      "source": [
        "# Vector from the matrix diagonal\n",
        "m = np.array([[1.0, 2.0],\n",
        "[3.0, 4.0]])\n",
        "v = m.diagonal() # Equivalent to n = np.diag(m)\n",
        "print(v)"
      ]
    },
    {
      "cell_type": "markdown",
      "metadata": {
        "id": "Ks6SJn7MUFfk"
      },
      "source": [
        "To avoid difficult commands based on `range` when creating arrays, NumPy provides two\n",
        "useful functions. The first one, `arange` is similar to `range` but the returned object is an array. The second function, `linspace`, returns an array of evenly spaced numbers over a specified\n",
        "interval. This second function is very useful to plot a function, for instance."
      ]
    },
    {
      "cell_type": "code",
      "execution_count": null,
      "metadata": {
        "id": "zfhzTYsqUFfk"
      },
      "outputs": [],
      "source": [
        "# Create arrays in range style\n",
        "v = np.arange(17); print(v)"
      ]
    },
    {
      "cell_type": "code",
      "execution_count": null,
      "metadata": {
        "id": "_MbX-EvQUFfl"
      },
      "outputs": [],
      "source": [
        "v = np.arange(8, 17); print(v)"
      ]
    },
    {
      "cell_type": "code",
      "execution_count": null,
      "metadata": {
        "id": "sXtnhaU9UFfl"
      },
      "outputs": [],
      "source": [
        "v = np.arange(8, 17, 2); print(v)"
      ]
    },
    {
      "cell_type": "code",
      "execution_count": null,
      "metadata": {
        "id": "23eajK12UFfl"
      },
      "outputs": [],
      "source": [
        "# Useful for matrices too!\n",
        "m = np.arange(8, 17).reshape(3, 3)\n",
        "print(m)"
      ]
    },
    {
      "cell_type": "code",
      "execution_count": null,
      "metadata": {
        "id": "GVxDbLYfUFfl"
      },
      "outputs": [],
      "source": [
        "# Evenly spaced numbers\n",
        "x = np.linspace(2, 3, 10); print(x)"
      ]
    },
    {
      "cell_type": "code",
      "execution_count": null,
      "metadata": {
        "id": "hLx5ivV3UFfl"
      },
      "outputs": [],
      "source": [
        "# Useful to plot a function\n",
        "import matplotlib.pyplot as plt\n",
        "\n",
        "x = np.linspace(0, 1, 256)\n",
        "plt.plot(x, np.sin(2 * np.pi * x), 'r-')\n",
        "plt.grid()"
      ]
    },
    {
      "cell_type": "markdown",
      "metadata": {
        "id": "uKsRu84FUFfl"
      },
      "source": [
        "### Indexing with boolean arrays"
      ]
    },
    {
      "cell_type": "markdown",
      "metadata": {
        "id": "R8pdwHR8UFfl"
      },
      "source": [
        "NumPy offers a syntax based on boolean arrays to access some items in an array. This way\n",
        "can be very useful when we handle data sets and it is available to get values but also to modify\n",
        "them."
      ]
    },
    {
      "cell_type": "code",
      "execution_count": null,
      "metadata": {
        "id": "oJKC_jZIUFfl"
      },
      "outputs": [],
      "source": [
        "# Note the concatenation\n",
        "a = np.append(np.arange(10), np.arange(8, -1, -1))\n",
        "a"
      ]
    },
    {
      "cell_type": "code",
      "execution_count": null,
      "metadata": {
        "id": "PlzhsXnHUFfm"
      },
      "outputs": [],
      "source": [
        "# Explicit boolean array ...\n",
        "b = [i % 3 != 0 for i in range(len(a))]\n",
        "print(a[b])"
      ]
    },
    {
      "cell_type": "code",
      "execution_count": null,
      "metadata": {
        "id": "9Saxm2WvUFfm"
      },
      "outputs": [],
      "source": [
        "# ... or determined by conditions\n",
        "b = a >= 7\n",
        "print(a[b])"
      ]
    },
    {
      "cell_type": "code",
      "execution_count": null,
      "metadata": {
        "id": "e871h7eLUFfm"
      },
      "outputs": [],
      "source": [
        "# Useful to modify values\n",
        "import matplotlib.pyplot as plt\n",
        "\n",
        "x = np.linspace(-2 * np.pi, 2 * np.pi, 256)\n",
        "y = np.sin(x)\n",
        "y[y > 0.5] = 0.5 # Nice syntax, isn't it?\n",
        "plt.plot(x, y);"
      ]
    },
    {
      "cell_type": "code",
      "execution_count": null,
      "metadata": {
        "id": "qk7kojd8UFfm"
      },
      "outputs": [],
      "source": [
        "# With matrices\n",
        "a = np.arange(12).reshape(3,4)\n",
        "b1 = np.array([False,True,True])\n",
        "b2 = np.array([True,False,True,False])\n",
        "a[b1, :] # Selecting rows"
      ]
    },
    {
      "cell_type": "code",
      "execution_count": null,
      "metadata": {
        "id": "SEP_jVsMUFfm"
      },
      "outputs": [],
      "source": [
        "a[:, b2] # Selecting columns"
      ]
    },
    {
      "cell_type": "code",
      "execution_count": null,
      "metadata": {
        "id": "1TfFSZCFUFfm"
      },
      "outputs": [],
      "source": [
        "a[b1, b2] # Selecting both"
      ]
    },
    {
      "cell_type": "markdown",
      "metadata": {
        "id": "AGV-rWK9UFfm"
      },
      "source": [
        "### More with matrices"
      ]
    },
    {
      "cell_type": "markdown",
      "metadata": {
        "id": "FeoQ3KugUFfm"
      },
      "source": [
        "When we are working with matrices, more specific operations and tools are needed. First,\n",
        "there are common matrices operations."
      ]
    },
    {
      "cell_type": "code",
      "execution_count": null,
      "metadata": {
        "id": "EWGFjXtgUFfm"
      },
      "outputs": [],
      "source": [
        "m1 = np.array([[1,1], [0,1]])\n",
        "m2 = np.array([[2,0], [3,4]])\n",
        "\n",
        "# Addition works as usual\n",
        "print(m1 + m2)"
      ]
    },
    {
      "cell_type": "code",
      "execution_count": null,
      "metadata": {
        "id": "C7_mUwDjUFfn"
      },
      "outputs": [],
      "source": [
        "# Be careful with multiplication!\n",
        "print(m1 * m2) # Item by item"
      ]
    },
    {
      "cell_type": "code",
      "execution_count": null,
      "metadata": {
        "id": "ysXSEnh7UFfn"
      },
      "outputs": [],
      "source": [
        "print(m1.dot(m2)) # Right matrix multiplication"
      ]
    },
    {
      "cell_type": "code",
      "execution_count": null,
      "metadata": {
        "id": "RYCb51brUFfn"
      },
      "outputs": [],
      "source": [
        "print(np.dot(m1, m2)) # Idem from np namespace"
      ]
    },
    {
      "cell_type": "code",
      "execution_count": null,
      "metadata": {
        "id": "8Q4vyR_ZUFfn"
      },
      "outputs": [],
      "source": [
        "# Many NumPy functions can be applied on axis (sum, mean, min, ...)\n",
        "print(m1.sum()) # Sum of all items"
      ]
    },
    {
      "cell_type": "code",
      "execution_count": null,
      "metadata": {
        "id": "LPL49x3vUFfn"
      },
      "outputs": [],
      "source": [
        "print(m1.sum(axis=0)) # Sum of each column"
      ]
    },
    {
      "cell_type": "code",
      "execution_count": null,
      "metadata": {
        "id": "Lm-incQZUFfn"
      },
      "outputs": [],
      "source": [
        "print(m1.sum(axis=1)) # Sum of each row"
      ]
    },
    {
      "cell_type": "markdown",
      "metadata": {
        "id": "dVDT3qTeUFfn"
      },
      "source": [
        "Of course, NumPy also supplies tools to handle matrices as `array` objects in Python scripts."
      ]
    },
    {
      "cell_type": "code",
      "execution_count": null,
      "metadata": {
        "id": "X1choMTUUFfn"
      },
      "outputs": [],
      "source": [
        "# Stacking rows and columns\n",
        "v1 = np.array([1, 2, 3])\n",
        "v2 = np.array([4, 5, 6])\n",
        "m1 = np.vstack((v1, v2)) # Pay attention to tuple\n",
        "print(m1)"
      ]
    },
    {
      "cell_type": "code",
      "execution_count": null,
      "metadata": {
        "id": "wEHTtguXUFfo"
      },
      "outputs": [],
      "source": [
        "m2 = np.hstack((v1, v2)) # One line\n",
        "print(m2)"
      ]
    },
    {
      "cell_type": "code",
      "execution_count": null,
      "metadata": {
        "id": "LXTHgcNBUFfo"
      },
      "outputs": [],
      "source": [
        "v1 = np.array([[1], [2], [3]])\n",
        "v2 = np.array([[4], [5], [6]])\n",
        "m3 = np.hstack((v1, v2)) # Three lines\n",
        "print(m3)"
      ]
    },
    {
      "cell_type": "code",
      "execution_count": null,
      "metadata": {
        "id": "LwAaZMurUFfo"
      },
      "outputs": [],
      "source": [
        "# Iterate on matrix rows\n",
        "for row in m3:\n",
        "    print('--->', row)"
      ]
    },
    {
      "cell_type": "code",
      "execution_count": null,
      "metadata": {
        "id": "VqepDsyYUFfo"
      },
      "outputs": [],
      "source": [
        "# Iterate on matrix elements\n",
        "for item in m3.flat: # Operator flat\n",
        "    print('--->', item)"
      ]
    },
    {
      "cell_type": "markdown",
      "metadata": {
        "id": "qWywmD3nUFfo"
      },
      "source": [
        "Matrix calculation with NumPy is not restricted to such elementary operations and a\n",
        "large set of linear alegra tools are supplied. Note that some functions have to be taken from\n",
        "the submodule `numpy.linalg` (see [module documentation](https://docs.scipy.org/doc/numpy/reference/routines.linalg.html) for details)."
      ]
    },
    {
      "cell_type": "code",
      "execution_count": null,
      "metadata": {
        "id": "WxgCPlwsUFfo"
      },
      "outputs": [],
      "source": [
        "m1 = np.arange(12).reshape(3, 4)\n",
        "m2 = np.array([[3, 1, 2],\n",
        "               [2, 0, 5],\n",
        "               [1, 2, 3]])\n",
        "\n",
        "# Transpose operator\n",
        "print(m1.T)\n",
        "print(m1.transpose())\n",
        "print(np.transpose(m1))"
      ]
    },
    {
      "cell_type": "code",
      "execution_count": null,
      "metadata": {
        "id": "_rIl1UOjUFfo"
      },
      "outputs": [],
      "source": [
        "# Determinant and trace operators\n",
        "print(np.linalg.det(m2))\n",
        "print(np.trace(m2)) # Or m2.trace()"
      ]
    },
    {
      "cell_type": "code",
      "execution_count": null,
      "metadata": {
        "id": "6kJFnaGiUFfp"
      },
      "outputs": [],
      "source": [
        "# Inverse matrix\n",
        "np.linalg.inv(m1) # Raise a LinAlgError exception"
      ]
    },
    {
      "cell_type": "code",
      "execution_count": null,
      "metadata": {
        "id": "f95bUygLUFfp"
      },
      "outputs": [],
      "source": [
        "m2_inv = np.linalg.inv(m2)\n",
        "print(np.dot(m2, m2_inv))"
      ]
    },
    {
      "cell_type": "code",
      "execution_count": null,
      "metadata": {
        "id": "-XFGJLFCUFfp"
      },
      "outputs": [],
      "source": [
        "# Eigenvalues and eigenvectors\n",
        "np.linalg.eigh(np.dot(m1, m1.T)) # For Hermitian matrix only\n",
        "np.linalg.eig(m2) # Otherwise, right eigenvectors are returned"
      ]
    },
    {
      "cell_type": "markdown",
      "metadata": {
        "id": "Qn_9rmN5UFfp"
      },
      "source": [
        "More advanced procedures are at your disposal and we encourage you to browse the\n",
        "[NumPy documentation](https://docs.scipy.org/doc/) to discover all the possibilities. As an example, we give below the\n",
        "commands to perform a least squares polynomial fit."
      ]
    },
    {
      "cell_type": "code",
      "execution_count": null,
      "metadata": {
        "id": "NJNOqp2vUFfp"
      },
      "outputs": [],
      "source": [
        "import numpy as np\n",
        "import matplotlib.pyplot as plt\n",
        "\n",
        "x = np.array([0.0, 1.0, 2.0, 3.0, 4.0, 5.0])\n",
        "y = np.array([0.0, 0.8, 0.9, 0.1, -0.8, -1.0])\n",
        "z = np.polyfit(x, y, 3) # Polynomial of degree 3\n",
        "\n",
        "print(z) # Array z contains the coefficients of the polynomial\n",
        "\n",
        "plt.plot(x, y, 'bo')\n",
        "plt.axis([-1, 6, -2, 2])\n",
        "\n",
        "# Create a function for polynomial given by z\n",
        "pol_z = np.poly1d(z)\n",
        "plt.plot(x, pol_z(x), 'r--');"
      ]
    },
    {
      "cell_type": "markdown",
      "metadata": {
        "id": "ltvWz5qwUFfp"
      },
      "source": [
        "### A bit of randomness"
      ]
    },
    {
      "cell_type": "markdown",
      "metadata": {
        "id": "xW8ERz4JUFfp"
      },
      "source": [
        "Among a lot of other things, NumPy supplies [a large set of random generators](https://docs.scipy.org/doc/numpy-1.16.1/reference/routines.random.html) in the sub-\n",
        "module `numpy.random`. Some distribution are already available in the standard library but,\n",
        "with `numpy.random` functions, you are able to directly get array objects."
      ]
    },
    {
      "cell_type": "code",
      "execution_count": null,
      "metadata": {
        "id": "1JAElz8HUFfq"
      },
      "outputs": [],
      "source": [
        "import numpy.random as rnd"
      ]
    },
    {
      "cell_type": "markdown",
      "metadata": {
        "id": "Wim8H5HkUFfq"
      },
      "source": [
        "Random arrays."
      ]
    },
    {
      "cell_type": "code",
      "execution_count": null,
      "metadata": {
        "id": "YY0JjdSkUFfq"
      },
      "outputs": [],
      "source": [
        "rnd.rand(3)"
      ]
    },
    {
      "cell_type": "code",
      "execution_count": null,
      "metadata": {
        "id": "R998GDUTUFfq"
      },
      "outputs": [],
      "source": [
        "rnd.randn(2, 3) # Standard normal distribution"
      ]
    },
    {
      "cell_type": "markdown",
      "metadata": {
        "id": "0jlH4sZ2UFfq"
      },
      "source": [
        "Random sample."
      ]
    },
    {
      "cell_type": "code",
      "execution_count": null,
      "metadata": {
        "id": "7f1RDKxHUFfq"
      },
      "outputs": [],
      "source": [
        "rnd.choice(np.array([17, 8, 19, 1, 3, 15]), 4) # With replace"
      ]
    },
    {
      "cell_type": "code",
      "execution_count": null,
      "metadata": {
        "id": "UpFqAAmCUFfq"
      },
      "outputs": [],
      "source": [
        "rnd.choice(np.array([17, 8, 19, 1, 3, 15]), 4, False) # No replace"
      ]
    },
    {
      "cell_type": "markdown",
      "metadata": {
        "id": "DCdNiBk7UFfq"
      },
      "source": [
        "Distributions."
      ]
    },
    {
      "cell_type": "code",
      "execution_count": null,
      "metadata": {
        "id": "emeGpE9rUFfq"
      },
      "outputs": [],
      "source": [
        "rnd.standard_exponential(5) # Standard exponential"
      ]
    },
    {
      "cell_type": "code",
      "execution_count": null,
      "metadata": {
        "id": "q7tZVulmUFfr"
      },
      "outputs": [],
      "source": [
        "rnd.exponential(2, 5) # Exponential with parameter 2"
      ]
    },
    {
      "cell_type": "code",
      "execution_count": null,
      "metadata": {
        "id": "go-cf8ikUFfr"
      },
      "outputs": [],
      "source": [
        "rnd.poisson(np.pi, 10) # Poisson with parameter pi"
      ]
    },
    {
      "cell_type": "markdown",
      "metadata": {
        "id": "Hk7PyiajUFfr"
      },
      "source": [
        "As an illustration, let us run a Brownian motion simulation in the plane:"
      ]
    },
    {
      "cell_type": "code",
      "execution_count": null,
      "metadata": {
        "id": "sRmrQ-KnUFfr"
      },
      "outputs": [],
      "source": [
        "import numpy as np\n",
        "import numpy.random as rnd\n",
        "import matplotlib.pyplot as plt\n",
        "\n",
        "n = 10000\n",
        "u = rnd.choice([-1, 1], n).cumsum() / np.sqrt(n)\n",
        "v = rnd.choice([-1, 1], n).cumsum() / np.sqrt(n)\n",
        "\n",
        "plt.plot(u, v, 'k-')"
      ]
    }
  ],
  "metadata": {
    "kernelspec": {
      "display_name": "Python 3",
      "language": "python",
      "name": "python3"
    },
    "language_info": {
      "codemirror_mode": {
        "name": "ipython",
        "version": 3
      },
      "file_extension": ".py",
      "mimetype": "text/x-python",
      "name": "python",
      "nbconvert_exporter": "python",
      "pygments_lexer": "ipython3",
      "version": "3.7.3"
    },
    "colab": {
      "provenance": [],
      "collapsed_sections": [
        "wo1CS4oqUFeL",
        "sHezjBxzUFeR",
        "XchY3ExbUFeR",
        "Ql4q1U_CUFeU",
        "Q4OUjqRIUFeZ",
        "x2ymIQWFUFej",
        "vDyTofU7UFeo",
        "oDVJbLPcUFer",
        "ZUdqe4v8UFfO",
        "V7pjK1mFUFfP",
        "fs0mc7QUUFfQ",
        "zI00OgjHUFfR",
        "3DYoij9BUFfT",
        "NTTa1oiHUFfU",
        "jntP0XBiUFfX",
        "cJicI7wuUFfX",
        "03bc8FhfUFfZ",
        "XAPEWnU9UFfa"
      ],
      "include_colab_link": true
    }
  },
  "nbformat": 4,
  "nbformat_minor": 0
}